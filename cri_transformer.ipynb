{
 "cells": [
  {
   "cell_type": "markdown",
   "id": "cb85b797-6fbb-45ec-8654-4c0f8656331b",
   "metadata": {},
   "source": [
    "### !/usr/bin/env python\n",
    "# coding: utf-8\n",
    "\n",
    "# ## Spiking Transformer Implementation\n",
    "\n",
    "# In[1]:\n",
    "\n",
    "\n",
    "#imports x\n",
    "import snntorch as snn\n",
    "from snntorch import spikegen\n",
    "from snntorch import surrogate\n",
    "import torch\n",
    "from snntorch import functional as SF\n",
    "from snntorch import utils\n",
    "from snntorch import spikeplot as splt\n",
    "from snntorch import spikegen\n",
    "import torch.nn as nn\n",
    "import numpy as np\n",
    "from torch.utils.data import DataLoader\n",
    "from torchvision import datasets, transforms\n",
    "from torch.nn.parameter import Parameter\n",
    "from timm.models.layers import to_2tuple, trunc_normal_, DropPath\n",
    "import torch.nn.functional as F\n",
    "import matplotlib.pyplot as plt\n",
    "from torchsummary import summary\n",
    "from tqdm import tqdm, trange\n",
    "from torch.utils.tensorboard import SummaryWriter\n",
    "\n",
    "# ### Import CIFAR datasets\n",
    "\n",
    "# In[2]:\n",
    "\n",
    "\n",
    "# dataloader arguments\n",
    "dtype = torch.float\n",
    "device = torch.device(\"cuda\") if torch.cuda.is_available() else torch.device(\"cpu\")\n",
    "writer = SummaryWriter()\n",
    "\n",
    "# In[3]:\n",
    "\n",
    "\n",
    "# Define a transform\n",
    "transform = transforms.Compose([\n",
    "            transforms.ToTensor()])\n",
    "\n",
    "batch_size = 4\n",
    "\n",
    "CIFAR_train = datasets.CIFAR10(root='./data', train=True, download=True, transform=transform)\n",
    "CIFAR_test = datasets.CIFAR10(root='./data', train=False, download=True, transform=transform)\n",
    "classes = CIFAR_train.classes\n",
    "\n",
    "#reduce datasize\n",
    "# subsets_train = list(range(0, len(CIFAR_train), 10))\n",
    "# subsets_test = list(range(0, len(CIFAR_test), 10))\n",
    "\n",
    "CIFAR_train = torch.utils.data.Subset(CIFAR_train, subsets_train)\n",
    "CIFAR_test = torch.utils.data.Subset(CIFAR_test, subsets_test)\n",
    "\n",
    "train_loader = DataLoader(CIFAR_train,batch_size=batch_size,shuffle=True)\n",
    "test_loader = DataLoader(CIFAR_test,batch_size=batch_size,shuffle=True)"
   ]
  },
  {
   "cell_type": "code",
   "execution_count": 2,
   "id": "62f3cbda-4a51-465b-b66d-eab02869f269",
   "metadata": {},
   "outputs": [],
   "source": [
    "H, W = 32, 32\n",
    "\n",
    "\n",
    "train_iter = iter(train_loader)\n",
    "data, targets = next(train_iter)\n",
    "# for data, targets in train_iter:\n",
    "#     for i in range(0,4):\n",
    "#         plt.subplot(1, 4, i+1)\n",
    "#         plt.imshow(np.rot90(np.array(data[i]).T, k=-1))\n",
    "#         plt.title(classes[targets[i]])\n",
    "#     break\n",
    "    \n",
    "    \n",
    "\n",
    "\n",
    "# ## Define the network\n",
    "\n",
    "# ### SPS layers\n",
    "# Given input image $I \\in (T, C, H, W)$ where $T$ is the time step, $C$ is the color channel, $H$ and $W$ are the height and width of the image. The spikeing patch splitting (SPS) linearly project $I$ to a $D$ dimensional spike-form feature vector and splits it into a sequence of $N$ flattened spike-form patches $x$. \n",
    "# $$ x = SPS(I) \\\\ I \\in R^{T*C*H*W}, x \\in R^{T*N*D}$$\n",
    "\n",
    "# In[6]:\n",
    "\n",
    "\n",
    "# Temporal Dynamics\n",
    "beta = 1.0\n",
    "spike_grad = surrogate.sigmoid(slope=4)\n",
    "\n",
    "\n",
    "# In[7]:\n",
    "\n",
    "\n",
    "class SPS(nn.Module):\n",
    "    def __init__(self, img_size_h=32, img_size_w=32, patch_size=4,\n",
    "                 in_channels=3, embed_dims=256, beta = 1.0):\n",
    "        super().__init__()\n",
    "        self.image_size = [img_size_h, img_size_w]\n",
    "      \n",
    "        patch_size = to_2tuple(patch_size)\n",
    "        self.patch_size = patch_size\n",
    "        self.C = in_channels\n",
    "        self.H, self.W = self.image_size[0] // patch_size[0], self.image_size[1] // patch_size[1]\n",
    "        self.num_patches = self.H * self.W\n",
    "        self.proj_conv = nn.Conv2d(in_channels, embed_dims//8, kernel_size=3, stride=1, padding=1, bias=False)\n",
    "        self.proj_bn = nn.BatchNorm2d(embed_dims//8)\n",
    "        self.proj_lif = snn.Leaky(beta=beta, spike_grad=spike_grad, threshold = 1, init_hidden=True, output = True)\n",
    "\n",
    "        self.proj_conv1 = nn.Conv2d(embed_dims//8, embed_dims//4, kernel_size=3, stride=1, padding=1, bias=False)\n",
    "        self.proj_bn1 = nn.BatchNorm2d(embed_dims//4)\n",
    "        self.proj_lif1 = snn.Leaky(beta=beta, spike_grad=spike_grad,threshold = 1, init_hidden=True, output = True)\n",
    "\n",
    "        self.proj_conv2 = nn.Conv2d(embed_dims//4, embed_dims//2, kernel_size=3, stride=1, padding=1, bias=False)\n",
    "        self.proj_bn2 = nn.BatchNorm2d(embed_dims//2)\n",
    "        self.proj_lif2 = snn.Leaky(beta=beta, spike_grad=spike_grad,threshold = 1, init_hidden=True, output = True)\n",
    "        self.maxpool2 = torch.nn.MaxPool2d(kernel_size=3, stride=2, padding=1, dilation=1, ceil_mode=False)\n",
    "\n",
    "        self.proj_conv3 = nn.Conv2d(embed_dims//2, embed_dims, kernel_size=3, stride=1, padding=1, bias=False)\n",
    "        self.proj_bn3 = nn.BatchNorm2d(embed_dims)\n",
    "        self.proj_lif3 = snn.Leaky(beta=beta, spike_grad=spike_grad,threshold = 1, init_hidden=True, output = True)\n",
    "        self.maxpool3 = torch.nn.MaxPool2d(kernel_size=3, stride=2, padding=1, dilation=1, ceil_mode=False)\n",
    "\n",
    "        self.rpe_conv = nn.Conv2d(embed_dims, embed_dims, kernel_size=3, stride=1, padding=1, bias=False)\n",
    "        self.rpe_bn = nn.BatchNorm2d(embed_dims)\n",
    "        self.rpe_lif = snn.Leaky(beta=beta, spike_grad=spike_grad,threshold = 1, init_hidden=True, output = True)\n",
    "\n",
    "    def forward(self, x):\n",
    "        # #Do we need to init mem here?\n",
    "        \n",
    "        T, B, C, H, W = x.shape\n",
    "        x = self.proj_conv(x.flatten(0, 1)) # have some fire value\n",
    "        cur0 = self.proj_bn(x).reshape(T, B, -1, H, W).contiguous()\n",
    "        spk0, mem = self.proj_lif(cur0)\n",
    "        spk0 = spk0.flatten(0, 1).contiguous()\n",
    "\n",
    "        x = self.proj_conv1(spk0)\n",
    "        cur1 = self.proj_bn1(x).reshape(T, B, -1, H, W).contiguous()\n",
    "        spk1, mem  = self.proj_lif1(cur1)\n",
    "        spk1 = spk1.flatten(0, 1).contiguous()\n",
    "\n",
    "        x = self.proj_conv2(spk1)\n",
    "        cur2 = self.proj_bn2(x).reshape(T, B, -1, H, W).contiguous()\n",
    "        spk2, mem = self.proj_lif2(cur2)\n",
    "        spk2 = spk2.flatten(0, 1).contiguous()\n",
    "        x = self.maxpool2(spk2)\n",
    "\n",
    "        x = self.proj_conv3(x)\n",
    "        cur3 = self.proj_bn3(x).reshape(T, B, -1, H//2, W//2).contiguous()\n",
    "        spk3, mem  = self.proj_lif3(cur3)\n",
    "        spk3  = spk3.flatten(0, 1).contiguous()\n",
    "        x = self.maxpool3(spk3)\n",
    "\n",
    "        x_feat = x.reshape(T, B, -1, H//4, W//4).contiguous()\n",
    "        x = self.rpe_conv(x)\n",
    "        cur4 = self.rpe_bn(x).reshape(T, B, -1, H//4, W//4).contiguous()\n",
    "        spk4, mem  = self.rpe_lif(cur4)\n",
    "        spk4 = spk4 + x_feat\n",
    "\n",
    "        spk4 = spk4.flatten(-2).transpose(-1, -2)  # T,B,N,C\n",
    "        return spk4\n",
    "\n",
    "\n",
    "# In[8]:\n",
    "\n",
    "\n",
    "data, targets = next(train_iter)"
   ]
  },
  {
   "cell_type": "code",
   "execution_count": 3,
   "id": "c2027a46-41f8-4ee9-b958-b52993bb65e6",
   "metadata": {},
   "outputs": [
    {
     "data": {
      "text/plain": [
       "torch.Size([4, 3, 32, 32])"
      ]
     },
     "execution_count": 3,
     "metadata": {},
     "output_type": "execute_result"
    }
   ],
   "source": [
    "data.shape"
   ]
  },
  {
   "cell_type": "code",
   "execution_count": 4,
   "id": "96d86f28-4b3b-412a-a9dc-6e020684cdeb",
   "metadata": {
    "scrolled": true
   },
   "outputs": [
    {
     "name": "stderr",
     "output_type": "stream",
     "text": [
      "/tmp/ipykernel_340979/2461177339.py:1: UserWarning: The use of `x.T` on tensors of dimension other than 2 to reverse their shape is deprecated and it will throw an error in a future release. Consider `x.mT` to transpose batches of matricesor `x.permute(*torch.arange(x.ndim - 1, -1, -1))` to reverse the dimensions of a tensor. (Triggered internally at  ../aten/src/ATen/native/TensorShape.cpp:2985.)\n",
      "  plt.imshow(np.rot90(data[0].T, k = -1))\n"
     ]
    },
    {
     "data": {
      "image/png": "[encoded data removed]",
      "text/plain": [
       "<Figure size 640x480 with 1 Axes>"
      ]
     },
     "metadata": {},
     "output_type": "display_data"
    }
   ],
   "source": [
    "plt.imshow(np.rot90(data[0].T, k = -1))\n",
    "plt.title(classes[targets[0]])\n",
    "sps = SPS(H,W,in_channels=3)\n",
    "sps_out = sps(data[None,:])"
   ]
  },
  {
   "cell_type": "code",
   "execution_count": 5,
   "id": "af81d81c-6427-44b9-9947-860c6a8ad149",
   "metadata": {
    "scrolled": true
   },
   "outputs": [
    {
     "data": {
      "text/plain": [
       "(1, 4, 64, 256)"
      ]
     },
     "execution_count": 5,
     "metadata": {},
     "output_type": "execute_result"
    }
   ],
   "source": [
    "sps_out.detach().numpy().shape"
   ]
  },
  {
   "cell_type": "code",
   "execution_count": 6,
   "id": "c0dc4419-7849-40b7-ab94-18859f5e5813",
   "metadata": {
    "scrolled": true
   },
   "outputs": [
    {
     "data": {
      "text/plain": [
       "<matplotlib.colorbar.Colorbar at 0x7f126205f9d0>"
      ]
     },
     "execution_count": 6,
     "metadata": {},
     "output_type": "execute_result"
    },
    {
     "data": {
      "image/png": "[encoded data removed]",
      "text/plain": [
       "<Figure size 640x480 with 65 Axes>"
      ]
     },
     "metadata": {},
     "output_type": "display_data"
    }
   ],
   "source": [
    "sps_out_patches = sps_out[0,0,0:4,:].detach().numpy().reshape((64,4,4))\n",
    "for i in range(0,64):\n",
    "    plt.subplot(8, 8, i+1)\n",
    "    plt.imshow(sps_out_patches[i,:,:])\n",
    "    plt.title(\"D {0}\".format(i))\n",
    "    plt.axis('off')\n",
    "plt.subplots_adjust(bottom=0.1, right=0.8, top=0.9)\n",
    "cax = plt.axes([0.85, 0.2, 0.05, 0.6])\n",
    "plt.colorbar(cax=cax)"
   ]
  },
  {
   "cell_type": "code",
   "execution_count": 7,
   "id": "d83c0270-85d5-4f2b-8e94-9860d7c26a7c",
   "metadata": {
    "scrolled": true
   },
   "outputs": [],
   "source": [
    "# ### Vanilla Self-Attention \n",
    "# Given input feature sequence $ X \\in R^{T*N*D}$, the VSA in ViT has three float-point key component, query(Q_F), key(K_F), and value(V_F) which are calculated by learnable linear matrices $W_Q, W_K, W_V \\in R^{D*D}$ and $X$:\n",
    "# $$ Q_F = XW_Q, K_F = XW_K, V_F = XW_V $$\n",
    "# where $F$ denotes the float-point form. The output of vanilla self-attention can be computed as:\n",
    "# $$VSA(Q_F, K_F, V_F) = Softmax(\\frac{Q_F K^{T}_F}{\\sqrt{d}})$$\n",
    "\n",
    "# ### Spiking Self-Attention Mechanism\n",
    "# The query(Q), key(K), and value(V) are computed through learnable matrices. They become spiking sequences via different spike neuron layers:\n",
    "# $$Q = SN_Q(BN(XW_Q)) \\\\ K = SN_K(BN(XW_K)) \\\\ V = SN_V(BN(XW_V))$$\n",
    "# where $Q, K, V \\in R^{T*N*D}$. \n",
    "# A scaling factor s is added to control the large value of the matrix multiplication result. The spike-friendly SSA is defined as:\n",
    "# $$SSA' = (Q, K, V) = SN(Q,K^T, V*s) \\\\ SSA (Q, K, V) = SN(BN(Linear(SSA'(Q, K, V))))$$\n",
    "#   \n",
    "\n",
    "# In[13]:\n",
    "\n",
    "\n",
    "class SSA(nn.Module):\n",
    "    def __init__(self, dim, num_heads=4, qkv_bias=False, qk_scale=None, attn_drop=0., proj_drop=0., sr_ratio=1):\n",
    "        super().__init__()\n",
    "        assert dim % num_heads == 0, f\"dim {dim} should be divided by num_heads {num_heads}.\"\n",
    "        self.dim = dim\n",
    "        self.num_heads = num_heads\n",
    "        self.scale = 0.125\n",
    "        self.q_linear = nn.Linear(dim, dim)\n",
    "        self.q_bn = nn.BatchNorm1d(dim)\n",
    "        self.q_lif =snn.Leaky(beta=beta, spike_grad=spike_grad,threshold = 1, init_hidden=True)\n",
    "\n",
    "        self.k_linear = nn.Linear(dim, dim)\n",
    "        self.k_bn = nn.BatchNorm1d(dim)\n",
    "        self.k_lif = snn.Leaky(beta=beta, spike_grad=spike_grad,threshold = 1, init_hidden=True)\n",
    "\n",
    "        self.v_linear = nn.Linear(dim, dim)\n",
    "        self.v_bn = nn.BatchNorm1d(dim)\n",
    "        self.v_lif = snn.Leaky(beta=beta, spike_grad=spike_grad,threshold = 1, init_hidden=True)\n",
    "        #scaling factor s? \n",
    "        #default threshold = 1.0, attn_lif threshold = 0.5 \n",
    "        self.attn_lif = snn.Leaky(beta=beta, spike_grad=spike_grad,threshold = 0.5, init_hidden=True)\n",
    "\n",
    "        self.proj_linear = nn.Linear(dim, dim)\n",
    "        self.proj_bn = nn.BatchNorm1d(dim)\n",
    "        self.proj_lif = snn.Leaky(beta=beta, spike_grad=spike_grad,threshold = 1, init_hidden=True)\n",
    "\n",
    "    def forward(self, x):\n",
    "        T,B,N,C = x.shape\n",
    "\n",
    "        x_for_qkv = x.flatten(0, 1)  # TB, N, C\n",
    "        q_linear_out = self.q_linear(x_for_qkv)  # [TB, N, C]\n",
    "        cur_q = self.q_bn(q_linear_out. transpose(-1, -2)).transpose(-1, -2).reshape(T, B, N, C).contiguous()\n",
    "        spk_q = self.q_lif(cur_q)\n",
    "        q = spk_q.reshape(T, B, N, self.num_heads, C//self.num_heads).permute(0, 1, 3, 2, 4).contiguous()\n",
    "\n",
    "        k_linear_out = self.k_linear(x_for_qkv)\n",
    "        cur_k = self.k_bn(k_linear_out. transpose(-1, -2)).transpose(-1, -2).reshape(T,B,C,N).contiguous()\n",
    "        spk_k = self.k_lif(cur_k)\n",
    "        k = spk_k.reshape(T, B, N, self.num_heads, C//self.num_heads).permute(0, 1, 3, 2, 4).contiguous()\n",
    "\n",
    "        v_linear_out = self.v_linear(x_for_qkv)\n",
    "        cur_v = self.v_bn(v_linear_out. transpose(-1, -2)).transpose(-1, -2).reshape(T,B,C,N).contiguous()\n",
    "        spk_v = self.v_lif(cur_v)\n",
    "        v = spk_v.reshape(T, B, N, self.num_heads, C//self.num_heads).permute(0, 1, 3, 2, 4).contiguous()\n",
    "\n",
    "        attn = (q @ k.transpose(-2, -1)) * self.scale\n",
    "        x = attn @ v\n",
    "        cur_s = x.transpose(2, 3).reshape(T, B, N, C).contiguous()\n",
    "        spk_s = self.attn_lif(cur_s)\n",
    "        spk_s = spk_s.flatten(0, 1)\n",
    "        spk_p= self.proj_lif(self.proj_bn(self.proj_linear(spk_s).transpose(-1, -2)).transpose(-1, -2).reshape(T, B, N, C))\n",
    "        return spk_p\n",
    "\n",
    "\n",
    "# In[14]:\n",
    "\n",
    "\n",
    "# ssa = SSA(dim = 384)\n",
    "# ssa_out = ssa(sps_out)\n",
    "\n",
    "\n",
    "# In[15]:\n",
    "\n",
    "\n",
    "# ssa_out.detach().numpy().shape\n",
    "\n",
    "\n",
    "# In[16]:\n",
    "\n",
    "\n",
    "# plt.imshow(ssa_out[0,0].detach().numpy())\n",
    "# plt.subplots_adjust(bottom=0.1, right=0.8, top=0.9)\n",
    "# cax = plt.axes([0.85, 0.4, 0.02, 0.2])\n",
    "# plt.colorbar(cax=cax)\n",
    "\n",
    "\n",
    "# In[17]:\n",
    "\n",
    "\n",
    "# ssa_out_patches = ssa_out[0,0,0,:].detach().numpy().reshape((24,4,4))\n",
    "# for i in range(0,24):\n",
    "#     plt.subplot(4, 6, i+1)\n",
    "#     plt.imshow(ssa_out_patches[i,:,:])\n",
    "#     plt.title(\"D {0}\".format(i))\n",
    "#     plt.axis('off')\n",
    "# plt.subplots_adjust(bottom=0.1, right=0.8, top=0.9)\n",
    "# cax = plt.axes([0.85, 0.2, 0.05, 0.6])\n",
    "# plt.colorbar(cax=cax)\n",
    "\n",
    "\n",
    "# ### MLP with batch normalization\n",
    "\n",
    "# In[18]:\n",
    "\n",
    "\n",
    "class MLP(nn.Module):\n",
    "    def __init__(self, in_features, hidden_features=None, out_features=None, drop=0.):\n",
    "        super().__init__()\n",
    "        out_features = out_features or in_features\n",
    "        hidden_features = hidden_features or in_features\n",
    "        self.fc1_linear = nn.Linear(in_features, hidden_features)\n",
    "        self.fc1_bn = nn.BatchNorm1d(hidden_features)\n",
    "        self.fc1_lif = snn.Leaky(beta=beta, spike_grad=spike_grad,threshold = 1, init_hidden=True)\n",
    "\n",
    "        self.fc2_linear = nn.Linear(hidden_features, out_features)\n",
    "        self.fc2_bn = nn.BatchNorm1d(out_features)\n",
    "        self.fc2_lif = snn.Leaky(beta=beta, spike_grad=spike_grad,threshold = 1, init_hidden=True)\n",
    "\n",
    "\n",
    "        self.c_hidden = hidden_features\n",
    "        self.c_output = out_features\n",
    "\n",
    "    def forward(self, x):\n",
    "        \n",
    "        #Time step, Batch size, \n",
    "        T,B,N,C = x.shape\n",
    "        \n",
    "        x_ = x.flatten(0, 1)\n",
    "        x = self.fc1_linear(x_)\n",
    "        cur1 = self.fc1_bn(x.transpose(-1, -2)).transpose(-1, -2).reshape(T, B, N, self.c_hidden).contiguous()\n",
    "        spk1 = self.fc1_lif(cur1)\n",
    "\n",
    "        x = self.fc2_linear(spk1.flatten(0,1))\n",
    "        cur2 = self.fc2_bn(x.transpose(-1, -2)).transpose(-1, -2).reshape(T, B, N, C).contiguous()\n",
    "        spk2 = self.fc2_lif(cur2)\n",
    "        #print(\"MLP\", spk2)\n",
    "        return spk2\n",
    "\n",
    "\n",
    "# In[19]:\n",
    "\n",
    "\n",
    "# mlp = MLP(in_features=384)\n",
    "# mlp_out = mlp(ssa_out)\n",
    "\n",
    "\n",
    "# ### Encoder block \n",
    "# The embedded patches are passed into L-block Spikformer encoder. Similar to a standard Vit encoder block, a spikformer encoder block consists of a spiking self attention (SSA) and an MLP block. Residual connections are applied in botht the SSA and MLP block. \n",
    "# $$X'_l = SSA(X_{l-1}) + X_{l-1} \\quad\\quad X'_l \\in R^{T*N*D}, l = 1...L\\\\ X_l = MLP(X'_l) + X'_l \\quad\\quad X_l \\in R^{T*N*D}, l = 1...L$$\n",
    "\n",
    "# In[20]:\n",
    "\n",
    "\n",
    "class Block(nn.Module):\n",
    "    def __init__(self, dim, num_heads, mlp_ratio=4., qkv_bias=False, qk_scale=None, drop=0., attn_drop=0.,\n",
    "                 drop_path=0., norm_layer=nn.LayerNorm, sr_ratio=1):\n",
    "        super().__init__()\n",
    "        self.norm1 = norm_layer(dim)\n",
    "        self.attn = SSA(dim, num_heads=num_heads, qkv_bias=qkv_bias, qk_scale=qk_scale,\n",
    "                              attn_drop=attn_drop, proj_drop=drop, sr_ratio=sr_ratio)\n",
    "        self.norm2 = norm_layer(dim)\n",
    "        mlp_hidden_dim = int(dim * mlp_ratio)\n",
    "        self.mlp = MLP(in_features=dim, hidden_features=mlp_hidden_dim, drop=drop)\n",
    "\n",
    "    def forward(self, x):\n",
    "        #residual connection\n",
    "        x_attn = self.attn(x)\n",
    "        x = x + x_attn\n",
    "        x = x + self.mlp(x)\n",
    "        return x\n",
    "\n",
    "\n",
    "# ### Spikformer\n",
    "# A global avergae-pooling (GAP) is utilized on the processed feature from spikformerr encoder and outputs the D-dimension feature which will be sent to the fully connected layer classfication head to output the prediction Y. \n",
    "# $$Y = CH(GAP(X_L))$$\n",
    "# \n",
    "\n",
    "# In[21]:\n",
    "\n",
    "\n",
    "class Spikeformer(nn.Module):\n",
    "    def __init__(self, img_size_h = 32, img_size_w = 32, patch_size = 4, \n",
    "                 in_channels=3, num_classes=10, embed_dims=256, num_heads=2, \n",
    "                 mlp_ratios = 4, qkv_bias = False, qk_scale = None, drop_rate=0., \n",
    "                 attn_drop_rate = 0., norm_layer=nn.LayerNorm, depths = 1, sr_ratios=1.,T = 12):\n",
    "        super().__init__()\n",
    "        self.T = T\n",
    "        self.num_classes = num_classes\n",
    "        self.depths = depths\n",
    "        \n",
    "        patch_embed = SPS(img_size_h=img_size_h,\n",
    "                                 img_size_w=img_size_w,\n",
    "                                 patch_size=patch_size,\n",
    "                                 in_channels=in_channels,\n",
    "                                 embed_dims=embed_dims)\n",
    "        block = nn.ModuleList([Block(dim=embed_dims, num_heads=num_heads, mlp_ratio=mlp_ratios, \n",
    "                                     qkv_bias=qkv_bias,qk_scale=qk_scale, drop=drop_rate, \n",
    "                                     attn_drop=attn_drop_rate, norm_layer=norm_layer, \n",
    "                                     sr_ratio=sr_ratios) for j in range(depths)])\n",
    "        setattr(self, f\"patch_embed\", patch_embed)\n",
    "        setattr(self, f\"block\", block)\n",
    "        # classification head\n",
    "        self.head = nn.Linear(embed_dims, num_classes) if num_classes > 0 else nn.Identity()\n",
    "        self.lif = snn.Leaky(beta=beta, spike_grad=spike_grad, threshold = 1, init_hidden=True, output = True)\n",
    "        self.apply(self._init_weights)\n",
    "        \n",
    "    def _get_pos_embed(self, pos_embed, patch_embed, H, W):\n",
    "        if H * W == self.patch_embed1.num_patches:\n",
    "            return pos_embed\n",
    "        else:\n",
    "            return F.interpolate(\n",
    "                pos_embed.reshape(1, patch_embed.H, patch_embed.W, -1).permute(0, 3, 1, 2),\n",
    "                size=(H, W), mode=\"bilinear\").reshape(1, -1, H * W).permute(0, 2, 1)\n",
    "\n",
    "    def _init_weights(self, m):\n",
    "        if isinstance(m, nn.Linear):\n",
    "            trunc_normal_(m.weight, std=.02)\n",
    "            if isinstance(m, nn.Linear) and m.bias is not None:\n",
    "                nn.init.constant_(m.bias, 0)\n",
    "        elif isinstance(m, nn.LayerNorm):\n",
    "            nn.init.constant_(m.bias, 0)\n",
    "            nn.init.constant_(m.weight, 1.0)\n",
    "\n",
    "    def forward_features(self, x):\n",
    "\n",
    "        block = getattr(self, f\"block\")\n",
    "        patch_embed = getattr(self, f\"patch_embed\")\n",
    "\n",
    "        x = patch_embed(x)\n",
    "        for blk in block:\n",
    "            x = blk(x)\n",
    "        return x.mean(2)\n",
    "\n",
    "    def forward(self, x):\n",
    "    \n",
    "        # data = spikegen.rate(x,self.T)\n",
    "        spk_rec = []\n",
    "        mem_rec = []\n",
    "        data = (x.unsqueeze(0)).repeat(self.T, 1, 1, 1, 1)\n",
    "        for q in data:\n",
    "            x = self.forward_features(q[None,:])\n",
    "            cur = self.head(x.mean(0))\n",
    "            spk, mem = self.lif(cur)\n",
    "            spk_rec.append(spk)\n",
    "            mem_rec.append(mem)\n",
    "        return torch.stack(spk_rec,dim=0), torch.stack(mem_rec, dim=0)\n",
    "\n",
    "\n",
    "# In[22]:\n",
    "\n",
    "\n",
    "#send the model weight to gpub\n",
    "net = Spikeformer()\n",
    "if torch.cuda.is_available():\n",
    "    net.cuda()"
   ]
  },
  {
   "cell_type": "code",
   "execution_count": 8,
   "id": "a18d0971-5656-4a69-b0d9-e283d9bc01c8",
   "metadata": {},
   "outputs": [],
   "source": [
    "out = net.block[0](net.patch_embed(data[None,:].to(device)))"
   ]
  },
  {
   "cell_type": "code",
   "execution_count": 9,
   "id": "a2e43c65-6c74-4d57-9007-ea4e39377d1b",
   "metadata": {},
   "outputs": [
    {
     "data": {
      "text/plain": [
       "torch.Size([1, 4, 64, 256])"
      ]
     },
     "execution_count": 9,
     "metadata": {},
     "output_type": "execute_result"
    }
   ],
   "source": [
    "out.shape"
   ]
  },
  {
   "cell_type": "code",
   "execution_count": 10,
   "id": "e0f57a84-c61e-4aa2-bb4e-522b05b08077",
   "metadata": {},
   "outputs": [
    {
     "data": {
      "text/plain": [
       "<matplotlib.colorbar.Colorbar at 0x7f1261183a60>"
      ]
     },
     "execution_count": 10,
     "metadata": {},
     "output_type": "execute_result"
    },
    {
     "data": {
      "image/png": "[encoded data removed]",
      "text/plain": [
       "<Figure size 640x480 with 65 Axes>"
      ]
     },
     "metadata": {},
     "output_type": "display_data"
    }
   ],
   "source": [
    "out_patches = out[0,0,0:4,:].cpu().detach().numpy().reshape((64,4,4))\n",
    "for i in range(0,64):\n",
    "    plt.subplot(8, 8, i+1)\n",
    "    plt.imshow(out_patches[i,:,:])\n",
    "    plt.title(\"D {0}\".format(i))\n",
    "    plt.axis('off')\n",
    "plt.subplots_adjust(bottom=0.1, right=0.8, top=0.9)\n",
    "cax = plt.axes([0.85, 0.2, 0.05, 0.6])\n",
    "plt.colorbar(cax=cax)"
   ]
  },
  {
   "cell_type": "code",
   "execution_count": 11,
   "id": "b1018731-aecb-4867-ac4a-01a37e110843",
   "metadata": {},
   "outputs": [
    {
     "data": {
      "text/plain": [
       "(tensor([[[0., 0., 0., 0., 0., 0., 0., 0., 0., 0.],\n",
       "          [0., 0., 0., 0., 0., 0., 0., 0., 0., 0.],\n",
       "          [0., 0., 0., 0., 1., 0., 0., 0., 0., 0.],\n",
       "          [0., 0., 0., 0., 0., 0., 0., 0., 0., 0.]],\n",
       " \n",
       "         [[0., 0., 0., 0., 1., 0., 0., 0., 0., 1.],\n",
       "          [0., 0., 0., 0., 1., 0., 0., 0., 0., 1.],\n",
       "          [0., 0., 0., 0., 1., 0., 0., 0., 0., 0.],\n",
       "          [0., 0., 0., 0., 1., 0., 0., 0., 0., 1.]],\n",
       " \n",
       "         [[0., 0., 1., 0., 1., 1., 0., 0., 0., 0.],\n",
       "          [0., 0., 1., 0., 1., 0., 0., 0., 0., 0.],\n",
       "          [0., 0., 0., 0., 1., 0., 0., 0., 0., 1.],\n",
       "          [0., 0., 1., 0., 1., 0., 0., 0., 0., 0.]],\n",
       " \n",
       "         [[0., 0., 0., 0., 1., 0., 0., 0., 0., 1.],\n",
       "          [0., 0., 0., 0., 1., 1., 0., 0., 0., 1.],\n",
       "          [0., 0., 1., 0., 1., 1., 0., 0., 0., 1.],\n",
       "          [0., 0., 0., 0., 1., 1., 0., 0., 0., 1.]],\n",
       " \n",
       "         [[0., 0., 0., 0., 1., 1., 0., 0., 0., 0.],\n",
       "          [0., 0., 1., 0., 1., 0., 0., 0., 0., 1.],\n",
       "          [0., 0., 0., 0., 1., 0., 0., 0., 0., 0.],\n",
       "          [0., 0., 1., 0., 1., 0., 0., 0., 0., 0.]],\n",
       " \n",
       "         [[0., 0., 1., 0., 1., 0., 0., 0., 0., 1.],\n",
       "          [0., 0., 0., 0., 1., 0., 0., 0., 0., 0.],\n",
       "          [0., 0., 0., 0., 1., 1., 0., 0., 0., 1.],\n",
       "          [0., 0., 0., 0., 1., 0., 0., 0., 0., 1.]],\n",
       " \n",
       "         [[0., 0., 0., 0., 1., 0., 0., 0., 0., 0.],\n",
       "          [0., 0., 1., 0., 1., 1., 0., 0., 0., 1.],\n",
       "          [0., 0., 1., 0., 1., 0., 0., 0., 0., 0.],\n",
       "          [0., 0., 1., 0., 1., 1., 0., 0., 0., 0.]],\n",
       " \n",
       "         [[0., 0., 1., 0., 1., 1., 0., 0., 0., 1.],\n",
       "          [0., 0., 0., 0., 1., 0., 0., 0., 0., 0.],\n",
       "          [0., 0., 0., 0., 1., 0., 0., 0., 0., 1.],\n",
       "          [0., 0., 0., 0., 1., 0., 0., 0., 0., 1.]],\n",
       " \n",
       "         [[0., 0., 0., 0., 1., 0., 0., 0., 0., 0.],\n",
       "          [0., 0., 1., 0., 1., 0., 0., 0., 0., 1.],\n",
       "          [0., 0., 0., 0., 1., 1., 0., 0., 0., 0.],\n",
       "          [0., 0., 1., 0., 1., 0., 0., 0., 0., 0.]],\n",
       " \n",
       "         [[0., 0., 1., 0., 1., 1., 0., 0., 0., 1.],\n",
       "          [0., 0., 0., 0., 1., 1., 0., 0., 0., 1.],\n",
       "          [0., 0., 1., 0., 1., 0., 0., 0., 0., 1.],\n",
       "          [0., 0., 0., 0., 1., 0., 0., 0., 0., 1.]],\n",
       " \n",
       "         [[0., 0., 0., 0., 1., 0., 0., 0., 0., 0.],\n",
       "          [0., 0., 1., 0., 1., 0., 0., 0., 0., 0.],\n",
       "          [0., 0., 0., 0., 1., 0., 0., 0., 0., 0.],\n",
       "          [0., 0., 1., 0., 1., 1., 0., 0., 0., 0.]],\n",
       " \n",
       "         [[0., 0., 0., 0., 1., 1., 0., 0., 0., 1.],\n",
       "          [0., 0., 0., 0., 1., 0., 0., 0., 0., 1.],\n",
       "          [0., 0., 1., 0., 1., 1., 0., 0., 0., 1.],\n",
       "          [0., 0., 0., 0., 1., 0., 0., 0., 0., 1.]]], device='cuda:0',\n",
       "        grad_fn=<StackBackward0>),\n",
       " tensor([[[-1.7268e-01, -1.5666e-01,  3.9559e-01, -3.4054e-01,  9.8296e-01,\n",
       "            3.8197e-01, -5.2439e-01, -4.1789e-01, -4.7985e-01,  5.3603e-01],\n",
       "          [-3.1766e-04, -1.5390e-01,  4.5560e-01, -4.3979e-01,  9.4751e-01,\n",
       "            2.7007e-01, -5.1846e-01, -3.8650e-01, -2.5579e-01,  5.6096e-01],\n",
       "          [-9.5733e-02, -1.2675e-01,  2.9411e-01, -3.5514e-01,  1.0691e+00,\n",
       "            2.8588e-01, -5.0199e-01, -4.1693e-01, -2.5592e-01,  4.8880e-01],\n",
       "          [-4.2675e-02, -1.8996e-01,  4.4645e-01, -3.7283e-01,  9.6243e-01,\n",
       "            2.9357e-01, -5.2132e-01, -4.5716e-01, -3.0196e-01,  5.3559e-01]],\n",
       " \n",
       "         [[-3.0084e-01, -3.5642e-01,  7.7677e-01, -6.7531e-01,  1.9419e+00,\n",
       "            7.6628e-01, -1.0084e+00, -8.7952e-01, -9.6050e-01,  1.0542e+00],\n",
       "          [-3.5470e-03, -2.8063e-01,  9.6064e-01, -8.8629e-01,  1.9146e+00,\n",
       "            5.9218e-01, -1.0304e+00, -7.9083e-01, -5.5104e-01,  1.1470e+00],\n",
       "          [-1.4973e-01, -2.2265e-01,  6.0571e-01, -7.6971e-01,  1.1912e+00,\n",
       "            6.2223e-01, -1.0170e+00, -8.8876e-01, -5.8747e-01,  9.9330e-01],\n",
       "          [-1.1881e-01, -3.6410e-01,  8.6401e-01, -8.1923e-01,  2.0097e+00,\n",
       "            5.7021e-01, -1.0289e+00, -9.3145e-01, -6.3928e-01,  1.0109e+00]],\n",
       " \n",
       "         [[-4.6370e-01, -5.3812e-01,  1.1767e+00, -9.8776e-01,  1.9160e+00,\n",
       "            1.1697e+00, -1.4604e+00, -1.3770e+00, -1.4143e+00,  5.2965e-01],\n",
       "          [-7.5254e-03, -4.4198e-01,  1.4558e+00, -1.3416e+00,  1.9537e+00,\n",
       "            8.9607e-01, -1.5524e+00, -1.1943e+00, -8.3960e-01,  7.9641e-01],\n",
       "          [-2.1182e-01, -4.0960e-01,  9.2654e-01, -1.1702e+00,  1.3263e+00,\n",
       "            9.8389e-01, -1.5795e+00, -1.3560e+00, -9.5266e-01,  1.5040e+00],\n",
       "          [-2.2977e-01, -5.1380e-01,  1.2955e+00, -1.2347e+00,  2.0686e+00,\n",
       "            8.4887e-01, -1.5780e+00, -1.3972e+00, -9.8035e-01,  5.2959e-01]],\n",
       " \n",
       "         [[-6.3377e-01, -7.2334e-01,  5.7364e-01, -1.2857e+00,  1.8553e+00,\n",
       "            5.8497e-01, -1.8822e+00, -1.8441e+00, -1.8944e+00,  1.0399e+00],\n",
       "          [ 2.8959e-02, -5.9934e-01,  9.2972e-01, -1.8258e+00,  2.0280e+00,\n",
       "            1.2475e+00, -2.0761e+00, -1.6035e+00, -1.1347e+00,  1.4102e+00],\n",
       "          [-2.5534e-01, -5.5798e-01,  1.2718e+00, -1.5849e+00,  1.4732e+00,\n",
       "            1.3212e+00, -2.1356e+00, -1.8439e+00, -1.2859e+00,  1.0228e+00],\n",
       "          [-3.4217e-01, -6.9717e-01,  7.4742e-01, -1.6372e+00,  2.2082e+00,\n",
       "            1.1531e+00, -2.0728e+00, -1.8686e+00, -1.3013e+00,  1.0292e+00]],\n",
       " \n",
       "         [[-7.7099e-01, -8.8348e-01,  9.8539e-01, -1.5823e+00,  1.7758e+00,\n",
       "            1.0218e+00, -2.3348e+00, -2.3165e+00, -2.3323e+00,  5.6939e-01],\n",
       "          [ 7.2297e-03, -7.9099e-01,  1.4010e+00, -2.2742e+00,  2.0849e+00,\n",
       "            5.5166e-01, -2.6920e+00, -2.0423e+00, -1.4148e+00,  1.0173e+00],\n",
       "          [-3.1870e-01, -7.2965e-01,  5.9901e-01, -2.0203e+00,  1.5853e+00,\n",
       "            6.6634e-01, -2.6894e+00, -2.3532e+00, -1.6340e+00,  5.2311e-01],\n",
       "          [-4.6147e-01, -8.9189e-01,  1.2082e+00, -2.0626e+00,  2.3493e+00,\n",
       "            4.6882e-01, -2.6269e+00, -2.4181e+00, -1.6277e+00,  5.5365e-01]],\n",
       " \n",
       "         [[-8.6908e-01, -1.0174e+00,  1.4158e+00, -1.8660e+00,  1.7039e+00,\n",
       "            4.8477e-01, -2.7782e+00, -2.7560e+00, -2.7752e+00,  1.0628e+00],\n",
       "          [-3.8859e-02, -9.3103e-01,  8.8334e-01, -2.7576e+00,  2.2141e+00,\n",
       "            8.2971e-01, -3.2609e+00, -2.4625e+00, -1.7147e+00,  6.4647e-01],\n",
       "          [-3.3912e-01, -9.1018e-01,  9.6315e-01, -2.4429e+00,  1.7423e+00,\n",
       "            1.0076e+00, -3.2815e+00, -2.8533e+00, -1.9937e+00,  1.0536e+00],\n",
       "          [-5.6347e-01, -1.0844e+00,  7.0411e-01, -2.5321e+00,  2.5105e+00,\n",
       "            7.3510e-01, -3.1721e+00, -2.9300e+00, -1.9011e+00,  1.1004e+00]],\n",
       " \n",
       "         [[-1.0130e+00, -1.1650e+00,  8.0926e-01, -2.1526e+00,  1.6069e+00,\n",
       "            9.4228e-01, -3.2077e+00, -3.2303e+00, -3.2231e+00,  5.7861e-01],\n",
       "          [-5.5050e-02, -1.0988e+00,  1.3335e+00, -3.1939e+00,  2.3670e+00,\n",
       "            1.1470e+00, -3.8062e+00, -2.9002e+00, -1.9905e+00,  1.2609e+00],\n",
       "          [-3.4582e-01, -1.1124e+00,  1.3286e+00, -2.8389e+00,  1.8861e+00,\n",
       "            3.7134e-01, -3.8684e+00, -3.3759e+00, -2.3429e+00,  5.5621e-01],\n",
       "          [-6.8251e-01, -1.3140e+00,  1.1961e+00, -2.9672e+00,  2.6755e+00,\n",
       "            1.0137e+00, -3.7033e+00, -3.4262e+00, -2.2236e+00,  6.1562e-01]],\n",
       " \n",
       "         [[-1.1293e+00, -1.3116e+00,  1.2111e+00, -2.4669e+00,  1.5842e+00,\n",
       "            1.3952e+00, -3.6653e+00, -3.6635e+00, -3.6905e+00,  1.0970e+00],\n",
       "          [-7.1280e-02, -1.2619e+00,  8.0645e-01, -3.6727e+00,  2.5031e+00,\n",
       "            4.7407e-01, -4.3821e+00, -3.3717e+00, -2.2772e+00,  8.9346e-01],\n",
       "          [-3.2942e-01, -1.3055e+00,  6.4365e-01, -3.2559e+00,  2.0431e+00,\n",
       "            7.1442e-01, -4.4248e+00, -3.9020e+00, -2.7271e+00,  1.0557e+00],\n",
       "          [-7.9708e-01, -1.5107e+00,  6.5784e-01, -3.4314e+00,  2.8653e+00,\n",
       "            3.2261e-01, -4.2509e+00, -3.9243e+00, -2.5526e+00,  1.1321e+00]],\n",
       " \n",
       "         [[-1.2316e+00, -1.4516e+00,  6.0772e-01, -2.7508e+00,  1.5210e+00,\n",
       "            8.6192e-01, -4.1323e+00, -4.1441e+00, -4.1542e+00,  6.1950e-01],\n",
       "          [-1.2684e-01, -1.4153e+00,  1.2247e+00, -4.1378e+00,  2.6213e+00,\n",
       "            7.8526e-01, -4.9728e+00, -3.8095e+00, -2.5740e+00,  1.5431e+00],\n",
       "          [-3.8427e-01, -1.4676e+00,  9.9938e-01, -3.6434e+00,  2.1695e+00,\n",
       "            1.0655e+00, -5.0099e+00, -4.4046e+00, -3.0779e+00,  5.6749e-01],\n",
       "          [-9.0419e-01, -1.7206e+00,  1.1461e+00, -3.8547e+00,  3.0224e+00,\n",
       "            6.1351e-01, -4.7912e+00, -4.4443e+00, -2.8364e+00,  6.5739e-01]],\n",
       " \n",
       "         [[-1.3333e+00, -1.5910e+00,  1.0144e+00, -3.0297e+00,  1.4482e+00,\n",
       "            1.3144e+00, -4.5786e+00, -4.5921e+00, -4.5665e+00,  1.1340e+00],\n",
       "          [-1.3293e-01, -1.5970e+00,  7.1137e-01, -4.5980e+00,  2.7353e+00,\n",
       "            1.1387e+00, -5.5351e+00, -4.2618e+00, -2.8686e+00,  1.1829e+00],\n",
       "          [-3.5747e-01, -1.6093e+00,  1.3482e+00, -4.0381e+00,  2.2967e+00,\n",
       "            4.2523e-01, -5.5495e+00, -4.9390e+00, -3.4527e+00,  1.1152e+00],\n",
       "          [-1.0421e+00, -1.9167e+00,  6.5775e-01, -4.2983e+00,  3.2008e+00,\n",
       "            9.2241e-01, -5.3556e+00, -4.9168e+00, -3.1558e+00,  1.1915e+00]],\n",
       " \n",
       "         [[-1.4330e+00, -1.7508e+00,  4.2292e-01, -3.3582e+00,  1.3695e+00,\n",
       "            7.5963e-01, -5.0501e+00, -5.0382e+00, -4.9715e+00,  6.9463e-01],\n",
       "          [-1.4114e-01, -1.7583e+00,  1.2065e+00, -5.0611e+00,  2.8762e+00,\n",
       "            4.9752e-01, -6.1151e+00, -4.6954e+00, -3.1648e+00,  8.3786e-01],\n",
       "          [-3.5313e-01, -1.7923e+00,  7.2787e-01, -4.4352e+00,  2.4392e+00,\n",
       "            7.3466e-01, -6.1524e+00, -5.4403e+00, -3.8081e+00,  6.5402e-01],\n",
       "          [-1.1697e+00, -2.1421e+00,  1.1475e+00, -4.7348e+00,  3.3542e+00,\n",
       "            1.2235e+00, -5.9363e+00, -5.4606e+00, -3.4743e+00,  7.2506e-01]],\n",
       " \n",
       "         [[-1.5464e+00, -1.9018e+00,  7.9930e-01, -3.6410e+00,  1.2998e+00,\n",
       "            1.1895e+00, -5.5131e+00, -5.5078e+00, -5.4415e+00,  1.1876e+00],\n",
       "          [-1.7125e-01, -1.9053e+00,  7.0315e-01, -5.5358e+00,  3.0375e+00,\n",
       "            8.0155e-01, -6.6799e+00, -5.1428e+00, -3.4530e+00,  1.4588e+00],\n",
       "          [-3.4930e-01, -1.9668e+00,  1.0991e+00, -4.8012e+00,  2.5907e+00,\n",
       "            1.0713e+00, -6.7141e+00, -5.9184e+00, -4.1895e+00,  1.1798e+00],\n",
       "          [-1.3388e+00, -2.3497e+00,  6.4765e-01, -5.1922e+00,  3.5559e+00,\n",
       "            5.3407e-01, -6.4694e+00, -5.9790e+00, -3.7646e+00,  1.2683e+00]]],\n",
       "        device='cuda:0', grad_fn=<StackBackward0>))"
      ]
     },
     "execution_count": 11,
     "metadata": {},
     "output_type": "execute_result"
    }
   ],
   "source": [
    "net(data.to(device))"
   ]
  },
  {
   "cell_type": "code",
   "execution_count": 12,
   "id": "aa0d6951-c637-40e3-8a4b-9863f99305c8",
   "metadata": {
    "scrolled": true
   },
   "outputs": [
    {
     "name": "stdout",
     "output_type": "stream",
     "text": [
      "=================================================================\n",
      "Layer (type:depth-idx)                   Param #\n",
      "=================================================================\n",
      "├─SPS: 1-1                               --\n",
      "|    └─Conv2d: 2-1                       864\n",
      "|    └─BatchNorm2d: 2-2                  64\n",
      "|    └─Leaky: 2-3                        --\n",
      "|    └─Conv2d: 2-4                       18,432\n",
      "|    └─BatchNorm2d: 2-5                  128\n",
      "|    └─Leaky: 2-6                        --\n",
      "|    └─Conv2d: 2-7                       73,728\n",
      "|    └─BatchNorm2d: 2-8                  256\n",
      "|    └─Leaky: 2-9                        --\n",
      "|    └─MaxPool2d: 2-10                   --\n",
      "|    └─Conv2d: 2-11                      294,912\n",
      "|    └─BatchNorm2d: 2-12                 512\n",
      "|    └─Leaky: 2-13                       --\n",
      "|    └─MaxPool2d: 2-14                   --\n",
      "|    └─Conv2d: 2-15                      589,824\n",
      "|    └─BatchNorm2d: 2-16                 512\n",
      "|    └─Leaky: 2-17                       --\n",
      "├─ModuleList: 1-2                        --\n",
      "|    └─Block: 2-18                       --\n",
      "|    |    └─LayerNorm: 3-1               512\n",
      "|    |    └─SSA: 3-2                     265,216\n",
      "|    |    └─LayerNorm: 3-3               512\n",
      "|    |    └─MLP: 3-4                     528,128\n",
      "├─Linear: 1-3                            2,570\n",
      "├─Leaky: 1-4                             --\n",
      "=================================================================\n",
      "Total params: 1,776,170\n",
      "Trainable params: 1,776,170\n",
      "Non-trainable params: 0\n",
      "=================================================================\n"
     ]
    }
   ],
   "source": [
    "\n",
    "\n",
    "\n",
    "summary(net)\n",
    "\n",
    "\n",
    "\n",
    "def correct_pred(Y, targets):\n",
    "    Y = torch.argmax(Y, axis=1)\n",
    "    return torch.sum(Y==targets).detach().cpu().item()\n",
    "\n",
    "\n",
    "# In[26]:\n",
    "\n",
    "\n",
    "def batch_accuracy(train_loader, net):\n",
    "    with torch.no_grad():\n",
    "        total = 0\n",
    "        acc = 0\n",
    "        net.eval()\n",
    "        \n",
    "        train_loader = iter(train_loader)\n",
    "        for batch in tqdm(train_loader):\n",
    "            data, targets = batch\n",
    "            data = data.to(device)\n",
    "            targets = targets.to(device)\n",
    "            \n",
    "            utils.reset(net)\n",
    "            spk_rec, mem_rec = net(data)\n",
    "            \n",
    "            _, idx = spk_rec.sum(dim=0).max(1)\n",
    "                \n",
    "            acc = np.mean((targets == idx).detach().cpu().numpy())\n",
    "            \n",
    "    return acc\n",
    "\n",
    "\n",
    "# In[ ]:\n",
    "\n",
    "\n",
    "# test_acc = batch_accuracy(test_loader, net)"
   ]
  },
  {
   "cell_type": "code",
   "execution_count": 15,
   "id": "ddef3e90-dfd2-422f-82bb-46b6d5eaf6fd",
   "metadata": {},
   "outputs": [
    {
     "name": "stderr",
     "output_type": "stream",
     "text": [
      "100%|█████████████████████████████████████████| 250/250 [00:09<00:00, 25.04it/s]"
     ]
    },
    {
     "name": "stdout",
     "output_type": "stream",
     "text": [
      "The total accuracy on the test set is: 0.25%\n"
     ]
    },
    {
     "name": "stderr",
     "output_type": "stream",
     "text": [
      "\n"
     ]
    }
   ],
   "source": [
    "test_acc = batch_accuracy(test_loader, net)\n",
    "print(f\"The total accuracy on the test set is: {test_acc*100:.2f}%\")"
   ]
  },
  {
   "cell_type": "code",
   "execution_count": 14,
   "id": "ac2d0ff1-01f2-461e-a444-1dc0c5181fbb",
   "metadata": {
    "scrolled": true
   },
   "outputs": [
    {
     "data": {
      "text/plain": [
       "((tensor([[[0., 0., 0., 0., 1., 0., 0., 0., 0., 0.],\n",
       "           [0., 0., 0., 0., 1., 0., 0., 0., 0., 1.],\n",
       "           [0., 0., 0., 0., 0., 1., 0., 0., 0., 0.],\n",
       "           [0., 0., 0., 0., 0., 0., 0., 0., 0., 1.]],\n",
       "  \n",
       "          [[0., 0., 1., 0., 0., 0., 0., 0., 0., 1.],\n",
       "           [0., 0., 1., 0., 1., 1., 0., 0., 0., 1.],\n",
       "           [0., 0., 0., 0., 1., 0., 0., 0., 0., 1.],\n",
       "           [1., 0., 0., 0., 1., 0., 0., 0., 0., 0.]],\n",
       "  \n",
       "          [[0., 0., 0., 0., 1., 1., 0., 0., 0., 0.],\n",
       "           [0., 0., 0., 0., 0., 0., 0., 0., 0., 0.],\n",
       "           [0., 0., 1., 0., 0., 0., 0., 0., 0., 1.],\n",
       "           [0., 0., 1., 0., 0., 1., 0., 0., 0., 1.]],\n",
       "  \n",
       "          [[0., 0., 0., 0., 0., 0., 0., 0., 0., 1.],\n",
       "           [0., 0., 0., 0., 1., 0., 0., 0., 0., 1.],\n",
       "           [0., 0., 0., 0., 1., 0., 0., 0., 0., 0.],\n",
       "           [0., 0., 0., 0., 1., 0., 0., 0., 0., 1.]],\n",
       "  \n",
       "          [[0., 0., 1., 0., 1., 0., 0., 0., 0., 1.],\n",
       "           [0., 0., 0., 0., 0., 0., 0., 0., 0., 0.],\n",
       "           [0., 0., 1., 0., 0., 1., 0., 0., 0., 1.],\n",
       "           [0., 0., 0., 0., 1., 0., 0., 0., 0., 0.]],\n",
       "  \n",
       "          [[0., 0., 0., 0., 0., 0., 0., 0., 0., 0.],\n",
       "           [0., 0., 1., 0., 1., 1., 0., 0., 0., 1.],\n",
       "           [0., 0., 0., 0., 1., 0., 0., 0., 0., 0.],\n",
       "           [0., 0., 1., 0., 0., 0., 0., 0., 0., 1.]],\n",
       "  \n",
       "          [[0., 0., 0., 0., 1., 0., 0., 0., 0., 1.],\n",
       "           [1., 0., 0., 0., 0., 0., 0., 0., 0., 0.],\n",
       "           [0., 0., 0., 0., 1., 0., 0., 0., 0., 1.],\n",
       "           [1., 0., 0., 0., 1., 0., 0., 0., 0., 0.]],\n",
       "  \n",
       "          [[1., 0., 1., 0., 0., 1., 0., 0., 0., 0.],\n",
       "           [0., 0., 0., 0., 1., 0., 0., 0., 0., 1.],\n",
       "           [0., 0., 1., 0., 0., 0., 0., 0., 0., 0.],\n",
       "           [0., 0., 0., 0., 0., 1., 0., 0., 0., 1.]],\n",
       "  \n",
       "          [[0., 0., 0., 0., 1., 0., 0., 0., 0., 1.],\n",
       "           [0., 0., 1., 0., 0., 0., 0., 0., 0., 1.],\n",
       "           [0., 0., 0., 0., 1., 1., 0., 0., 0., 1.],\n",
       "           [0., 0., 1., 0., 1., 0., 0., 0., 0., 1.]],\n",
       "  \n",
       "          [[0., 0., 0., 0., 0., 0., 0., 0., 0., 0.],\n",
       "           [0., 0., 0., 0., 1., 0., 0., 0., 0., 0.],\n",
       "           [0., 0., 0., 0., 0., 0., 0., 0., 0., 1.],\n",
       "           [0., 0., 0., 0., 0., 0., 0., 0., 0., 0.]],\n",
       "  \n",
       "          [[0., 0., 1., 0., 1., 0., 0., 0., 0., 1.],\n",
       "           [0., 0., 0., 0., 0., 1., 0., 0., 0., 1.],\n",
       "           [0., 0., 1., 0., 1., 0., 0., 0., 0., 0.],\n",
       "           [0., 0., 0., 0., 1., 0., 0., 0., 0., 1.]],\n",
       "  \n",
       "          [[0., 0., 0., 0., 1., 0., 0., 0., 0., 1.],\n",
       "           [0., 0., 0., 0., 1., 0., 0., 0., 0., 0.],\n",
       "           [0., 0., 0., 0., 0., 0., 0., 0., 0., 1.],\n",
       "           [0., 0., 0., 0., 0., 0., 0., 0., 0., 0.]]], device='cuda:0',\n",
       "         grad_fn=<StackBackward0>),\n",
       "  tensor([[[ 0.4653, -1.9276,  0.9897, -3.0849,  1.0074,  0.6359, -4.4581,\n",
       "            -2.9038, -1.6819,  0.8107],\n",
       "           [ 0.2546, -1.6995,  0.7242, -3.0745,  1.4289,  0.8645, -4.0048,\n",
       "            -2.4608, -1.5691,  1.4518],\n",
       "           [ 0.3471, -1.9604,  0.6124, -2.5884,  0.8852,  1.0540, -3.9154,\n",
       "            -2.9775, -1.6433,  0.9504],\n",
       "           [ 0.9157, -2.0757,  0.6320, -3.0697,  0.7769,  0.5567, -4.1039,\n",
       "            -2.9589, -1.5799,  1.4101]],\n",
       "  \n",
       "          [[ 0.5578, -2.0823,  1.3601, -3.3431,  0.5725,  0.8461, -4.8448,\n",
       "            -3.1924, -1.8671,  1.3632],\n",
       "           [ 0.3876, -1.8557,  1.0606, -3.3500,  1.0031,  1.0932, -4.2814,\n",
       "            -2.7226, -1.6677,  1.0341],\n",
       "           [ 0.3131, -2.1240,  0.9615, -2.8821,  1.3700,  0.3651, -4.2547,\n",
       "            -3.3131, -1.7197,  1.4992],\n",
       "           [ 1.1065, -2.2843,  0.9525, -3.3349,  1.3370,  0.7898, -4.4485,\n",
       "            -3.2374, -1.6674,  0.9981]],\n",
       "  \n",
       "          [[ 0.5967, -2.2716,  0.6586, -3.6203,  1.1194,  1.0574, -5.2359,\n",
       "            -3.4915, -1.9310,  0.9292],\n",
       "           [ 0.5476, -2.0525,  0.3843, -3.6753,  0.6124,  0.3523, -4.5812,\n",
       "            -3.0215, -1.8136,  0.5806],\n",
       "           [ 0.2979, -2.3383,  1.2785, -3.2000,  0.9367,  0.6448, -4.5237,\n",
       "            -3.5738, -1.8186,  1.0740],\n",
       "           [ 0.2712, -2.5271,  1.2431, -3.5475,  0.9451,  1.0599, -4.8176,\n",
       "            -3.4864, -1.7790,  1.5972]],\n",
       "  \n",
       "          [[ 0.6867, -2.4358,  0.9840, -3.7972,  0.6693,  0.2470, -5.5800,\n",
       "            -3.7925, -2.0954,  1.4817],\n",
       "           [ 0.6191, -2.2258,  0.7107, -3.9805,  1.1563,  0.5832, -4.8899,\n",
       "            -3.3067, -1.9644,  1.1524],\n",
       "           [ 0.3153, -2.5187,  0.6453, -3.4315,  1.4479,  0.9296, -4.8880,\n",
       "            -3.8579, -1.9278,  0.6232],\n",
       "           [ 0.5058, -2.7830,  0.5550, -3.7572,  1.4811,  0.2583, -5.1826,\n",
       "            -3.7547, -1.8782,  1.1785]],\n",
       "  \n",
       "          [[ 0.7658, -2.6344,  1.3531, -4.0615,  1.1693,  0.4730, -5.9700,\n",
       "            -4.0873, -2.2177,  1.0472],\n",
       "           [ 0.7648, -2.4373,  0.9736, -4.2232,  0.6894,  0.7675, -5.2409,\n",
       "            -3.5860, -2.0976,  0.7583],\n",
       "           [ 0.3631, -2.7392,  1.0150, -3.6747,  0.9601,  1.1765, -5.2371,\n",
       "            -4.0731, -2.0465,  1.2052],\n",
       "           [ 0.6926, -3.0158,  0.8581, -4.0711,  1.0096,  0.4896, -5.5229,\n",
       "            -4.0774, -2.0083,  0.7040]],\n",
       "  \n",
       "          [[ 0.8648, -2.8573,  0.6195, -4.2879,  0.7185,  0.6818, -6.3211,\n",
       "            -4.3530, -2.3440,  0.5992],\n",
       "           [ 0.8886, -2.6374,  1.2737, -4.5195,  1.2890,  1.0056, -5.6090,\n",
       "            -3.8468, -2.2028,  1.3505],\n",
       "           [ 0.3830, -2.9716,  0.4117, -3.9193,  1.4874,  0.4519, -5.5094,\n",
       "            -4.3625, -2.1212,  0.8060],\n",
       "           [ 0.8457, -3.2426,  1.1734, -4.3457,  0.5486,  0.6994, -5.8642,\n",
       "            -4.3236, -2.1534,  1.3059]],\n",
       "  \n",
       "          [[ 0.9729, -3.0535,  0.9633, -4.5779,  1.2835,  0.8810, -6.6497,\n",
       "            -4.6314, -2.4642,  1.2333],\n",
       "           [ 1.0433, -2.8267,  0.5694, -4.8040,  0.8506,  0.2235, -5.9330,\n",
       "            -4.0565, -2.3532,  0.9256],\n",
       "           [ 0.3803, -3.1546,  0.7628, -4.1722,  1.1195,  0.6908, -5.8508,\n",
       "            -4.6182, -2.1935,  1.4340],\n",
       "           [ 1.0428, -3.5058,  0.5180, -4.6909,  1.0506,  0.8454, -6.2348,\n",
       "            -4.6307, -2.2925,  0.8908]],\n",
       "  \n",
       "          [[ 1.0397, -3.2971,  1.2497, -4.8135,  0.8411,  1.0698, -7.0366,\n",
       "            -4.8613, -2.5913,  0.7775],\n",
       "           [ 0.1575, -3.0437,  0.8498, -5.0583,  1.3703,  0.4350, -6.2252,\n",
       "            -4.3174, -2.4475,  1.4653],\n",
       "           [ 0.3805, -3.3595,  1.0513, -4.4935,  0.6880,  0.9186, -6.1279,\n",
       "            -4.8533, -2.3122,  0.9912],\n",
       "           [ 0.2050, -3.7601,  0.7768, -5.0161,  0.6030,  1.0726, -6.6009,\n",
       "            -4.9596, -2.4098,  1.4714]],\n",
       "  \n",
       "          [[ 0.1443, -3.4814,  0.5604, -5.0551,  1.4020,  0.2806, -7.3935,\n",
       "            -5.1306, -2.6989,  1.4205],\n",
       "           [ 0.3080, -3.2756,  1.1209, -5.3072,  0.8504,  0.6157, -6.5785,\n",
       "            -4.6051, -2.6207,  1.0324],\n",
       "           [ 0.4304, -3.5597,  0.3860, -4.7305,  1.2651,  1.1812, -6.4911,\n",
       "            -5.0718, -2.4509,  1.5809],\n",
       "           [ 0.4266, -3.9982,  1.0983, -5.3251,  1.1367,  0.2564, -6.9607,\n",
       "            -5.2401, -2.5583,  1.0336]],\n",
       "  \n",
       "          [[ 0.2065, -3.7527,  0.8281, -5.3243,  0.9495,  0.4813, -7.7317,\n",
       "            -5.3939, -2.8138,  0.9774],\n",
       "           [ 0.4134, -3.4763,  0.3644, -5.5900,  1.3746,  0.8213, -6.9306,\n",
       "            -4.8154, -2.7469,  0.6207],\n",
       "           [ 0.4107, -3.7706,  0.7160, -5.0281,  0.8065,  0.4360, -6.8205,\n",
       "            -5.3052, -2.5660,  1.2187],\n",
       "           [ 0.5900, -4.2613,  0.3941, -5.6644,  0.6570,  0.4432, -7.3072,\n",
       "            -5.5592, -2.6590,  0.5767]],\n",
       "  \n",
       "          [[ 0.3091, -3.9742,  1.1726, -5.5903,  1.4692,  0.6814, -8.1029,\n",
       "            -5.6729, -2.8970,  1.6150],\n",
       "           [ 0.5269, -3.7105,  0.6326, -5.8124,  0.9467,  1.0325, -7.2638,\n",
       "            -5.0822, -2.8858,  1.2342],\n",
       "           [ 0.4060, -3.9495,  1.0180, -5.2781,  1.3722,  0.7063, -7.1028,\n",
       "            -5.5621, -2.7485,  0.8103],\n",
       "           [ 0.7405, -4.5261,  0.7116, -5.9978,  1.2065,  0.5871, -7.6747,\n",
       "            -5.8386, -2.7878,  1.1109]],\n",
       "  \n",
       "          [[ 0.3818, -4.2323,  0.4624, -5.8508,  1.0110,  0.9048, -8.4480,\n",
       "            -5.9361, -3.0178,  1.2058],\n",
       "           [ 0.7214, -3.9876,  0.9243, -6.1306,  1.4968,  0.2152, -7.6097,\n",
       "            -5.4059, -3.0343,  0.8264],\n",
       "           [ 0.4771, -4.1147,  0.3228, -5.5255,  0.9281,  0.9676, -7.4236,\n",
       "            -5.7853, -2.8897,  1.4372],\n",
       "           [ 0.9062, -4.7863,  0.9957, -6.3611,  0.7304,  0.7263, -7.9863,\n",
       "            -6.2049, -2.9622,  0.6288]]], device='cuda:0',\n",
       "         grad_fn=<StackBackward0>)),\n",
       " tensor([6, 5, 7, 8]))"
      ]
     },
     "execution_count": 14,
     "metadata": {},
     "output_type": "execute_result"
    }
   ],
   "source": [
    "net(data.to(device)), targets"
   ]
  },
  {
   "cell_type": "code",
   "execution_count": 16,
   "id": "81d7b0db-6a3c-4d0d-a67f-1c8642d8bad0",
   "metadata": {
    "scrolled": true
   },
   "outputs": [
    {
     "name": "stderr",
     "output_type": "stream",
     "text": [
      "  0%|                                          | 3/1250 [00:00<02:03, 10.09it/s]"
     ]
    },
    {
     "name": "stdout",
     "output_type": "stream",
     "text": [
      "Loss:  9.992311477661133\n",
      "Loss:  9.210844039916992\n",
      "Loss:  9.203815460205078\n"
     ]
    },
    {
     "name": "stderr",
     "output_type": "stream",
     "text": [
      "  0%|▏                                         | 5/1250 [00:00<01:56, 10.69it/s]"
     ]
    },
    {
     "name": "stdout",
     "output_type": "stream",
     "text": [
      "Loss:  9.211856842041016\n",
      "Loss:  9.197086334228516\n",
      "Loss:  9.2040433883667\n"
     ]
    },
    {
     "name": "stderr",
     "output_type": "stream",
     "text": [
      "  1%|▎                                         | 9/1250 [00:00<01:54, 10.85it/s]"
     ]
    },
    {
     "name": "stdout",
     "output_type": "stream",
     "text": [
      "Loss:  9.20470142364502\n",
      "Loss:  9.21125602722168\n",
      "Loss:  9.217926025390625\n"
     ]
    },
    {
     "name": "stderr",
     "output_type": "stream",
     "text": [
      "  1%|▎                                        | 11/1250 [00:01<01:52, 11.01it/s]"
     ]
    },
    {
     "name": "stdout",
     "output_type": "stream",
     "text": [
      "Loss:  9.202641487121582\n",
      "Loss:  9.22005844116211\n",
      "Loss:  9.225797653198242\n"
     ]
    },
    {
     "name": "stderr",
     "output_type": "stream",
     "text": [
      "  1%|▍                                        | 15/1250 [00:01<01:52, 11.01it/s]"
     ]
    },
    {
     "name": "stdout",
     "output_type": "stream",
     "text": [
      "Loss:  9.198482513427734\n",
      "Loss:  9.190550804138184\n",
      "Loss:  9.202392578125\n"
     ]
    },
    {
     "name": "stderr",
     "output_type": "stream",
     "text": [
      "  1%|▌                                        | 17/1250 [00:01<01:51, 11.02it/s]"
     ]
    },
    {
     "name": "stdout",
     "output_type": "stream",
     "text": [
      "Loss:  9.208735466003418\n",
      "Loss:  9.218866348266602\n",
      "Loss:  9.217052459716797\n"
     ]
    },
    {
     "name": "stderr",
     "output_type": "stream",
     "text": [
      "  2%|▋                                        | 21/1250 [00:01<01:50, 11.07it/s]"
     ]
    },
    {
     "name": "stdout",
     "output_type": "stream",
     "text": [
      "Loss:  9.210028648376465\n",
      "Loss:  9.212227821350098\n",
      "Loss:  9.175101280212402\n"
     ]
    },
    {
     "name": "stderr",
     "output_type": "stream",
     "text": [
      "  2%|▊                                        | 23/1250 [00:02<01:51, 11.05it/s]"
     ]
    },
    {
     "name": "stdout",
     "output_type": "stream",
     "text": [
      "Loss:  9.19405746459961\n",
      "Loss:  9.205106735229492\n",
      "Loss:  9.197868347167969\n"
     ]
    },
    {
     "name": "stderr",
     "output_type": "stream",
     "text": [
      "  2%|▉                                        | 27/1250 [00:02<01:51, 10.96it/s]"
     ]
    },
    {
     "name": "stdout",
     "output_type": "stream",
     "text": [
      "Loss:  9.252939224243164\n",
      "Loss:  9.22146224975586\n",
      "Loss:  9.211912155151367\n"
     ]
    },
    {
     "name": "stderr",
     "output_type": "stream",
     "text": [
      "  2%|▉                                        | 29/1250 [00:02<01:53, 10.77it/s]"
     ]
    },
    {
     "name": "stdout",
     "output_type": "stream",
     "text": [
      "Loss:  9.207906723022461\n",
      "Loss:  9.215782165527344\n",
      "Loss:  9.190871238708496\n"
     ]
    },
    {
     "name": "stderr",
     "output_type": "stream",
     "text": [
      "  3%|█                                        | 33/1250 [00:03<01:49, 11.11it/s]"
     ]
    },
    {
     "name": "stdout",
     "output_type": "stream",
     "text": [
      "Loss:  9.18000602722168\n",
      "Loss:  9.217177391052246\n",
      "Loss:  9.241429328918457\n"
     ]
    },
    {
     "name": "stderr",
     "output_type": "stream",
     "text": [
      "  3%|█▏                                       | 35/1250 [00:03<01:49, 11.05it/s]"
     ]
    },
    {
     "name": "stdout",
     "output_type": "stream",
     "text": [
      "Loss:  9.193963050842285\n",
      "Loss:  9.175692558288574\n",
      "Loss:  9.241769790649414\n"
     ]
    },
    {
     "name": "stderr",
     "output_type": "stream",
     "text": [
      "  3%|█▎                                       | 39/1250 [00:03<01:50, 10.96it/s]"
     ]
    },
    {
     "name": "stdout",
     "output_type": "stream",
     "text": [
      "Loss:  9.157506942749023\n",
      "Loss:  9.225983619689941\n",
      "Loss:  9.23904037475586\n"
     ]
    },
    {
     "name": "stderr",
     "output_type": "stream",
     "text": [
      "  3%|█▎                                       | 41/1250 [00:03<01:49, 11.03it/s]"
     ]
    },
    {
     "name": "stdout",
     "output_type": "stream",
     "text": [
      "Loss:  9.218201637268066\n",
      "Loss:  9.216436386108398\n",
      "Loss:  9.213813781738281\n"
     ]
    },
    {
     "name": "stderr",
     "output_type": "stream",
     "text": [
      "  4%|█▍                                       | 45/1250 [00:04<01:47, 11.18it/s]"
     ]
    },
    {
     "name": "stdout",
     "output_type": "stream",
     "text": [
      "Loss:  9.213176727294922\n",
      "Loss:  9.223799705505371\n",
      "Loss:  9.219444274902344\n"
     ]
    },
    {
     "name": "stderr",
     "output_type": "stream",
     "text": [
      "  4%|█▌                                       | 47/1250 [00:04<01:47, 11.22it/s]"
     ]
    },
    {
     "name": "stdout",
     "output_type": "stream",
     "text": [
      "Loss:  9.2156982421875\n",
      "Loss:  9.194913864135742\n",
      "Loss:  9.18368911743164\n"
     ]
    },
    {
     "name": "stderr",
     "output_type": "stream",
     "text": [
      "  4%|█▋                                       | 51/1250 [00:04<01:50, 10.83it/s]"
     ]
    },
    {
     "name": "stdout",
     "output_type": "stream",
     "text": [
      "Loss:  9.202756881713867\n",
      "Loss:  9.18864917755127\n",
      "Loss:  9.208468437194824\n"
     ]
    },
    {
     "name": "stderr",
     "output_type": "stream",
     "text": [
      "  4%|█▋                                       | 53/1250 [00:04<01:50, 10.85it/s]"
     ]
    },
    {
     "name": "stdout",
     "output_type": "stream",
     "text": [
      "Loss:  9.189229965209961\n",
      "Loss:  9.219172477722168\n",
      "Loss:  9.167948722839355\n"
     ]
    },
    {
     "name": "stderr",
     "output_type": "stream",
     "text": [
      "  5%|█▊                                       | 57/1250 [00:05<01:51, 10.73it/s]"
     ]
    },
    {
     "name": "stdout",
     "output_type": "stream",
     "text": [
      "Loss:  9.20923137664795\n",
      "Loss:  9.19016170501709\n",
      "Loss:  9.176223754882812\n"
     ]
    },
    {
     "name": "stderr",
     "output_type": "stream",
     "text": [
      "  5%|█▉                                       | 59/1250 [00:05<01:50, 10.79it/s]"
     ]
    },
    {
     "name": "stdout",
     "output_type": "stream",
     "text": [
      "Loss:  9.175820350646973\n",
      "Loss:  9.223962783813477\n",
      "Loss:  9.209385871887207\n"
     ]
    },
    {
     "name": "stderr",
     "output_type": "stream",
     "text": [
      "  5%|██                                       | 63/1250 [00:05<01:48, 10.93it/s]"
     ]
    },
    {
     "name": "stdout",
     "output_type": "stream",
     "text": [
      "Loss:  9.252540588378906\n",
      "Loss:  9.145050048828125\n",
      "Loss:  9.19401741027832\n"
     ]
    },
    {
     "name": "stderr",
     "output_type": "stream",
     "text": [
      "  5%|██▏                                      | 65/1250 [00:05<01:49, 10.86it/s]"
     ]
    },
    {
     "name": "stdout",
     "output_type": "stream",
     "text": [
      "Loss:  9.139203071594238\n",
      "Loss:  9.217082977294922\n"
     ]
    },
    {
     "name": "stderr",
     "output_type": "stream",
     "text": [
      "  5%|██▏                                      | 67/1250 [00:06<02:12,  8.92it/s]"
     ]
    },
    {
     "name": "stdout",
     "output_type": "stream",
     "text": [
      "Loss:  9.263463973999023\n",
      "Loss:  9.214017868041992\n",
      "Loss:  9.14378547668457\n"
     ]
    },
    {
     "name": "stderr",
     "output_type": "stream",
     "text": [
      "  6%|██▎                                      | 71/1250 [00:06<02:00,  9.77it/s]"
     ]
    },
    {
     "name": "stdout",
     "output_type": "stream",
     "text": [
      "Loss:  9.192632675170898\n",
      "Loss:  9.226381301879883\n",
      "Loss:  9.194042205810547\n"
     ]
    },
    {
     "name": "stderr",
     "output_type": "stream",
     "text": [
      "  6%|██▍                                      | 73/1250 [00:06<01:59,  9.88it/s]"
     ]
    },
    {
     "name": "stdout",
     "output_type": "stream",
     "text": [
      "Loss:  9.206583023071289\n",
      "Loss:  9.21194076538086\n",
      "Loss:  9.179544448852539\n"
     ]
    },
    {
     "name": "stderr",
     "output_type": "stream",
     "text": [
      "  6%|██▌                                      | 77/1250 [00:07<01:53, 10.34it/s]"
     ]
    },
    {
     "name": "stdout",
     "output_type": "stream",
     "text": [
      "Loss:  9.222702026367188\n",
      "Loss:  9.244251251220703\n",
      "Loss:  9.201616287231445\n"
     ]
    },
    {
     "name": "stderr",
     "output_type": "stream",
     "text": [
      "  6%|██▌                                      | 79/1250 [00:07<01:50, 10.58it/s]"
     ]
    },
    {
     "name": "stdout",
     "output_type": "stream",
     "text": [
      "Loss:  9.237585067749023\n",
      "Loss:  9.227516174316406\n",
      "Loss:  9.190999984741211\n"
     ]
    },
    {
     "name": "stderr",
     "output_type": "stream",
     "text": [
      "  7%|██▋                                      | 83/1250 [00:07<01:48, 10.73it/s]"
     ]
    },
    {
     "name": "stdout",
     "output_type": "stream",
     "text": [
      "Loss:  9.246904373168945\n",
      "Loss:  9.160453796386719\n",
      "Loss:  9.226372718811035\n"
     ]
    },
    {
     "name": "stderr",
     "output_type": "stream",
     "text": [
      "  7%|██▊                                      | 85/1250 [00:07<01:48, 10.76it/s]"
     ]
    },
    {
     "name": "stdout",
     "output_type": "stream",
     "text": [
      "Loss:  9.156440734863281\n",
      "Loss:  9.26700496673584\n",
      "Loss:  9.196650505065918\n"
     ]
    },
    {
     "name": "stderr",
     "output_type": "stream",
     "text": [
      "  7%|██▉                                      | 89/1250 [00:08<01:46, 10.86it/s]"
     ]
    },
    {
     "name": "stdout",
     "output_type": "stream",
     "text": [
      "Loss:  9.205055236816406\n",
      "Loss:  9.228067398071289\n",
      "Loss:  9.207279205322266\n"
     ]
    },
    {
     "name": "stderr",
     "output_type": "stream",
     "text": [
      "  7%|██▉                                      | 91/1250 [00:08<01:45, 11.02it/s]"
     ]
    },
    {
     "name": "stdout",
     "output_type": "stream",
     "text": [
      "Loss:  9.22695541381836\n",
      "Loss:  9.222752571105957\n",
      "Loss:  9.222951889038086\n"
     ]
    },
    {
     "name": "stderr",
     "output_type": "stream",
     "text": [
      "  8%|███                                      | 95/1250 [00:08<01:46, 10.81it/s]"
     ]
    },
    {
     "name": "stdout",
     "output_type": "stream",
     "text": [
      "Loss:  9.143106460571289\n",
      "Loss:  9.166247367858887\n",
      "Loss:  9.271183967590332\n"
     ]
    },
    {
     "name": "stderr",
     "output_type": "stream",
     "text": [
      "  8%|███▏                                     | 97/1250 [00:09<01:45, 10.88it/s]"
     ]
    },
    {
     "name": "stdout",
     "output_type": "stream",
     "text": [
      "Loss:  9.187402725219727\n",
      "Loss:  9.240846633911133\n",
      "Loss:  9.236598014831543\n"
     ]
    },
    {
     "name": "stderr",
     "output_type": "stream",
     "text": [
      "  8%|███▏                                    | 101/1250 [00:09<01:44, 11.04it/s]"
     ]
    },
    {
     "name": "stdout",
     "output_type": "stream",
     "text": [
      "Loss:  9.179608345031738\n",
      "Loss:  9.264702796936035\n",
      "Loss:  9.200855255126953\n"
     ]
    },
    {
     "name": "stderr",
     "output_type": "stream",
     "text": [
      "  8%|███▎                                    | 103/1250 [00:09<01:44, 10.99it/s]"
     ]
    },
    {
     "name": "stdout",
     "output_type": "stream",
     "text": [
      "Loss:  9.22474479675293\n",
      "Loss:  9.176794052124023\n",
      "Loss:  9.231688499450684\n"
     ]
    },
    {
     "name": "stderr",
     "output_type": "stream",
     "text": [
      "  9%|███▍                                    | 107/1250 [00:09<01:43, 11.03it/s]"
     ]
    },
    {
     "name": "stdout",
     "output_type": "stream",
     "text": [
      "Loss:  9.20185661315918\n",
      "Loss:  9.208520889282227\n",
      "Loss:  9.241995811462402\n"
     ]
    },
    {
     "name": "stderr",
     "output_type": "stream",
     "text": [
      "  9%|███▍                                    | 109/1250 [00:10<01:43, 11.05it/s]"
     ]
    },
    {
     "name": "stdout",
     "output_type": "stream",
     "text": [
      "Loss:  9.24614429473877\n",
      "Loss:  9.179117202758789\n",
      "Loss:  9.209346771240234\n"
     ]
    },
    {
     "name": "stderr",
     "output_type": "stream",
     "text": [
      "  9%|███▌                                    | 113/1250 [00:10<01:43, 10.99it/s]"
     ]
    },
    {
     "name": "stdout",
     "output_type": "stream",
     "text": [
      "Loss:  9.199779510498047\n",
      "Loss:  9.206069946289062\n",
      "Loss:  9.24020004272461\n"
     ]
    },
    {
     "name": "stderr",
     "output_type": "stream",
     "text": [
      "  9%|███▋                                    | 115/1250 [00:10<01:42, 11.07it/s]"
     ]
    },
    {
     "name": "stdout",
     "output_type": "stream",
     "text": [
      "Loss:  9.247564315795898\n",
      "Loss:  9.259613037109375\n",
      "Loss:  9.163846969604492\n"
     ]
    },
    {
     "name": "stderr",
     "output_type": "stream",
     "text": [
      " 10%|███▊                                    | 119/1250 [00:11<01:44, 10.82it/s]"
     ]
    },
    {
     "name": "stdout",
     "output_type": "stream",
     "text": [
      "Loss:  9.254780769348145\n",
      "Loss:  9.179656982421875\n",
      "Loss:  9.230199813842773\n"
     ]
    },
    {
     "name": "stderr",
     "output_type": "stream",
     "text": [
      " 10%|███▊                                    | 121/1250 [00:11<01:44, 10.84it/s]"
     ]
    },
    {
     "name": "stdout",
     "output_type": "stream",
     "text": [
      "Loss:  9.241804122924805\n",
      "Loss:  9.212696075439453\n",
      "Loss:  9.235414505004883\n"
     ]
    },
    {
     "name": "stderr",
     "output_type": "stream",
     "text": [
      " 10%|████                                    | 125/1250 [00:11<01:42, 11.01it/s]"
     ]
    },
    {
     "name": "stdout",
     "output_type": "stream",
     "text": [
      "Loss:  9.230916976928711\n",
      "Loss:  9.201623916625977\n",
      "Loss:  9.162412643432617\n"
     ]
    },
    {
     "name": "stderr",
     "output_type": "stream",
     "text": [
      " 10%|████                                    | 127/1250 [00:11<01:42, 10.99it/s]"
     ]
    },
    {
     "name": "stdout",
     "output_type": "stream",
     "text": [
      "Loss:  9.213873863220215\n",
      "Loss:  9.24091911315918\n",
      "Loss:  9.180570602416992\n"
     ]
    },
    {
     "name": "stderr",
     "output_type": "stream",
     "text": [
      " 10%|████▏                                   | 131/1250 [00:12<01:41, 10.99it/s]"
     ]
    },
    {
     "name": "stdout",
     "output_type": "stream",
     "text": [
      "Loss:  9.203994750976562\n",
      "Loss:  9.23101806640625\n",
      "Loss:  9.171006202697754\n"
     ]
    },
    {
     "name": "stderr",
     "output_type": "stream",
     "text": [
      " 11%|████▎                                   | 133/1250 [00:12<01:41, 11.03it/s]"
     ]
    },
    {
     "name": "stdout",
     "output_type": "stream",
     "text": [
      "Loss:  9.224201202392578\n",
      "Loss:  9.248709678649902\n",
      "Loss:  9.21816635131836\n"
     ]
    },
    {
     "name": "stderr",
     "output_type": "stream",
     "text": [
      " 11%|████▍                                   | 137/1250 [00:12<01:41, 10.97it/s]"
     ]
    },
    {
     "name": "stdout",
     "output_type": "stream",
     "text": [
      "Loss:  9.174969673156738\n",
      "Loss:  9.136445999145508\n",
      "Loss:  9.216635704040527\n"
     ]
    },
    {
     "name": "stderr",
     "output_type": "stream",
     "text": [
      " 11%|████▍                                   | 139/1250 [00:12<01:40, 11.08it/s]"
     ]
    },
    {
     "name": "stdout",
     "output_type": "stream",
     "text": [
      "Loss:  9.252586364746094\n",
      "Loss:  9.243695259094238\n",
      "Loss:  9.229410171508789\n"
     ]
    },
    {
     "name": "stderr",
     "output_type": "stream",
     "text": [
      " 11%|████▌                                   | 143/1250 [00:13<01:40, 11.01it/s]"
     ]
    },
    {
     "name": "stdout",
     "output_type": "stream",
     "text": [
      "Loss:  9.238180160522461\n",
      "Loss:  9.19932746887207\n",
      "Loss:  9.220708847045898\n"
     ]
    },
    {
     "name": "stderr",
     "output_type": "stream",
     "text": [
      " 12%|████▋                                   | 145/1250 [00:13<01:40, 11.04it/s]"
     ]
    },
    {
     "name": "stdout",
     "output_type": "stream",
     "text": [
      "Loss:  9.189201354980469\n",
      "Loss:  9.181062698364258\n",
      "Loss:  9.157976150512695\n"
     ]
    },
    {
     "name": "stderr",
     "output_type": "stream",
     "text": [
      " 12%|████▊                                   | 149/1250 [00:13<01:39, 11.09it/s]"
     ]
    },
    {
     "name": "stdout",
     "output_type": "stream",
     "text": [
      "Loss:  9.2085542678833\n",
      "Loss:  9.223640441894531\n",
      "Loss:  9.22016716003418\n"
     ]
    },
    {
     "name": "stderr",
     "output_type": "stream",
     "text": [
      " 12%|████▊                                   | 151/1250 [00:13<01:38, 11.14it/s]"
     ]
    },
    {
     "name": "stdout",
     "output_type": "stream",
     "text": [
      "Loss:  9.215901374816895\n",
      "Loss:  9.239580154418945\n",
      "Loss:  9.178727149963379\n"
     ]
    },
    {
     "name": "stderr",
     "output_type": "stream",
     "text": [
      " 12%|████▉                                   | 155/1250 [00:14<01:39, 11.05it/s]"
     ]
    },
    {
     "name": "stdout",
     "output_type": "stream",
     "text": [
      "Loss:  9.2125883102417\n",
      "Loss:  9.283395767211914\n",
      "Loss:  9.182432174682617\n"
     ]
    },
    {
     "name": "stderr",
     "output_type": "stream",
     "text": [
      " 13%|█████                                   | 157/1250 [00:14<01:38, 11.10it/s]"
     ]
    },
    {
     "name": "stdout",
     "output_type": "stream",
     "text": [
      "Loss:  9.26662826538086\n",
      "Loss:  9.21726131439209\n",
      "Loss:  9.156586647033691\n"
     ]
    },
    {
     "name": "stderr",
     "output_type": "stream",
     "text": [
      " 13%|█████▏                                  | 161/1250 [00:14<01:38, 11.07it/s]"
     ]
    },
    {
     "name": "stdout",
     "output_type": "stream",
     "text": [
      "Loss:  9.197900772094727\n",
      "Loss:  9.203461647033691\n",
      "Loss:  9.148069381713867\n"
     ]
    },
    {
     "name": "stderr",
     "output_type": "stream",
     "text": [
      " 13%|█████▏                                  | 163/1250 [00:15<01:37, 11.09it/s]"
     ]
    },
    {
     "name": "stdout",
     "output_type": "stream",
     "text": [
      "Loss:  9.19266128540039\n",
      "Loss:  9.224858283996582\n",
      "Loss:  9.157777786254883\n"
     ]
    },
    {
     "name": "stderr",
     "output_type": "stream",
     "text": [
      " 13%|█████▎                                  | 167/1250 [00:15<01:37, 11.10it/s]"
     ]
    },
    {
     "name": "stdout",
     "output_type": "stream",
     "text": [
      "Loss:  9.299093246459961\n",
      "Loss:  9.252286911010742\n",
      "Loss:  9.233901977539062\n"
     ]
    },
    {
     "name": "stderr",
     "output_type": "stream",
     "text": [
      " 14%|█████▍                                  | 169/1250 [00:15<01:35, 11.27it/s]"
     ]
    },
    {
     "name": "stdout",
     "output_type": "stream",
     "text": [
      "Loss:  9.190068244934082\n",
      "Loss:  9.258646965026855\n",
      "Loss:  9.272466659545898\n"
     ]
    },
    {
     "name": "stderr",
     "output_type": "stream",
     "text": [
      " 14%|█████▌                                  | 173/1250 [00:15<01:36, 11.17it/s]"
     ]
    },
    {
     "name": "stdout",
     "output_type": "stream",
     "text": [
      "Loss:  9.218631744384766\n",
      "Loss:  9.176980972290039\n",
      "Loss:  9.205401420593262\n"
     ]
    },
    {
     "name": "stderr",
     "output_type": "stream",
     "text": [
      " 14%|█████▌                                  | 175/1250 [00:16<01:36, 11.15it/s]"
     ]
    },
    {
     "name": "stdout",
     "output_type": "stream",
     "text": [
      "Loss:  9.163909912109375\n",
      "Loss:  9.237882614135742\n",
      "Loss:  9.175864219665527\n"
     ]
    },
    {
     "name": "stderr",
     "output_type": "stream",
     "text": [
      " 14%|█████▋                                  | 179/1250 [00:16<01:35, 11.20it/s]"
     ]
    },
    {
     "name": "stdout",
     "output_type": "stream",
     "text": [
      "Loss:  9.18935775756836\n",
      "Loss:  9.20887279510498\n",
      "Loss:  9.31882095336914\n"
     ]
    },
    {
     "name": "stderr",
     "output_type": "stream",
     "text": [
      " 14%|█████▊                                  | 181/1250 [00:16<01:35, 11.18it/s]"
     ]
    },
    {
     "name": "stdout",
     "output_type": "stream",
     "text": [
      "Loss:  9.209959983825684\n",
      "Loss:  9.166353225708008\n",
      "Loss:  9.185700416564941\n"
     ]
    },
    {
     "name": "stderr",
     "output_type": "stream",
     "text": [
      " 15%|█████▉                                  | 185/1250 [00:16<01:36, 11.09it/s]"
     ]
    },
    {
     "name": "stdout",
     "output_type": "stream",
     "text": [
      "Loss:  9.249724388122559\n",
      "Loss:  9.2135591506958\n",
      "Loss:  9.23799991607666\n"
     ]
    },
    {
     "name": "stderr",
     "output_type": "stream",
     "text": [
      " 15%|█████▉                                  | 187/1250 [00:17<01:36, 11.03it/s]"
     ]
    },
    {
     "name": "stdout",
     "output_type": "stream",
     "text": [
      "Loss:  9.20129680633545\n",
      "Loss:  9.202938079833984\n",
      "Loss:  9.24193000793457\n"
     ]
    },
    {
     "name": "stderr",
     "output_type": "stream",
     "text": [
      " 15%|██████                                  | 191/1250 [00:17<01:36, 11.01it/s]"
     ]
    },
    {
     "name": "stdout",
     "output_type": "stream",
     "text": [
      "Loss:  9.214527130126953\n",
      "Loss:  9.166851043701172\n",
      "Loss:  9.204238891601562\n"
     ]
    },
    {
     "name": "stderr",
     "output_type": "stream",
     "text": [
      " 15%|██████▏                                 | 193/1250 [00:17<01:35, 11.05it/s]"
     ]
    },
    {
     "name": "stdout",
     "output_type": "stream",
     "text": [
      "Loss:  9.187394142150879\n",
      "Loss:  9.242895126342773\n",
      "Loss:  9.235219955444336\n"
     ]
    },
    {
     "name": "stderr",
     "output_type": "stream",
     "text": [
      " 16%|██████▎                                 | 197/1250 [00:18<01:34, 11.19it/s]"
     ]
    },
    {
     "name": "stdout",
     "output_type": "stream",
     "text": [
      "Loss:  9.252090454101562\n",
      "Loss:  9.234858512878418\n",
      "Loss:  9.181127548217773\n"
     ]
    },
    {
     "name": "stderr",
     "output_type": "stream",
     "text": [
      " 16%|██████▎                                 | 199/1250 [00:18<01:33, 11.27it/s]"
     ]
    },
    {
     "name": "stdout",
     "output_type": "stream",
     "text": [
      "Loss:  9.213766098022461\n",
      "Loss:  9.16200065612793\n",
      "Loss:  9.239514350891113\n"
     ]
    },
    {
     "name": "stderr",
     "output_type": "stream",
     "text": [
      " 16%|██████▍                                 | 203/1250 [00:18<01:34, 11.09it/s]"
     ]
    },
    {
     "name": "stdout",
     "output_type": "stream",
     "text": [
      "Loss:  9.238303184509277\n",
      "Loss:  9.205400466918945\n",
      "Loss:  9.224945068359375\n"
     ]
    },
    {
     "name": "stderr",
     "output_type": "stream",
     "text": [
      " 16%|██████▌                                 | 205/1250 [00:18<01:34, 11.08it/s]"
     ]
    },
    {
     "name": "stdout",
     "output_type": "stream",
     "text": [
      "Loss:  9.209293365478516\n",
      "Loss:  9.17635440826416\n",
      "Loss:  9.241249084472656\n"
     ]
    },
    {
     "name": "stderr",
     "output_type": "stream",
     "text": [
      " 17%|██████▋                                 | 209/1250 [00:19<01:35, 10.95it/s]"
     ]
    },
    {
     "name": "stdout",
     "output_type": "stream",
     "text": [
      "Loss:  9.30439281463623\n",
      "Loss:  9.280722618103027\n",
      "Loss:  9.25551986694336\n"
     ]
    },
    {
     "name": "stderr",
     "output_type": "stream",
     "text": [
      " 17%|██████▊                                 | 211/1250 [00:19<01:34, 10.98it/s]"
     ]
    },
    {
     "name": "stdout",
     "output_type": "stream",
     "text": [
      "Loss:  9.186896324157715\n",
      "Loss:  9.207860946655273\n",
      "Loss:  9.170574188232422\n"
     ]
    },
    {
     "name": "stderr",
     "output_type": "stream",
     "text": [
      " 17%|██████▉                                 | 215/1250 [00:19<01:33, 11.10it/s]"
     ]
    },
    {
     "name": "stdout",
     "output_type": "stream",
     "text": [
      "Loss:  9.201324462890625\n",
      "Loss:  9.204431533813477\n",
      "Loss:  9.212410926818848\n"
     ]
    },
    {
     "name": "stderr",
     "output_type": "stream",
     "text": [
      " 17%|██████▉                                 | 217/1250 [00:19<01:32, 11.18it/s]"
     ]
    },
    {
     "name": "stdout",
     "output_type": "stream",
     "text": [
      "Loss:  9.20391845703125\n",
      "Loss:  9.238630294799805\n",
      "Loss:  9.203556060791016\n"
     ]
    },
    {
     "name": "stderr",
     "output_type": "stream",
     "text": [
      " 18%|███████                                 | 221/1250 [00:20<01:31, 11.29it/s]"
     ]
    },
    {
     "name": "stdout",
     "output_type": "stream",
     "text": [
      "Loss:  9.178409576416016\n",
      "Loss:  9.14872932434082\n",
      "Loss:  9.196579933166504\n"
     ]
    },
    {
     "name": "stderr",
     "output_type": "stream",
     "text": [
      " 18%|███████▏                                | 223/1250 [00:20<01:31, 11.20it/s]"
     ]
    },
    {
     "name": "stdout",
     "output_type": "stream",
     "text": [
      "Loss:  9.2302885055542\n",
      "Loss:  9.2539644241333\n",
      "Loss:  9.220315933227539\n"
     ]
    },
    {
     "name": "stderr",
     "output_type": "stream",
     "text": [
      " 18%|███████▎                                | 227/1250 [00:20<01:34, 10.87it/s]"
     ]
    },
    {
     "name": "stdout",
     "output_type": "stream",
     "text": [
      "Loss:  9.227825164794922\n",
      "Loss:  9.230670928955078\n",
      "Loss:  9.192181587219238\n"
     ]
    },
    {
     "name": "stderr",
     "output_type": "stream",
     "text": [
      " 18%|███████▎                                | 229/1250 [00:20<01:32, 11.00it/s]"
     ]
    },
    {
     "name": "stdout",
     "output_type": "stream",
     "text": [
      "Loss:  9.19670581817627\n",
      "Loss:  9.280328750610352\n",
      "Loss:  9.183736801147461\n"
     ]
    },
    {
     "name": "stderr",
     "output_type": "stream",
     "text": [
      " 19%|███████▍                                | 233/1250 [00:21<01:34, 10.73it/s]"
     ]
    },
    {
     "name": "stdout",
     "output_type": "stream",
     "text": [
      "Loss:  9.256064414978027\n",
      "Loss:  9.18749713897705\n",
      "Loss:  9.165740013122559\n"
     ]
    },
    {
     "name": "stderr",
     "output_type": "stream",
     "text": [
      " 19%|███████▌                                | 235/1250 [00:21<01:33, 10.81it/s]"
     ]
    },
    {
     "name": "stdout",
     "output_type": "stream",
     "text": [
      "Loss:  9.174745559692383\n",
      "Loss:  9.199562072753906\n",
      "Loss:  9.178115844726562\n"
     ]
    },
    {
     "name": "stderr",
     "output_type": "stream",
     "text": [
      " 19%|███████▋                                | 239/1250 [00:21<01:31, 11.03it/s]"
     ]
    },
    {
     "name": "stdout",
     "output_type": "stream",
     "text": [
      "Loss:  9.217283248901367\n",
      "Loss:  9.24449348449707\n",
      "Loss:  9.199911117553711\n"
     ]
    },
    {
     "name": "stderr",
     "output_type": "stream",
     "text": [
      " 19%|███████▋                                | 241/1250 [00:22<01:30, 11.19it/s]"
     ]
    },
    {
     "name": "stdout",
     "output_type": "stream",
     "text": [
      "Loss:  9.270052909851074\n",
      "Loss:  9.245647430419922\n",
      "Loss:  9.266490936279297\n"
     ]
    },
    {
     "name": "stderr",
     "output_type": "stream",
     "text": [
      " 20%|███████▊                                | 245/1250 [00:22<01:30, 11.07it/s]"
     ]
    },
    {
     "name": "stdout",
     "output_type": "stream",
     "text": [
      "Loss:  9.174339294433594\n",
      "Loss:  9.218073844909668\n",
      "Loss:  9.158334732055664\n"
     ]
    },
    {
     "name": "stderr",
     "output_type": "stream",
     "text": [
      " 20%|███████▉                                | 247/1250 [00:22<01:30, 11.07it/s]"
     ]
    },
    {
     "name": "stdout",
     "output_type": "stream",
     "text": [
      "Loss:  9.206974029541016\n",
      "Loss:  9.25589370727539\n",
      "Loss:  9.158271789550781\n"
     ]
    },
    {
     "name": "stderr",
     "output_type": "stream",
     "text": [
      " 20%|████████                                | 251/1250 [00:22<01:30, 11.01it/s]"
     ]
    },
    {
     "name": "stdout",
     "output_type": "stream",
     "text": [
      "Loss:  9.159536361694336\n",
      "Loss:  9.25174331665039\n",
      "Loss:  9.194572448730469\n"
     ]
    },
    {
     "name": "stderr",
     "output_type": "stream",
     "text": [
      " 20%|████████                                | 253/1250 [00:23<01:30, 11.08it/s]"
     ]
    },
    {
     "name": "stdout",
     "output_type": "stream",
     "text": [
      "Loss:  9.249916076660156\n",
      "Loss:  9.178993225097656\n",
      "Loss:  9.173601150512695\n"
     ]
    },
    {
     "name": "stderr",
     "output_type": "stream",
     "text": [
      " 21%|████████▏                               | 257/1250 [00:23<01:28, 11.18it/s]"
     ]
    },
    {
     "name": "stdout",
     "output_type": "stream",
     "text": [
      "Loss:  9.230658531188965\n",
      "Loss:  9.219225883483887\n",
      "Loss:  9.221019744873047\n"
     ]
    },
    {
     "name": "stderr",
     "output_type": "stream",
     "text": [
      " 21%|████████▎                               | 259/1250 [00:23<01:29, 11.08it/s]"
     ]
    },
    {
     "name": "stdout",
     "output_type": "stream",
     "text": [
      "Loss:  9.21495246887207\n",
      "Loss:  9.228353500366211\n",
      "Loss:  9.183292388916016\n"
     ]
    },
    {
     "name": "stderr",
     "output_type": "stream",
     "text": [
      " 21%|████████▍                               | 263/1250 [00:24<01:28, 11.15it/s]"
     ]
    },
    {
     "name": "stdout",
     "output_type": "stream",
     "text": [
      "Loss:  9.181495666503906\n",
      "Loss:  9.1871976852417\n",
      "Loss:  9.181782722473145\n"
     ]
    },
    {
     "name": "stderr",
     "output_type": "stream",
     "text": [
      " 21%|████████▍                               | 265/1250 [00:24<01:28, 11.15it/s]"
     ]
    },
    {
     "name": "stdout",
     "output_type": "stream",
     "text": [
      "Loss:  9.235400199890137\n",
      "Loss:  9.185397148132324\n",
      "Loss:  9.208539009094238\n"
     ]
    },
    {
     "name": "stderr",
     "output_type": "stream",
     "text": [
      " 22%|████████▌                               | 269/1250 [00:24<01:26, 11.33it/s]"
     ]
    },
    {
     "name": "stdout",
     "output_type": "stream",
     "text": [
      "Loss:  9.31233024597168\n",
      "Loss:  9.224258422851562\n",
      "Loss:  9.252421379089355\n"
     ]
    },
    {
     "name": "stderr",
     "output_type": "stream",
     "text": [
      " 22%|████████▋                               | 271/1250 [00:24<01:27, 11.21it/s]"
     ]
    },
    {
     "name": "stdout",
     "output_type": "stream",
     "text": [
      "Loss:  9.178315162658691\n",
      "Loss:  9.208513259887695\n",
      "Loss:  9.216790199279785\n"
     ]
    },
    {
     "name": "stderr",
     "output_type": "stream",
     "text": [
      " 22%|████████▊                               | 275/1250 [00:25<01:27, 11.16it/s]"
     ]
    },
    {
     "name": "stdout",
     "output_type": "stream",
     "text": [
      "Loss:  9.192553520202637\n",
      "Loss:  9.190332412719727\n",
      "Loss:  9.16793441772461\n"
     ]
    },
    {
     "name": "stderr",
     "output_type": "stream",
     "text": [
      " 22%|████████▊                               | 277/1250 [00:25<01:28, 11.04it/s]"
     ]
    },
    {
     "name": "stdout",
     "output_type": "stream",
     "text": [
      "Loss:  9.198748588562012\n",
      "Loss:  9.1512451171875\n",
      "Loss:  9.224531173706055\n"
     ]
    },
    {
     "name": "stderr",
     "output_type": "stream",
     "text": [
      " 22%|████████▉                               | 281/1250 [00:25<01:25, 11.34it/s]"
     ]
    },
    {
     "name": "stdout",
     "output_type": "stream",
     "text": [
      "Loss:  9.190715789794922\n",
      "Loss:  9.183104515075684\n",
      "Loss:  9.286498069763184\n"
     ]
    },
    {
     "name": "stderr",
     "output_type": "stream",
     "text": [
      " 23%|█████████                               | 283/1250 [00:25<01:25, 11.32it/s]"
     ]
    },
    {
     "name": "stdout",
     "output_type": "stream",
     "text": [
      "Loss:  9.220441818237305\n",
      "Loss:  9.22669792175293\n",
      "Loss:  9.172632217407227\n"
     ]
    },
    {
     "name": "stderr",
     "output_type": "stream",
     "text": [
      " 23%|█████████▏                              | 287/1250 [00:26<01:26, 11.16it/s]"
     ]
    },
    {
     "name": "stdout",
     "output_type": "stream",
     "text": [
      "Loss:  9.225540161132812\n",
      "Loss:  9.202165603637695\n",
      "Loss:  9.212981224060059\n"
     ]
    },
    {
     "name": "stderr",
     "output_type": "stream",
     "text": [
      " 23%|█████████▏                              | 289/1250 [00:26<01:26, 11.17it/s]"
     ]
    },
    {
     "name": "stdout",
     "output_type": "stream",
     "text": [
      "Loss:  9.26771354675293\n",
      "Loss:  9.23592758178711\n",
      "Loss:  9.150447845458984\n"
     ]
    },
    {
     "name": "stderr",
     "output_type": "stream",
     "text": [
      " 23%|█████████▍                              | 293/1250 [00:26<01:25, 11.18it/s]"
     ]
    },
    {
     "name": "stdout",
     "output_type": "stream",
     "text": [
      "Loss:  9.219047546386719\n",
      "Loss:  9.166869163513184\n",
      "Loss:  9.28348159790039\n"
     ]
    },
    {
     "name": "stderr",
     "output_type": "stream",
     "text": [
      " 24%|█████████▍                              | 295/1250 [00:26<01:25, 11.11it/s]"
     ]
    },
    {
     "name": "stdout",
     "output_type": "stream",
     "text": [
      "Loss:  9.209489822387695\n",
      "Loss:  9.165863037109375\n",
      "Loss:  9.149018287658691\n"
     ]
    },
    {
     "name": "stderr",
     "output_type": "stream",
     "text": [
      " 24%|█████████▌                              | 299/1250 [00:27<01:25, 11.16it/s]"
     ]
    },
    {
     "name": "stdout",
     "output_type": "stream",
     "text": [
      "Loss:  9.23295783996582\n",
      "Loss:  9.195023536682129\n",
      "Loss:  9.177979469299316\n"
     ]
    },
    {
     "name": "stderr",
     "output_type": "stream",
     "text": [
      " 24%|█████████▋                              | 301/1250 [00:27<01:24, 11.23it/s]"
     ]
    },
    {
     "name": "stdout",
     "output_type": "stream",
     "text": [
      "Loss:  9.251004219055176\n",
      "Loss:  9.14670467376709\n",
      "Loss:  9.245454788208008\n"
     ]
    },
    {
     "name": "stderr",
     "output_type": "stream",
     "text": [
      " 24%|█████████▊                              | 305/1250 [00:27<01:25, 11.03it/s]"
     ]
    },
    {
     "name": "stdout",
     "output_type": "stream",
     "text": [
      "Loss:  9.200048446655273\n",
      "Loss:  9.26370906829834\n",
      "Loss:  9.242029190063477\n"
     ]
    },
    {
     "name": "stderr",
     "output_type": "stream",
     "text": [
      " 25%|█████████▊                              | 307/1250 [00:27<01:26, 10.96it/s]"
     ]
    },
    {
     "name": "stdout",
     "output_type": "stream",
     "text": [
      "Loss:  9.166559219360352\n",
      "Loss:  9.196832656860352\n",
      "Loss:  9.279912948608398\n"
     ]
    },
    {
     "name": "stderr",
     "output_type": "stream",
     "text": [
      " 25%|█████████▉                              | 311/1250 [00:28<01:24, 11.11it/s]"
     ]
    },
    {
     "name": "stdout",
     "output_type": "stream",
     "text": [
      "Loss:  9.226778030395508\n",
      "Loss:  9.187374114990234\n",
      "Loss:  9.250992774963379\n"
     ]
    },
    {
     "name": "stderr",
     "output_type": "stream",
     "text": [
      " 25%|██████████                              | 313/1250 [00:28<01:22, 11.33it/s]"
     ]
    },
    {
     "name": "stdout",
     "output_type": "stream",
     "text": [
      "Loss:  9.213430404663086\n",
      "Loss:  9.15439224243164\n",
      "Loss:  9.228235244750977\n"
     ]
    },
    {
     "name": "stderr",
     "output_type": "stream",
     "text": [
      " 25%|██████████▏                             | 317/1250 [00:28<01:23, 11.15it/s]"
     ]
    },
    {
     "name": "stdout",
     "output_type": "stream",
     "text": [
      "Loss:  9.21771240234375\n",
      "Loss:  9.133222579956055\n",
      "Loss:  9.24284839630127\n"
     ]
    },
    {
     "name": "stderr",
     "output_type": "stream",
     "text": [
      " 26%|██████████▏                             | 319/1250 [00:29<01:22, 11.25it/s]"
     ]
    },
    {
     "name": "stdout",
     "output_type": "stream",
     "text": [
      "Loss:  9.276371002197266\n",
      "Loss:  9.16563606262207\n",
      "Loss:  9.241471290588379\n"
     ]
    },
    {
     "name": "stderr",
     "output_type": "stream",
     "text": [
      " 26%|██████████▎                             | 323/1250 [00:29<01:23, 11.16it/s]"
     ]
    },
    {
     "name": "stdout",
     "output_type": "stream",
     "text": [
      "Loss:  9.204023361206055\n",
      "Loss:  9.180782318115234\n",
      "Loss:  9.29114055633545\n"
     ]
    },
    {
     "name": "stderr",
     "output_type": "stream",
     "text": [
      " 26%|██████████▍                             | 325/1250 [00:29<01:22, 11.18it/s]"
     ]
    },
    {
     "name": "stdout",
     "output_type": "stream",
     "text": [
      "Loss:  9.197443962097168\n",
      "Loss:  9.237232208251953\n",
      "Loss:  9.191596984863281\n"
     ]
    },
    {
     "name": "stderr",
     "output_type": "stream",
     "text": [
      " 26%|██████████▌                             | 329/1250 [00:29<01:22, 11.19it/s]"
     ]
    },
    {
     "name": "stdout",
     "output_type": "stream",
     "text": [
      "Loss:  9.151336669921875\n",
      "Loss:  9.191962242126465\n",
      "Loss:  9.258478164672852\n"
     ]
    },
    {
     "name": "stderr",
     "output_type": "stream",
     "text": [
      " 26%|██████████▌                             | 331/1250 [00:30<01:22, 11.15it/s]"
     ]
    },
    {
     "name": "stdout",
     "output_type": "stream",
     "text": [
      "Loss:  9.176074981689453\n",
      "Loss:  9.195311546325684\n",
      "Loss:  9.23544692993164\n"
     ]
    },
    {
     "name": "stderr",
     "output_type": "stream",
     "text": [
      " 27%|██████████▋                             | 335/1250 [00:30<01:22, 11.11it/s]"
     ]
    },
    {
     "name": "stdout",
     "output_type": "stream",
     "text": [
      "Loss:  9.245423316955566\n",
      "Loss:  9.164942741394043\n",
      "Loss:  9.221198081970215\n"
     ]
    },
    {
     "name": "stderr",
     "output_type": "stream",
     "text": [
      " 27%|██████████▊                             | 337/1250 [00:30<01:21, 11.19it/s]"
     ]
    },
    {
     "name": "stdout",
     "output_type": "stream",
     "text": [
      "Loss:  9.13869571685791\n",
      "Loss:  9.159757614135742\n",
      "Loss:  9.20404052734375\n"
     ]
    },
    {
     "name": "stderr",
     "output_type": "stream",
     "text": [
      " 27%|██████████▉                             | 341/1250 [00:31<01:20, 11.23it/s]"
     ]
    },
    {
     "name": "stdout",
     "output_type": "stream",
     "text": [
      "Loss:  9.218297004699707\n",
      "Loss:  9.219697952270508\n",
      "Loss:  9.213251113891602\n"
     ]
    },
    {
     "name": "stderr",
     "output_type": "stream",
     "text": [
      " 27%|██████████▉                             | 343/1250 [00:31<01:21, 11.08it/s]"
     ]
    },
    {
     "name": "stdout",
     "output_type": "stream",
     "text": [
      "Loss:  9.238052368164062\n",
      "Loss:  9.255327224731445\n",
      "Loss:  9.244019508361816\n"
     ]
    },
    {
     "name": "stderr",
     "output_type": "stream",
     "text": [
      " 28%|███████████                             | 347/1250 [00:31<01:20, 11.21it/s]"
     ]
    },
    {
     "name": "stdout",
     "output_type": "stream",
     "text": [
      "Loss:  9.19229507446289\n",
      "Loss:  9.23977279663086\n",
      "Loss:  9.293478012084961\n"
     ]
    },
    {
     "name": "stderr",
     "output_type": "stream",
     "text": [
      " 28%|███████████▏                            | 349/1250 [00:31<01:20, 11.25it/s]"
     ]
    },
    {
     "name": "stdout",
     "output_type": "stream",
     "text": [
      "Loss:  9.173027038574219\n",
      "Loss:  9.184085845947266\n",
      "Loss:  9.181962966918945\n"
     ]
    },
    {
     "name": "stderr",
     "output_type": "stream",
     "text": [
      " 28%|███████████▎                            | 353/1250 [00:32<01:19, 11.27it/s]"
     ]
    },
    {
     "name": "stdout",
     "output_type": "stream",
     "text": [
      "Loss:  9.190650939941406\n",
      "Loss:  9.276350975036621\n",
      "Loss:  9.28294849395752\n"
     ]
    },
    {
     "name": "stderr",
     "output_type": "stream",
     "text": [
      " 28%|███████████▎                            | 355/1250 [00:32<01:18, 11.34it/s]"
     ]
    },
    {
     "name": "stdout",
     "output_type": "stream",
     "text": [
      "Loss:  9.23098087310791\n",
      "Loss:  9.155445098876953\n",
      "Loss:  9.18436050415039\n"
     ]
    },
    {
     "name": "stderr",
     "output_type": "stream",
     "text": [
      " 29%|███████████▍                            | 359/1250 [00:32<01:19, 11.17it/s]"
     ]
    },
    {
     "name": "stdout",
     "output_type": "stream",
     "text": [
      "Loss:  9.221600532531738\n",
      "Loss:  9.21519660949707\n",
      "Loss:  9.223777770996094\n"
     ]
    },
    {
     "name": "stderr",
     "output_type": "stream",
     "text": [
      " 29%|███████████▌                            | 361/1250 [00:32<01:20, 11.07it/s]"
     ]
    },
    {
     "name": "stdout",
     "output_type": "stream",
     "text": [
      "Loss:  9.182929992675781\n",
      "Loss:  9.166367530822754\n",
      "Loss:  9.14169979095459\n"
     ]
    },
    {
     "name": "stderr",
     "output_type": "stream",
     "text": [
      " 29%|███████████▋                            | 365/1250 [00:33<01:20, 10.93it/s]"
     ]
    },
    {
     "name": "stdout",
     "output_type": "stream",
     "text": [
      "Loss:  9.241371154785156\n",
      "Loss:  9.212736129760742\n",
      "Loss:  9.26606559753418\n"
     ]
    },
    {
     "name": "stderr",
     "output_type": "stream",
     "text": [
      " 29%|███████████▋                            | 367/1250 [00:33<01:20, 10.96it/s]"
     ]
    },
    {
     "name": "stdout",
     "output_type": "stream",
     "text": [
      "Loss:  9.27149772644043\n",
      "Loss:  9.181926727294922\n",
      "Loss:  9.184920310974121\n"
     ]
    },
    {
     "name": "stderr",
     "output_type": "stream",
     "text": [
      " 30%|███████████▊                            | 371/1250 [00:33<01:18, 11.25it/s]"
     ]
    },
    {
     "name": "stdout",
     "output_type": "stream",
     "text": [
      "Loss:  9.206130981445312\n",
      "Loss:  9.155622482299805\n",
      "Loss:  9.181758880615234\n"
     ]
    },
    {
     "name": "stderr",
     "output_type": "stream",
     "text": [
      " 30%|███████████▉                            | 373/1250 [00:33<01:17, 11.37it/s]"
     ]
    },
    {
     "name": "stdout",
     "output_type": "stream",
     "text": [
      "Loss:  9.209756851196289\n",
      "Loss:  9.168867111206055\n",
      "Loss:  9.141759872436523\n"
     ]
    },
    {
     "name": "stderr",
     "output_type": "stream",
     "text": [
      " 30%|████████████                            | 377/1250 [00:34<01:17, 11.27it/s]"
     ]
    },
    {
     "name": "stdout",
     "output_type": "stream",
     "text": [
      "Loss:  9.261512756347656\n",
      "Loss:  9.191669464111328\n",
      "Loss:  9.17293930053711\n"
     ]
    },
    {
     "name": "stderr",
     "output_type": "stream",
     "text": [
      " 30%|████████████▏                           | 379/1250 [00:34<01:17, 11.20it/s]"
     ]
    },
    {
     "name": "stdout",
     "output_type": "stream",
     "text": [
      "Loss:  9.25759506225586\n",
      "Loss:  9.152199745178223\n",
      "Loss:  9.200252532958984\n"
     ]
    },
    {
     "name": "stderr",
     "output_type": "stream",
     "text": [
      " 31%|████████████▎                           | 383/1250 [00:34<01:17, 11.14it/s]"
     ]
    },
    {
     "name": "stdout",
     "output_type": "stream",
     "text": [
      "Loss:  9.18488597869873\n",
      "Loss:  9.213900566101074\n",
      "Loss:  9.179597854614258\n"
     ]
    },
    {
     "name": "stderr",
     "output_type": "stream",
     "text": [
      " 31%|████████████▎                           | 385/1250 [00:34<01:17, 11.20it/s]"
     ]
    },
    {
     "name": "stdout",
     "output_type": "stream",
     "text": [
      "Loss:  9.204877853393555\n",
      "Loss:  9.170226097106934\n",
      "Loss:  9.160120010375977\n"
     ]
    },
    {
     "name": "stderr",
     "output_type": "stream",
     "text": [
      " 31%|████████████▍                           | 389/1250 [00:35<01:16, 11.23it/s]"
     ]
    },
    {
     "name": "stdout",
     "output_type": "stream",
     "text": [
      "Loss:  9.146723747253418\n",
      "Loss:  9.29519271850586\n",
      "Loss:  9.163674354553223\n"
     ]
    },
    {
     "name": "stderr",
     "output_type": "stream",
     "text": [
      " 31%|████████████▌                           | 391/1250 [00:35<01:16, 11.29it/s]"
     ]
    },
    {
     "name": "stdout",
     "output_type": "stream",
     "text": [
      "Loss:  9.256365776062012\n",
      "Loss:  9.242234230041504\n",
      "Loss:  9.231956481933594\n"
     ]
    },
    {
     "name": "stderr",
     "output_type": "stream",
     "text": [
      " 32%|████████████▋                           | 395/1250 [00:35<01:15, 11.27it/s]"
     ]
    },
    {
     "name": "stdout",
     "output_type": "stream",
     "text": [
      "Loss:  9.258105278015137\n",
      "Loss:  9.215514183044434\n",
      "Loss:  9.13452434539795\n"
     ]
    },
    {
     "name": "stderr",
     "output_type": "stream",
     "text": [
      " 32%|████████████▋                           | 397/1250 [00:36<01:16, 11.20it/s]"
     ]
    },
    {
     "name": "stdout",
     "output_type": "stream",
     "text": [
      "Loss:  9.226129531860352\n",
      "Loss:  9.181882858276367\n",
      "Loss:  9.208684921264648\n"
     ]
    },
    {
     "name": "stderr",
     "output_type": "stream",
     "text": [
      " 32%|████████████▊                           | 401/1250 [00:36<01:15, 11.21it/s]"
     ]
    },
    {
     "name": "stdout",
     "output_type": "stream",
     "text": [
      "Loss:  9.216991424560547\n",
      "Loss:  9.215902328491211\n",
      "Loss:  9.306375503540039\n"
     ]
    },
    {
     "name": "stderr",
     "output_type": "stream",
     "text": [
      " 32%|████████████▉                           | 403/1250 [00:36<01:15, 11.20it/s]"
     ]
    },
    {
     "name": "stdout",
     "output_type": "stream",
     "text": [
      "Loss:  9.331439971923828\n",
      "Loss:  9.15718936920166\n",
      "Loss:  9.277029991149902\n"
     ]
    },
    {
     "name": "stderr",
     "output_type": "stream",
     "text": [
      " 33%|█████████████                           | 407/1250 [00:36<01:16, 11.03it/s]"
     ]
    },
    {
     "name": "stdout",
     "output_type": "stream",
     "text": [
      "Loss:  9.228662490844727\n",
      "Loss:  9.177496910095215\n",
      "Loss:  9.232044219970703\n"
     ]
    },
    {
     "name": "stderr",
     "output_type": "stream",
     "text": [
      " 33%|█████████████                           | 409/1250 [00:37<01:16, 11.04it/s]"
     ]
    },
    {
     "name": "stdout",
     "output_type": "stream",
     "text": [
      "Loss:  9.193036079406738\n",
      "Loss:  9.185998916625977\n",
      "Loss:  9.205997467041016\n"
     ]
    },
    {
     "name": "stderr",
     "output_type": "stream",
     "text": [
      " 33%|█████████████▏                          | 413/1250 [00:37<01:16, 10.94it/s]"
     ]
    },
    {
     "name": "stdout",
     "output_type": "stream",
     "text": [
      "Loss:  9.296625137329102\n",
      "Loss:  9.224224090576172\n",
      "Loss:  9.210241317749023\n"
     ]
    },
    {
     "name": "stderr",
     "output_type": "stream",
     "text": [
      " 33%|█████████████▎                          | 415/1250 [00:37<01:15, 11.01it/s]"
     ]
    },
    {
     "name": "stdout",
     "output_type": "stream",
     "text": [
      "Loss:  9.239715576171875\n",
      "Loss:  9.24993896484375\n",
      "Loss:  9.126055717468262\n"
     ]
    },
    {
     "name": "stderr",
     "output_type": "stream",
     "text": [
      " 34%|█████████████▍                          | 419/1250 [00:37<01:14, 11.19it/s]"
     ]
    },
    {
     "name": "stdout",
     "output_type": "stream",
     "text": [
      "Loss:  9.292705535888672\n",
      "Loss:  9.208564758300781\n",
      "Loss:  9.31118392944336\n"
     ]
    },
    {
     "name": "stderr",
     "output_type": "stream",
     "text": [
      " 34%|█████████████▍                          | 421/1250 [00:38<01:13, 11.24it/s]"
     ]
    },
    {
     "name": "stdout",
     "output_type": "stream",
     "text": [
      "Loss:  9.241034507751465\n",
      "Loss:  9.208877563476562\n",
      "Loss:  9.183667182922363\n"
     ]
    },
    {
     "name": "stderr",
     "output_type": "stream",
     "text": [
      " 34%|█████████████▌                          | 425/1250 [00:38<01:12, 11.39it/s]"
     ]
    },
    {
     "name": "stdout",
     "output_type": "stream",
     "text": [
      "Loss:  9.180872917175293\n",
      "Loss:  9.199148178100586\n",
      "Loss:  9.276302337646484\n"
     ]
    },
    {
     "name": "stderr",
     "output_type": "stream",
     "text": [
      " 34%|█████████████▋                          | 427/1250 [00:38<01:13, 11.25it/s]"
     ]
    },
    {
     "name": "stdout",
     "output_type": "stream",
     "text": [
      "Loss:  9.262876510620117\n",
      "Loss:  9.277867317199707\n",
      "Loss:  9.203194618225098\n"
     ]
    },
    {
     "name": "stderr",
     "output_type": "stream",
     "text": [
      " 34%|█████████████▊                          | 431/1250 [00:39<01:13, 11.11it/s]"
     ]
    },
    {
     "name": "stdout",
     "output_type": "stream",
     "text": [
      "Loss:  9.210006713867188\n",
      "Loss:  9.18106460571289\n",
      "Loss:  9.262447357177734\n"
     ]
    },
    {
     "name": "stderr",
     "output_type": "stream",
     "text": [
      " 35%|█████████████▊                          | 433/1250 [00:39<01:14, 10.97it/s]"
     ]
    },
    {
     "name": "stdout",
     "output_type": "stream",
     "text": [
      "Loss:  9.218029022216797\n",
      "Loss:  9.25910472869873\n",
      "Loss:  9.271907806396484\n"
     ]
    },
    {
     "name": "stderr",
     "output_type": "stream",
     "text": [
      " 35%|█████████████▉                          | 437/1250 [00:39<01:12, 11.22it/s]"
     ]
    },
    {
     "name": "stdout",
     "output_type": "stream",
     "text": [
      "Loss:  9.22731876373291\n",
      "Loss:  9.256203651428223\n",
      "Loss:  9.184393882751465\n"
     ]
    },
    {
     "name": "stderr",
     "output_type": "stream",
     "text": [
      " 35%|██████████████                          | 439/1250 [00:39<01:12, 11.17it/s]"
     ]
    },
    {
     "name": "stdout",
     "output_type": "stream",
     "text": [
      "Loss:  9.288055419921875\n",
      "Loss:  9.189245223999023\n",
      "Loss:  9.137300491333008\n"
     ]
    },
    {
     "name": "stderr",
     "output_type": "stream",
     "text": [
      " 35%|██████████████▏                         | 443/1250 [00:40<01:12, 11.20it/s]"
     ]
    },
    {
     "name": "stdout",
     "output_type": "stream",
     "text": [
      "Loss:  9.171140670776367\n",
      "Loss:  9.118309020996094\n",
      "Loss:  9.181294441223145\n"
     ]
    },
    {
     "name": "stderr",
     "output_type": "stream",
     "text": [
      " 36%|██████████████▏                         | 445/1250 [00:40<01:13, 11.01it/s]"
     ]
    },
    {
     "name": "stdout",
     "output_type": "stream",
     "text": [
      "Loss:  9.274901390075684\n",
      "Loss:  9.207029342651367\n",
      "Loss:  9.137960433959961\n"
     ]
    },
    {
     "name": "stderr",
     "output_type": "stream",
     "text": [
      " 36%|██████████████▎                         | 449/1250 [00:40<01:10, 11.43it/s]"
     ]
    },
    {
     "name": "stdout",
     "output_type": "stream",
     "text": [
      "Loss:  9.204904556274414\n",
      "Loss:  9.188231468200684\n",
      "Loss:  9.245211601257324\n"
     ]
    },
    {
     "name": "stderr",
     "output_type": "stream",
     "text": [
      " 36%|██████████████▍                         | 451/1250 [00:40<01:09, 11.43it/s]"
     ]
    },
    {
     "name": "stdout",
     "output_type": "stream",
     "text": [
      "Loss:  9.180852890014648\n",
      "Loss:  9.285134315490723\n",
      "Loss:  9.117491722106934\n"
     ]
    },
    {
     "name": "stderr",
     "output_type": "stream",
     "text": [
      " 36%|██████████████▌                         | 455/1250 [00:41<01:10, 11.35it/s]"
     ]
    },
    {
     "name": "stdout",
     "output_type": "stream",
     "text": [
      "Loss:  9.159008026123047\n",
      "Loss:  9.208768844604492\n",
      "Loss:  9.25616455078125\n"
     ]
    },
    {
     "name": "stderr",
     "output_type": "stream",
     "text": [
      " 37%|██████████████▌                         | 457/1250 [00:41<01:10, 11.28it/s]"
     ]
    },
    {
     "name": "stdout",
     "output_type": "stream",
     "text": [
      "Loss:  9.235157012939453\n",
      "Loss:  9.181697845458984\n",
      "Loss:  9.20567798614502\n"
     ]
    },
    {
     "name": "stderr",
     "output_type": "stream",
     "text": [
      " 37%|██████████████▊                         | 461/1250 [00:41<01:11, 11.04it/s]"
     ]
    },
    {
     "name": "stdout",
     "output_type": "stream",
     "text": [
      "Loss:  9.246461868286133\n",
      "Loss:  9.285477638244629\n",
      "Loss:  9.249625205993652\n"
     ]
    },
    {
     "name": "stderr",
     "output_type": "stream",
     "text": [
      " 37%|██████████████▊                         | 463/1250 [00:41<01:12, 10.91it/s]"
     ]
    },
    {
     "name": "stdout",
     "output_type": "stream",
     "text": [
      "Loss:  9.205648422241211\n",
      "Loss:  9.107391357421875\n",
      "Loss:  9.232527732849121\n"
     ]
    },
    {
     "name": "stderr",
     "output_type": "stream",
     "text": [
      " 37%|██████████████▉                         | 467/1250 [00:42<01:12, 10.86it/s]"
     ]
    },
    {
     "name": "stdout",
     "output_type": "stream",
     "text": [
      "Loss:  9.188308715820312\n",
      "Loss:  9.191539764404297\n",
      "Loss:  9.132999420166016\n"
     ]
    },
    {
     "name": "stderr",
     "output_type": "stream",
     "text": [
      " 38%|███████████████                         | 469/1250 [00:42<01:11, 10.90it/s]"
     ]
    },
    {
     "name": "stdout",
     "output_type": "stream",
     "text": [
      "Loss:  9.255765914916992\n",
      "Loss:  9.201667785644531\n",
      "Loss:  9.261444091796875\n"
     ]
    },
    {
     "name": "stderr",
     "output_type": "stream",
     "text": [
      " 38%|███████████████▏                        | 473/1250 [00:42<01:11, 10.88it/s]"
     ]
    },
    {
     "name": "stdout",
     "output_type": "stream",
     "text": [
      "Loss:  9.202644348144531\n",
      "Loss:  9.179956436157227\n",
      "Loss:  9.223797798156738\n"
     ]
    },
    {
     "name": "stderr",
     "output_type": "stream",
     "text": [
      " 38%|███████████████▏                        | 475/1250 [00:43<01:11, 10.89it/s]"
     ]
    },
    {
     "name": "stdout",
     "output_type": "stream",
     "text": [
      "Loss:  9.223810195922852\n",
      "Loss:  9.225940704345703\n",
      "Loss:  9.229024887084961\n"
     ]
    },
    {
     "name": "stderr",
     "output_type": "stream",
     "text": [
      " 38%|███████████████▎                        | 479/1250 [00:43<01:09, 11.03it/s]"
     ]
    },
    {
     "name": "stdout",
     "output_type": "stream",
     "text": [
      "Loss:  9.213743209838867\n",
      "Loss:  9.2562837600708\n",
      "Loss:  9.174615859985352\n"
     ]
    },
    {
     "name": "stderr",
     "output_type": "stream",
     "text": [
      " 38%|███████████████▍                        | 481/1250 [00:43<01:09, 11.13it/s]"
     ]
    },
    {
     "name": "stdout",
     "output_type": "stream",
     "text": [
      "Loss:  9.158413887023926\n",
      "Loss:  9.342018127441406\n",
      "Loss:  9.212942123413086\n"
     ]
    },
    {
     "name": "stderr",
     "output_type": "stream",
     "text": [
      " 39%|███████████████▌                        | 485/1250 [00:43<01:07, 11.31it/s]"
     ]
    },
    {
     "name": "stdout",
     "output_type": "stream",
     "text": [
      "Loss:  9.20297908782959\n",
      "Loss:  9.145818710327148\n",
      "Loss:  9.190093994140625\n"
     ]
    },
    {
     "name": "stderr",
     "output_type": "stream",
     "text": [
      " 39%|███████████████▌                        | 487/1250 [00:44<01:08, 11.15it/s]"
     ]
    },
    {
     "name": "stdout",
     "output_type": "stream",
     "text": [
      "Loss:  9.194930076599121\n",
      "Loss:  9.17480754852295\n",
      "Loss:  9.178460121154785\n"
     ]
    },
    {
     "name": "stderr",
     "output_type": "stream",
     "text": [
      " 39%|███████████████▋                        | 491/1250 [00:44<01:08, 11.01it/s]"
     ]
    },
    {
     "name": "stdout",
     "output_type": "stream",
     "text": [
      "Loss:  9.243963241577148\n",
      "Loss:  9.196781158447266\n",
      "Loss:  9.130136489868164\n"
     ]
    },
    {
     "name": "stderr",
     "output_type": "stream",
     "text": [
      " 39%|███████████████▊                        | 493/1250 [00:44<01:08, 11.06it/s]"
     ]
    },
    {
     "name": "stdout",
     "output_type": "stream",
     "text": [
      "Loss:  9.238149642944336\n",
      "Loss:  9.279958724975586\n",
      "Loss:  9.153599739074707\n"
     ]
    },
    {
     "name": "stderr",
     "output_type": "stream",
     "text": [
      " 40%|███████████████▉                        | 497/1250 [00:45<01:08, 10.95it/s]"
     ]
    },
    {
     "name": "stdout",
     "output_type": "stream",
     "text": [
      "Loss:  9.2046480178833\n",
      "Loss:  9.25999927520752\n",
      "Loss:  9.189312934875488\n"
     ]
    },
    {
     "name": "stderr",
     "output_type": "stream",
     "text": [
      " 40%|███████████████▉                        | 499/1250 [00:45<01:08, 10.96it/s]"
     ]
    },
    {
     "name": "stdout",
     "output_type": "stream",
     "text": [
      "Loss:  9.174776077270508\n",
      "Loss:  9.221288681030273\n",
      "Loss:  9.210052490234375\n"
     ]
    },
    {
     "name": "stderr",
     "output_type": "stream",
     "text": [
      " 40%|████████████████                        | 503/1250 [00:45<01:07, 11.06it/s]"
     ]
    },
    {
     "name": "stdout",
     "output_type": "stream",
     "text": [
      "Loss:  9.173852920532227\n",
      "Loss:  9.158452987670898\n",
      "Loss:  9.146560668945312\n"
     ]
    },
    {
     "name": "stderr",
     "output_type": "stream",
     "text": [
      " 40%|████████████████▏                       | 505/1250 [00:45<01:06, 11.16it/s]"
     ]
    },
    {
     "name": "stdout",
     "output_type": "stream",
     "text": [
      "Loss:  9.181318283081055\n",
      "Loss:  9.258947372436523\n",
      "Loss:  9.2322416305542\n"
     ]
    },
    {
     "name": "stderr",
     "output_type": "stream",
     "text": [
      " 41%|████████████████▎                       | 509/1250 [00:46<01:07, 10.99it/s]"
     ]
    },
    {
     "name": "stdout",
     "output_type": "stream",
     "text": [
      "Loss:  9.283357620239258\n",
      "Loss:  9.211519241333008\n",
      "Loss:  9.229314804077148\n"
     ]
    },
    {
     "name": "stderr",
     "output_type": "stream",
     "text": [
      " 41%|████████████████▎                       | 511/1250 [00:46<01:07, 10.91it/s]"
     ]
    },
    {
     "name": "stdout",
     "output_type": "stream",
     "text": [
      "Loss:  9.19029712677002\n",
      "Loss:  9.10359001159668\n",
      "Loss:  9.330230712890625\n"
     ]
    },
    {
     "name": "stderr",
     "output_type": "stream",
     "text": [
      " 41%|████████████████▍                       | 515/1250 [00:46<01:08, 10.74it/s]"
     ]
    },
    {
     "name": "stdout",
     "output_type": "stream",
     "text": [
      "Loss:  9.17066478729248\n",
      "Loss:  9.144229888916016\n",
      "Loss:  9.164002418518066\n"
     ]
    },
    {
     "name": "stderr",
     "output_type": "stream",
     "text": [
      " 41%|████████████████▌                       | 517/1250 [00:46<01:08, 10.68it/s]"
     ]
    },
    {
     "name": "stdout",
     "output_type": "stream",
     "text": [
      "Loss:  9.20059585571289\n",
      "Loss:  9.24177360534668\n",
      "Loss:  9.244133949279785\n"
     ]
    },
    {
     "name": "stderr",
     "output_type": "stream",
     "text": [
      " 42%|████████████████▋                       | 521/1250 [00:47<01:06, 10.95it/s]"
     ]
    },
    {
     "name": "stdout",
     "output_type": "stream",
     "text": [
      "Loss:  9.324943542480469\n",
      "Loss:  9.247756958007812\n",
      "Loss:  9.202651977539062\n"
     ]
    },
    {
     "name": "stderr",
     "output_type": "stream",
     "text": [
      " 42%|████████████████▋                       | 523/1250 [00:47<01:06, 10.94it/s]"
     ]
    },
    {
     "name": "stdout",
     "output_type": "stream",
     "text": [
      "Loss:  9.230376243591309\n",
      "Loss:  9.252120018005371\n",
      "Loss:  9.205760955810547\n"
     ]
    },
    {
     "name": "stderr",
     "output_type": "stream",
     "text": [
      " 42%|████████████████▊                       | 527/1250 [00:47<01:05, 11.05it/s]"
     ]
    },
    {
     "name": "stdout",
     "output_type": "stream",
     "text": [
      "Loss:  9.173023223876953\n",
      "Loss:  9.204885482788086\n",
      "Loss:  9.218542098999023\n"
     ]
    },
    {
     "name": "stderr",
     "output_type": "stream",
     "text": [
      " 42%|████████████████▉                       | 529/1250 [00:47<01:05, 10.96it/s]"
     ]
    },
    {
     "name": "stdout",
     "output_type": "stream",
     "text": [
      "Loss:  9.187417984008789\n",
      "Loss:  9.207942962646484\n",
      "Loss:  9.222524642944336\n"
     ]
    },
    {
     "name": "stderr",
     "output_type": "stream",
     "text": [
      " 43%|█████████████████                       | 533/1250 [00:48<01:05, 11.01it/s]"
     ]
    },
    {
     "name": "stdout",
     "output_type": "stream",
     "text": [
      "Loss:  9.228327751159668\n",
      "Loss:  9.257728576660156\n",
      "Loss:  9.20682430267334\n"
     ]
    },
    {
     "name": "stderr",
     "output_type": "stream",
     "text": [
      " 43%|█████████████████                       | 535/1250 [00:48<01:05, 10.89it/s]"
     ]
    },
    {
     "name": "stdout",
     "output_type": "stream",
     "text": [
      "Loss:  9.213191032409668\n",
      "Loss:  9.210323333740234\n",
      "Loss:  9.282455444335938\n"
     ]
    },
    {
     "name": "stderr",
     "output_type": "stream",
     "text": [
      " 43%|█████████████████▏                      | 539/1250 [00:48<01:05, 10.81it/s]"
     ]
    },
    {
     "name": "stdout",
     "output_type": "stream",
     "text": [
      "Loss:  9.300993919372559\n",
      "Loss:  9.2227783203125\n",
      "Loss:  9.230962753295898\n"
     ]
    },
    {
     "name": "stderr",
     "output_type": "stream",
     "text": [
      " 43%|█████████████████▎                      | 541/1250 [00:49<01:05, 10.82it/s]"
     ]
    },
    {
     "name": "stdout",
     "output_type": "stream",
     "text": [
      "Loss:  9.184202194213867\n",
      "Loss:  9.142874717712402\n",
      "Loss:  9.183527946472168\n"
     ]
    },
    {
     "name": "stderr",
     "output_type": "stream",
     "text": [
      " 44%|█████████████████▍                      | 545/1250 [00:49<01:04, 10.89it/s]"
     ]
    },
    {
     "name": "stdout",
     "output_type": "stream",
     "text": [
      "Loss:  9.234249114990234\n",
      "Loss:  9.191032409667969\n",
      "Loss:  9.218069076538086\n"
     ]
    },
    {
     "name": "stderr",
     "output_type": "stream",
     "text": [
      " 44%|█████████████████▌                      | 547/1250 [00:49<01:04, 10.83it/s]"
     ]
    },
    {
     "name": "stdout",
     "output_type": "stream",
     "text": [
      "Loss:  9.186830520629883\n",
      "Loss:  9.247357368469238\n",
      "Loss:  9.188285827636719\n"
     ]
    },
    {
     "name": "stderr",
     "output_type": "stream",
     "text": [
      " 44%|█████████████████▋                      | 551/1250 [00:49<01:03, 10.93it/s]"
     ]
    },
    {
     "name": "stdout",
     "output_type": "stream",
     "text": [
      "Loss:  9.103825569152832\n",
      "Loss:  9.202670097351074\n",
      "Loss:  9.212407112121582\n"
     ]
    },
    {
     "name": "stderr",
     "output_type": "stream",
     "text": [
      " 44%|█████████████████▋                      | 553/1250 [00:50<01:03, 10.93it/s]"
     ]
    },
    {
     "name": "stdout",
     "output_type": "stream",
     "text": [
      "Loss:  9.17747974395752\n",
      "Loss:  9.201065063476562\n",
      "Loss:  9.252056121826172\n"
     ]
    },
    {
     "name": "stderr",
     "output_type": "stream",
     "text": [
      " 45%|█████████████████▊                      | 557/1250 [00:50<01:02, 11.09it/s]"
     ]
    },
    {
     "name": "stdout",
     "output_type": "stream",
     "text": [
      "Loss:  9.18346118927002\n",
      "Loss:  9.08304500579834\n",
      "Loss:  9.157524108886719\n"
     ]
    },
    {
     "name": "stderr",
     "output_type": "stream",
     "text": [
      " 45%|█████████████████▉                      | 559/1250 [00:50<01:02, 10.97it/s]"
     ]
    },
    {
     "name": "stdout",
     "output_type": "stream",
     "text": [
      "Loss:  9.247751235961914\n",
      "Loss:  9.174661636352539\n",
      "Loss:  9.14089584350586\n"
     ]
    },
    {
     "name": "stderr",
     "output_type": "stream",
     "text": [
      " 45%|██████████████████                      | 563/1250 [00:51<01:02, 10.99it/s]"
     ]
    },
    {
     "name": "stdout",
     "output_type": "stream",
     "text": [
      "Loss:  9.253028869628906\n",
      "Loss:  9.205718994140625\n",
      "Loss:  9.195413589477539\n"
     ]
    },
    {
     "name": "stderr",
     "output_type": "stream",
     "text": [
      " 45%|██████████████████                      | 565/1250 [00:51<01:02, 10.95it/s]"
     ]
    },
    {
     "name": "stdout",
     "output_type": "stream",
     "text": [
      "Loss:  9.171653747558594\n",
      "Loss:  9.207931518554688\n",
      "Loss:  9.200242042541504\n"
     ]
    },
    {
     "name": "stderr",
     "output_type": "stream",
     "text": [
      " 46%|██████████████████▏                     | 569/1250 [00:51<01:03, 10.74it/s]"
     ]
    },
    {
     "name": "stdout",
     "output_type": "stream",
     "text": [
      "Loss:  9.192253112792969\n",
      "Loss:  9.24225902557373\n",
      "Loss:  9.127559661865234\n"
     ]
    },
    {
     "name": "stderr",
     "output_type": "stream",
     "text": [
      " 46%|██████████████████▎                     | 571/1250 [00:51<01:02, 10.85it/s]"
     ]
    },
    {
     "name": "stdout",
     "output_type": "stream",
     "text": [
      "Loss:  9.211153984069824\n",
      "Loss:  9.241918563842773\n",
      "Loss:  9.158682823181152\n"
     ]
    },
    {
     "name": "stderr",
     "output_type": "stream",
     "text": [
      " 46%|██████████████████▍                     | 575/1250 [00:52<01:03, 10.71it/s]"
     ]
    },
    {
     "name": "stdout",
     "output_type": "stream",
     "text": [
      "Loss:  9.213117599487305\n",
      "Loss:  9.236396789550781\n",
      "Loss:  9.218291282653809\n"
     ]
    },
    {
     "name": "stderr",
     "output_type": "stream",
     "text": [
      " 46%|██████████████████▍                     | 577/1250 [00:52<01:01, 10.86it/s]"
     ]
    },
    {
     "name": "stdout",
     "output_type": "stream",
     "text": [
      "Loss:  9.197375297546387\n",
      "Loss:  9.116891860961914\n",
      "Loss:  9.174762725830078\n"
     ]
    },
    {
     "name": "stderr",
     "output_type": "stream",
     "text": [
      " 46%|██████████████████▌                     | 581/1250 [00:52<01:01, 10.92it/s]"
     ]
    },
    {
     "name": "stdout",
     "output_type": "stream",
     "text": [
      "Loss:  9.188610076904297\n",
      "Loss:  9.258230209350586\n",
      "Loss:  9.179129600524902\n"
     ]
    },
    {
     "name": "stderr",
     "output_type": "stream",
     "text": [
      " 47%|██████████████████▋                     | 583/1250 [00:52<01:01, 10.87it/s]"
     ]
    },
    {
     "name": "stdout",
     "output_type": "stream",
     "text": [
      "Loss:  9.278412818908691\n",
      "Loss:  9.185914993286133\n",
      "Loss:  9.167530059814453\n"
     ]
    },
    {
     "name": "stderr",
     "output_type": "stream",
     "text": [
      " 47%|██████████████████▊                     | 587/1250 [00:53<00:59, 11.05it/s]"
     ]
    },
    {
     "name": "stdout",
     "output_type": "stream",
     "text": [
      "Loss:  9.25526237487793\n",
      "Loss:  9.26127815246582\n",
      "Loss:  9.154603004455566\n"
     ]
    },
    {
     "name": "stderr",
     "output_type": "stream",
     "text": [
      " 47%|██████████████████▊                     | 589/1250 [00:53<00:59, 11.03it/s]"
     ]
    },
    {
     "name": "stdout",
     "output_type": "stream",
     "text": [
      "Loss:  9.24194622039795\n",
      "Loss:  9.235679626464844\n",
      "Loss:  9.148983001708984\n"
     ]
    },
    {
     "name": "stderr",
     "output_type": "stream",
     "text": [
      " 47%|██████████████████▉                     | 593/1250 [00:53<00:59, 11.05it/s]"
     ]
    },
    {
     "name": "stdout",
     "output_type": "stream",
     "text": [
      "Loss:  9.166048049926758\n",
      "Loss:  9.163237571716309\n",
      "Loss:  9.228520393371582\n"
     ]
    },
    {
     "name": "stderr",
     "output_type": "stream",
     "text": [
      " 48%|███████████████████                     | 595/1250 [00:53<00:59, 11.10it/s]"
     ]
    },
    {
     "name": "stdout",
     "output_type": "stream",
     "text": [
      "Loss:  9.203849792480469\n",
      "Loss:  9.279339790344238\n",
      "Loss:  9.133610725402832\n"
     ]
    },
    {
     "name": "stderr",
     "output_type": "stream",
     "text": [
      " 48%|███████████████████▏                    | 599/1250 [00:54<00:59, 10.91it/s]"
     ]
    },
    {
     "name": "stdout",
     "output_type": "stream",
     "text": [
      "Loss:  9.224166870117188\n",
      "Loss:  9.244027137756348\n",
      "Loss:  9.254707336425781\n"
     ]
    },
    {
     "name": "stderr",
     "output_type": "stream",
     "text": [
      " 48%|███████████████████▏                    | 601/1250 [00:54<01:00, 10.80it/s]"
     ]
    },
    {
     "name": "stdout",
     "output_type": "stream",
     "text": [
      "Loss:  9.247194290161133\n",
      "Loss:  9.227168083190918\n",
      "Loss:  9.210052490234375\n"
     ]
    },
    {
     "name": "stderr",
     "output_type": "stream",
     "text": [
      " 48%|███████████████████▎                    | 605/1250 [00:54<00:59, 10.77it/s]"
     ]
    },
    {
     "name": "stdout",
     "output_type": "stream",
     "text": [
      "Loss:  9.236202239990234\n",
      "Loss:  9.258563041687012\n",
      "Loss:  9.119682312011719\n"
     ]
    },
    {
     "name": "stderr",
     "output_type": "stream",
     "text": [
      " 49%|███████████████████▍                    | 607/1250 [00:55<00:59, 10.74it/s]"
     ]
    },
    {
     "name": "stdout",
     "output_type": "stream",
     "text": [
      "Loss:  9.292715072631836\n",
      "Loss:  9.318496704101562\n",
      "Loss:  9.217124938964844\n"
     ]
    },
    {
     "name": "stderr",
     "output_type": "stream",
     "text": [
      " 49%|███████████████████▌                    | 611/1250 [00:55<00:59, 10.79it/s]"
     ]
    },
    {
     "name": "stdout",
     "output_type": "stream",
     "text": [
      "Loss:  9.269878387451172\n",
      "Loss:  9.237409591674805\n",
      "Loss:  9.215353965759277\n"
     ]
    },
    {
     "name": "stderr",
     "output_type": "stream",
     "text": [
      " 49%|███████████████████▌                    | 613/1250 [00:55<00:58, 10.95it/s]"
     ]
    },
    {
     "name": "stdout",
     "output_type": "stream",
     "text": [
      "Loss:  9.291397094726562\n",
      "Loss:  9.254644393920898\n",
      "Loss:  9.263351440429688\n"
     ]
    },
    {
     "name": "stderr",
     "output_type": "stream",
     "text": [
      " 49%|███████████████████▋                    | 617/1250 [00:56<00:58, 10.73it/s]"
     ]
    },
    {
     "name": "stdout",
     "output_type": "stream",
     "text": [
      "Loss:  9.246206283569336\n",
      "Loss:  9.126087188720703\n",
      "Loss:  9.094491958618164\n"
     ]
    },
    {
     "name": "stderr",
     "output_type": "stream",
     "text": [
      " 50%|███████████████████▊                    | 619/1250 [00:56<00:59, 10.59it/s]"
     ]
    },
    {
     "name": "stdout",
     "output_type": "stream",
     "text": [
      "Loss:  9.10667610168457\n",
      "Loss:  9.202888488769531\n",
      "Loss:  9.23454475402832\n"
     ]
    },
    {
     "name": "stderr",
     "output_type": "stream",
     "text": [
      " 50%|███████████████████▉                    | 623/1250 [00:56<00:58, 10.74it/s]"
     ]
    },
    {
     "name": "stdout",
     "output_type": "stream",
     "text": [
      "Loss:  9.203996658325195\n",
      "Loss:  9.125905990600586\n",
      "Loss:  9.172160148620605\n"
     ]
    },
    {
     "name": "stderr",
     "output_type": "stream",
     "text": [
      " 50%|████████████████████                    | 625/1250 [00:56<00:58, 10.70it/s]"
     ]
    },
    {
     "name": "stdout",
     "output_type": "stream",
     "text": [
      "Loss:  9.310070991516113\n",
      "Loss:  9.180183410644531\n",
      "Loss:  9.212602615356445\n"
     ]
    },
    {
     "name": "stderr",
     "output_type": "stream",
     "text": [
      " 50%|████████████████████▏                   | 629/1250 [00:57<00:57, 10.73it/s]"
     ]
    },
    {
     "name": "stdout",
     "output_type": "stream",
     "text": [
      "Loss:  9.180829048156738\n",
      "Loss:  9.217324256896973\n",
      "Loss:  9.2612943649292\n"
     ]
    },
    {
     "name": "stderr",
     "output_type": "stream",
     "text": [
      " 50%|████████████████████▏                   | 631/1250 [00:57<00:57, 10.75it/s]"
     ]
    },
    {
     "name": "stdout",
     "output_type": "stream",
     "text": [
      "Loss:  9.222572326660156\n",
      "Loss:  9.180700302124023\n",
      "Loss:  9.165818214416504\n"
     ]
    },
    {
     "name": "stderr",
     "output_type": "stream",
     "text": [
      " 51%|████████████████████▎                   | 635/1250 [00:57<00:56, 10.86it/s]"
     ]
    },
    {
     "name": "stdout",
     "output_type": "stream",
     "text": [
      "Loss:  9.292476654052734\n",
      "Loss:  9.212593078613281\n",
      "Loss:  9.306172370910645\n"
     ]
    },
    {
     "name": "stderr",
     "output_type": "stream",
     "text": [
      " 51%|████████████████████▍                   | 637/1250 [00:57<00:56, 10.80it/s]"
     ]
    },
    {
     "name": "stdout",
     "output_type": "stream",
     "text": [
      "Loss:  9.154180526733398\n",
      "Loss:  9.165562629699707\n",
      "Loss:  9.249313354492188\n"
     ]
    },
    {
     "name": "stderr",
     "output_type": "stream",
     "text": [
      " 51%|████████████████████▌                   | 641/1250 [00:58<00:56, 10.86it/s]"
     ]
    },
    {
     "name": "stdout",
     "output_type": "stream",
     "text": [
      "Loss:  9.215721130371094\n",
      "Loss:  9.201780319213867\n",
      "Loss:  9.262480735778809\n"
     ]
    },
    {
     "name": "stderr",
     "output_type": "stream",
     "text": [
      " 51%|████████████████████▌                   | 643/1250 [00:58<00:55, 10.93it/s]"
     ]
    },
    {
     "name": "stdout",
     "output_type": "stream",
     "text": [
      "Loss:  9.178943634033203\n",
      "Loss:  9.339902877807617\n",
      "Loss:  9.212279319763184\n"
     ]
    },
    {
     "name": "stderr",
     "output_type": "stream",
     "text": [
      " 52%|████████████████████▋                   | 647/1250 [00:58<00:55, 10.86it/s]"
     ]
    },
    {
     "name": "stdout",
     "output_type": "stream",
     "text": [
      "Loss:  9.268186569213867\n",
      "Loss:  9.169411659240723\n",
      "Loss:  9.209012985229492\n"
     ]
    },
    {
     "name": "stderr",
     "output_type": "stream",
     "text": [
      " 52%|████████████████████▊                   | 649/1250 [00:58<00:55, 10.81it/s]"
     ]
    },
    {
     "name": "stdout",
     "output_type": "stream",
     "text": [
      "Loss:  9.23931884765625\n",
      "Loss:  9.22882080078125\n",
      "Loss:  9.169994354248047\n"
     ]
    },
    {
     "name": "stderr",
     "output_type": "stream",
     "text": [
      " 52%|████████████████████▉                   | 653/1250 [00:59<00:55, 10.78it/s]"
     ]
    },
    {
     "name": "stdout",
     "output_type": "stream",
     "text": [
      "Loss:  9.251130104064941\n",
      "Loss:  9.245141983032227\n",
      "Loss:  9.142935752868652\n"
     ]
    },
    {
     "name": "stderr",
     "output_type": "stream",
     "text": [
      " 52%|████████████████████▉                   | 655/1250 [00:59<00:55, 10.82it/s]"
     ]
    },
    {
     "name": "stdout",
     "output_type": "stream",
     "text": [
      "Loss:  9.218725204467773\n",
      "Loss:  9.246334075927734\n",
      "Loss:  9.153564453125\n"
     ]
    },
    {
     "name": "stderr",
     "output_type": "stream",
     "text": [
      " 53%|█████████████████████                   | 659/1250 [00:59<00:54, 10.84it/s]"
     ]
    },
    {
     "name": "stdout",
     "output_type": "stream",
     "text": [
      "Loss:  9.230547904968262\n",
      "Loss:  9.167085647583008\n",
      "Loss:  9.230339050292969\n"
     ]
    },
    {
     "name": "stderr",
     "output_type": "stream",
     "text": [
      " 53%|█████████████████████▏                  | 661/1250 [01:00<00:53, 10.98it/s]"
     ]
    },
    {
     "name": "stdout",
     "output_type": "stream",
     "text": [
      "Loss:  9.158952713012695\n",
      "Loss:  9.218462944030762\n",
      "Loss:  9.275734901428223\n"
     ]
    },
    {
     "name": "stderr",
     "output_type": "stream",
     "text": [
      " 53%|█████████████████████▎                  | 665/1250 [01:00<00:52, 11.04it/s]"
     ]
    },
    {
     "name": "stdout",
     "output_type": "stream",
     "text": [
      "Loss:  9.226972579956055\n",
      "Loss:  9.052020072937012\n",
      "Loss:  9.263139724731445\n"
     ]
    },
    {
     "name": "stderr",
     "output_type": "stream",
     "text": [
      " 53%|█████████████████████▎                  | 667/1250 [01:00<00:52, 11.11it/s]"
     ]
    },
    {
     "name": "stdout",
     "output_type": "stream",
     "text": [
      "Loss:  9.189458847045898\n",
      "Loss:  9.23878002166748\n",
      "Loss:  9.238821029663086\n"
     ]
    },
    {
     "name": "stderr",
     "output_type": "stream",
     "text": [
      " 54%|█████████████████████▍                  | 671/1250 [01:01<00:52, 11.06it/s]"
     ]
    },
    {
     "name": "stdout",
     "output_type": "stream",
     "text": [
      "Loss:  9.207561492919922\n",
      "Loss:  9.211158752441406\n",
      "Loss:  9.346731185913086\n"
     ]
    },
    {
     "name": "stderr",
     "output_type": "stream",
     "text": [
      " 54%|█████████████████████▌                  | 673/1250 [01:01<00:52, 11.08it/s]"
     ]
    },
    {
     "name": "stdout",
     "output_type": "stream",
     "text": [
      "Loss:  9.197904586791992\n",
      "Loss:  9.16446304321289\n",
      "Loss:  9.199088096618652\n"
     ]
    },
    {
     "name": "stderr",
     "output_type": "stream",
     "text": [
      " 54%|█████████████████████▋                  | 677/1250 [01:01<00:51, 11.03it/s]"
     ]
    },
    {
     "name": "stdout",
     "output_type": "stream",
     "text": [
      "Loss:  9.207443237304688\n",
      "Loss:  9.225528717041016\n",
      "Loss:  9.219762802124023\n"
     ]
    },
    {
     "name": "stderr",
     "output_type": "stream",
     "text": [
      " 54%|█████████████████████▋                  | 679/1250 [01:01<00:52, 10.87it/s]"
     ]
    },
    {
     "name": "stdout",
     "output_type": "stream",
     "text": [
      "Loss:  9.181087493896484\n",
      "Loss:  9.154703140258789\n",
      "Loss:  9.176473617553711\n"
     ]
    },
    {
     "name": "stderr",
     "output_type": "stream",
     "text": [
      " 55%|█████████████████████▊                  | 683/1250 [01:02<00:51, 11.04it/s]"
     ]
    },
    {
     "name": "stdout",
     "output_type": "stream",
     "text": [
      "Loss:  9.18742561340332\n",
      "Loss:  9.22951602935791\n",
      "Loss:  9.21251106262207\n"
     ]
    },
    {
     "name": "stderr",
     "output_type": "stream",
     "text": [
      " 55%|█████████████████████▉                  | 685/1250 [01:02<00:50, 11.15it/s]"
     ]
    },
    {
     "name": "stdout",
     "output_type": "stream",
     "text": [
      "Loss:  9.266338348388672\n",
      "Loss:  9.290765762329102\n",
      "Loss:  9.2559814453125\n"
     ]
    },
    {
     "name": "stderr",
     "output_type": "stream",
     "text": [
      " 55%|██████████████████████                  | 689/1250 [01:02<00:50, 11.12it/s]"
     ]
    },
    {
     "name": "stdout",
     "output_type": "stream",
     "text": [
      "Loss:  9.301048278808594\n",
      "Loss:  9.142847061157227\n",
      "Loss:  9.202071189880371\n"
     ]
    },
    {
     "name": "stderr",
     "output_type": "stream",
     "text": [
      " 55%|██████████████████████                  | 691/1250 [01:02<00:50, 11.14it/s]"
     ]
    },
    {
     "name": "stdout",
     "output_type": "stream",
     "text": [
      "Loss:  9.1987943649292\n",
      "Loss:  9.172657012939453\n",
      "Loss:  9.240527153015137\n"
     ]
    },
    {
     "name": "stderr",
     "output_type": "stream",
     "text": [
      " 56%|██████████████████████▏                 | 695/1250 [01:03<00:50, 10.89it/s]"
     ]
    },
    {
     "name": "stdout",
     "output_type": "stream",
     "text": [
      "Loss:  9.133448600769043\n",
      "Loss:  9.292563438415527\n",
      "Loss:  9.315815925598145\n"
     ]
    },
    {
     "name": "stderr",
     "output_type": "stream",
     "text": [
      " 56%|██████████████████████▎                 | 697/1250 [01:03<00:50, 10.90it/s]"
     ]
    },
    {
     "name": "stdout",
     "output_type": "stream",
     "text": [
      "Loss:  9.262009620666504\n",
      "Loss:  9.198843002319336\n",
      "Loss:  9.265774726867676\n"
     ]
    },
    {
     "name": "stderr",
     "output_type": "stream",
     "text": [
      " 56%|██████████████████████▍                 | 701/1250 [01:03<00:49, 11.02it/s]"
     ]
    },
    {
     "name": "stdout",
     "output_type": "stream",
     "text": [
      "Loss:  9.260464668273926\n",
      "Loss:  9.246830940246582\n",
      "Loss:  9.245783805847168\n"
     ]
    },
    {
     "name": "stderr",
     "output_type": "stream",
     "text": [
      " 56%|██████████████████████▍                 | 703/1250 [01:03<00:48, 11.17it/s]"
     ]
    },
    {
     "name": "stdout",
     "output_type": "stream",
     "text": [
      "Loss:  9.23621940612793\n",
      "Loss:  9.190145492553711\n",
      "Loss:  9.258466720581055\n"
     ]
    },
    {
     "name": "stderr",
     "output_type": "stream",
     "text": [
      " 57%|██████████████████████▌                 | 707/1250 [01:04<00:48, 11.20it/s]"
     ]
    },
    {
     "name": "stdout",
     "output_type": "stream",
     "text": [
      "Loss:  9.280397415161133\n",
      "Loss:  9.20909309387207\n",
      "Loss:  9.176556587219238\n"
     ]
    },
    {
     "name": "stderr",
     "output_type": "stream",
     "text": [
      " 57%|██████████████████████▋                 | 709/1250 [01:04<00:48, 11.19it/s]"
     ]
    },
    {
     "name": "stdout",
     "output_type": "stream",
     "text": [
      "Loss:  9.21791934967041\n",
      "Loss:  9.235535621643066\n",
      "Loss:  9.171113967895508\n"
     ]
    },
    {
     "name": "stderr",
     "output_type": "stream",
     "text": [
      " 57%|██████████████████████▊                 | 713/1250 [01:04<00:48, 11.11it/s]"
     ]
    },
    {
     "name": "stdout",
     "output_type": "stream",
     "text": [
      "Loss:  9.194680213928223\n",
      "Loss:  9.203560829162598\n",
      "Loss:  9.173803329467773\n"
     ]
    },
    {
     "name": "stderr",
     "output_type": "stream",
     "text": [
      " 57%|██████████████████████▉                 | 715/1250 [01:04<00:47, 11.21it/s]"
     ]
    },
    {
     "name": "stdout",
     "output_type": "stream",
     "text": [
      "Loss:  9.205451965332031\n",
      "Loss:  9.292579650878906\n",
      "Loss:  9.144862174987793\n"
     ]
    },
    {
     "name": "stderr",
     "output_type": "stream",
     "text": [
      " 58%|███████████████████████                 | 719/1250 [01:05<00:48, 10.96it/s]"
     ]
    },
    {
     "name": "stdout",
     "output_type": "stream",
     "text": [
      "Loss:  9.295555114746094\n",
      "Loss:  9.187627792358398\n",
      "Loss:  9.177021980285645\n"
     ]
    },
    {
     "name": "stderr",
     "output_type": "stream",
     "text": [
      " 58%|███████████████████████                 | 721/1250 [01:05<00:48, 10.80it/s]"
     ]
    },
    {
     "name": "stdout",
     "output_type": "stream",
     "text": [
      "Loss:  9.267630577087402\n",
      "Loss:  9.26478385925293\n",
      "Loss:  9.22707748413086\n"
     ]
    },
    {
     "name": "stderr",
     "output_type": "stream",
     "text": [
      " 58%|███████████████████████▏                | 725/1250 [01:05<00:47, 11.01it/s]"
     ]
    },
    {
     "name": "stdout",
     "output_type": "stream",
     "text": [
      "Loss:  9.158878326416016\n",
      "Loss:  9.267620086669922\n",
      "Loss:  9.20816421508789\n"
     ]
    },
    {
     "name": "stderr",
     "output_type": "stream",
     "text": [
      " 58%|███████████████████████▎                | 727/1250 [01:06<00:47, 11.03it/s]"
     ]
    },
    {
     "name": "stdout",
     "output_type": "stream",
     "text": [
      "Loss:  9.196229934692383\n",
      "Loss:  9.200080871582031\n",
      "Loss:  9.200618743896484\n"
     ]
    },
    {
     "name": "stderr",
     "output_type": "stream",
     "text": [
      " 58%|███████████████████████▍                | 731/1250 [01:06<00:46, 11.06it/s]"
     ]
    },
    {
     "name": "stdout",
     "output_type": "stream",
     "text": [
      "Loss:  9.256869316101074\n",
      "Loss:  9.27772045135498\n",
      "Loss:  9.192975997924805\n"
     ]
    },
    {
     "name": "stderr",
     "output_type": "stream",
     "text": [
      " 59%|███████████████████████▍                | 733/1250 [01:06<00:46, 11.01it/s]"
     ]
    },
    {
     "name": "stdout",
     "output_type": "stream",
     "text": [
      "Loss:  9.231189727783203\n",
      "Loss:  9.193913459777832\n",
      "Loss:  9.179023742675781\n"
     ]
    },
    {
     "name": "stderr",
     "output_type": "stream",
     "text": [
      " 59%|███████████████████████▌                | 737/1250 [01:06<00:46, 11.07it/s]"
     ]
    },
    {
     "name": "stdout",
     "output_type": "stream",
     "text": [
      "Loss:  9.177807807922363\n",
      "Loss:  9.176804542541504\n",
      "Loss:  9.178330421447754\n"
     ]
    },
    {
     "name": "stderr",
     "output_type": "stream",
     "text": [
      " 59%|███████████████████████▋                | 739/1250 [01:07<00:46, 10.96it/s]"
     ]
    },
    {
     "name": "stdout",
     "output_type": "stream",
     "text": [
      "Loss:  9.233317375183105\n",
      "Loss:  9.203691482543945\n",
      "Loss:  9.186466217041016\n"
     ]
    },
    {
     "name": "stderr",
     "output_type": "stream",
     "text": [
      " 59%|███████████████████████▊                | 743/1250 [01:07<00:46, 10.82it/s]"
     ]
    },
    {
     "name": "stdout",
     "output_type": "stream",
     "text": [
      "Loss:  9.247354507446289\n",
      "Loss:  9.180803298950195\n",
      "Loss:  9.19770336151123\n"
     ]
    },
    {
     "name": "stderr",
     "output_type": "stream",
     "text": [
      " 60%|███████████████████████▊                | 745/1250 [01:07<00:46, 10.77it/s]"
     ]
    },
    {
     "name": "stdout",
     "output_type": "stream",
     "text": [
      "Loss:  9.255441665649414\n",
      "Loss:  9.252899169921875\n",
      "Loss:  9.224297523498535\n"
     ]
    },
    {
     "name": "stderr",
     "output_type": "stream",
     "text": [
      " 60%|███████████████████████▉                | 749/1250 [01:08<00:47, 10.64it/s]"
     ]
    },
    {
     "name": "stdout",
     "output_type": "stream",
     "text": [
      "Loss:  9.217179298400879\n",
      "Loss:  9.172484397888184\n",
      "Loss:  9.239154815673828\n"
     ]
    },
    {
     "name": "stderr",
     "output_type": "stream",
     "text": [
      " 60%|████████████████████████                | 751/1250 [01:08<00:46, 10.78it/s]"
     ]
    },
    {
     "name": "stdout",
     "output_type": "stream",
     "text": [
      "Loss:  9.24222469329834\n",
      "Loss:  9.266936302185059\n",
      "Loss:  9.204790115356445\n"
     ]
    },
    {
     "name": "stderr",
     "output_type": "stream",
     "text": [
      " 60%|████████████████████████▏               | 755/1250 [01:08<00:45, 10.86it/s]"
     ]
    },
    {
     "name": "stdout",
     "output_type": "stream",
     "text": [
      "Loss:  9.12868881225586\n",
      "Loss:  9.25246810913086\n",
      "Loss:  9.195903778076172\n"
     ]
    },
    {
     "name": "stderr",
     "output_type": "stream",
     "text": [
      " 61%|████████████████████████▏               | 757/1250 [01:08<00:45, 10.86it/s]"
     ]
    },
    {
     "name": "stdout",
     "output_type": "stream",
     "text": [
      "Loss:  9.178199768066406\n",
      "Loss:  9.244603157043457\n",
      "Loss:  9.239477157592773\n"
     ]
    },
    {
     "name": "stderr",
     "output_type": "stream",
     "text": [
      " 61%|████████████████████████▎               | 761/1250 [01:09<00:45, 10.66it/s]"
     ]
    },
    {
     "name": "stdout",
     "output_type": "stream",
     "text": [
      "Loss:  9.245126724243164\n",
      "Loss:  9.110931396484375\n",
      "Loss:  9.140487670898438\n"
     ]
    },
    {
     "name": "stderr",
     "output_type": "stream",
     "text": [
      " 61%|████████████████████████▍               | 763/1250 [01:09<00:45, 10.64it/s]"
     ]
    },
    {
     "name": "stdout",
     "output_type": "stream",
     "text": [
      "Loss:  9.26400375366211\n",
      "Loss:  9.17291259765625\n",
      "Loss:  9.201956748962402\n"
     ]
    },
    {
     "name": "stderr",
     "output_type": "stream",
     "text": [
      " 61%|████████████████████████▌               | 767/1250 [01:09<00:45, 10.65it/s]"
     ]
    },
    {
     "name": "stdout",
     "output_type": "stream",
     "text": [
      "Loss:  9.174663543701172\n",
      "Loss:  9.240554809570312\n",
      "Loss:  9.198494911193848\n"
     ]
    },
    {
     "name": "stderr",
     "output_type": "stream",
     "text": [
      " 62%|████████████████████████▌               | 769/1250 [01:09<00:44, 10.69it/s]"
     ]
    },
    {
     "name": "stdout",
     "output_type": "stream",
     "text": [
      "Loss:  9.133901596069336\n",
      "Loss:  9.216968536376953\n",
      "Loss:  9.214534759521484\n"
     ]
    },
    {
     "name": "stderr",
     "output_type": "stream",
     "text": [
      " 62%|████████████████████████▋               | 773/1250 [01:10<00:43, 11.00it/s]"
     ]
    },
    {
     "name": "stdout",
     "output_type": "stream",
     "text": [
      "Loss:  9.182024002075195\n",
      "Loss:  9.222764015197754\n",
      "Loss:  9.20531940460205\n"
     ]
    },
    {
     "name": "stderr",
     "output_type": "stream",
     "text": [
      " 62%|████████████████████████▊               | 775/1250 [01:10<00:43, 10.99it/s]"
     ]
    },
    {
     "name": "stdout",
     "output_type": "stream",
     "text": [
      "Loss:  9.258502960205078\n",
      "Loss:  9.198648452758789\n",
      "Loss:  9.221697807312012\n"
     ]
    },
    {
     "name": "stderr",
     "output_type": "stream",
     "text": [
      " 62%|████████████████████████▉               | 779/1250 [01:10<00:43, 10.87it/s]"
     ]
    },
    {
     "name": "stdout",
     "output_type": "stream",
     "text": [
      "Loss:  9.264091491699219\n",
      "Loss:  9.292055130004883\n",
      "Loss:  9.23028564453125\n"
     ]
    },
    {
     "name": "stderr",
     "output_type": "stream",
     "text": [
      " 62%|████████████████████████▉               | 781/1250 [01:11<00:43, 10.87it/s]"
     ]
    },
    {
     "name": "stdout",
     "output_type": "stream",
     "text": [
      "Loss:  9.21342945098877\n",
      "Loss:  9.173330307006836\n",
      "Loss:  9.22079849243164\n"
     ]
    },
    {
     "name": "stderr",
     "output_type": "stream",
     "text": [
      " 63%|█████████████████████████               | 785/1250 [01:11<00:42, 10.94it/s]"
     ]
    },
    {
     "name": "stdout",
     "output_type": "stream",
     "text": [
      "Loss:  9.256656646728516\n",
      "Loss:  9.237276077270508\n",
      "Loss:  9.23513412475586\n"
     ]
    },
    {
     "name": "stderr",
     "output_type": "stream",
     "text": [
      " 63%|█████████████████████████▏              | 787/1250 [01:11<00:42, 11.01it/s]"
     ]
    },
    {
     "name": "stdout",
     "output_type": "stream",
     "text": [
      "Loss:  9.251986503601074\n",
      "Loss:  9.31876277923584\n",
      "Loss:  9.215965270996094\n"
     ]
    },
    {
     "name": "stderr",
     "output_type": "stream",
     "text": [
      " 63%|█████████████████████████▎              | 791/1250 [01:12<00:43, 10.65it/s]"
     ]
    },
    {
     "name": "stdout",
     "output_type": "stream",
     "text": [
      "Loss:  9.192296981811523\n",
      "Loss:  9.218738555908203\n",
      "Loss:  9.222234725952148\n"
     ]
    },
    {
     "name": "stderr",
     "output_type": "stream",
     "text": [
      " 63%|█████████████████████████▍              | 793/1250 [01:12<00:42, 10.71it/s]"
     ]
    },
    {
     "name": "stdout",
     "output_type": "stream",
     "text": [
      "Loss:  9.22146224975586\n",
      "Loss:  9.17770004272461\n",
      "Loss:  9.205987930297852\n"
     ]
    },
    {
     "name": "stderr",
     "output_type": "stream",
     "text": [
      " 64%|█████████████████████████▌              | 797/1250 [01:12<00:42, 10.72it/s]"
     ]
    },
    {
     "name": "stdout",
     "output_type": "stream",
     "text": [
      "Loss:  9.308290481567383\n",
      "Loss:  9.246870994567871\n",
      "Loss:  9.193522453308105\n"
     ]
    },
    {
     "name": "stderr",
     "output_type": "stream",
     "text": [
      " 64%|█████████████████████████▌              | 799/1250 [01:12<00:41, 10.81it/s]"
     ]
    },
    {
     "name": "stdout",
     "output_type": "stream",
     "text": [
      "Loss:  9.214226722717285\n",
      "Loss:  9.30235481262207\n",
      "Loss:  9.219555854797363\n"
     ]
    },
    {
     "name": "stderr",
     "output_type": "stream",
     "text": [
      " 64%|█████████████████████████▋              | 803/1250 [01:13<00:41, 10.81it/s]"
     ]
    },
    {
     "name": "stdout",
     "output_type": "stream",
     "text": [
      "Loss:  9.183749198913574\n",
      "Loss:  9.222771644592285\n",
      "Loss:  9.17838191986084\n"
     ]
    },
    {
     "name": "stderr",
     "output_type": "stream",
     "text": [
      " 64%|█████████████████████████▊              | 805/1250 [01:13<00:40, 10.86it/s]"
     ]
    },
    {
     "name": "stdout",
     "output_type": "stream",
     "text": [
      "Loss:  9.212432861328125\n",
      "Loss:  9.25098705291748\n",
      "Loss:  9.211087226867676\n"
     ]
    },
    {
     "name": "stderr",
     "output_type": "stream",
     "text": [
      " 65%|█████████████████████████▉              | 809/1250 [01:13<00:40, 10.84it/s]"
     ]
    },
    {
     "name": "stdout",
     "output_type": "stream",
     "text": [
      "Loss:  9.254359245300293\n",
      "Loss:  9.2423734664917\n",
      "Loss:  9.192766189575195\n"
     ]
    },
    {
     "name": "stderr",
     "output_type": "stream",
     "text": [
      " 65%|█████████████████████████▉              | 811/1250 [01:13<00:41, 10.67it/s]"
     ]
    },
    {
     "name": "stdout",
     "output_type": "stream",
     "text": [
      "Loss:  9.220948219299316\n",
      "Loss:  9.197355270385742\n",
      "Loss:  9.15258502960205\n"
     ]
    },
    {
     "name": "stderr",
     "output_type": "stream",
     "text": [
      " 65%|██████████████████████████              | 815/1250 [01:14<00:41, 10.54it/s]"
     ]
    },
    {
     "name": "stdout",
     "output_type": "stream",
     "text": [
      "Loss:  9.228507995605469\n",
      "Loss:  9.162628173828125\n",
      "Loss:  9.208074569702148\n"
     ]
    },
    {
     "name": "stderr",
     "output_type": "stream",
     "text": [
      " 65%|██████████████████████████▏             | 817/1250 [01:14<00:41, 10.54it/s]"
     ]
    },
    {
     "name": "stdout",
     "output_type": "stream",
     "text": [
      "Loss:  9.204012870788574\n",
      "Loss:  9.193653106689453\n",
      "Loss:  9.20844841003418\n"
     ]
    },
    {
     "name": "stderr",
     "output_type": "stream",
     "text": [
      " 66%|██████████████████████████▎             | 821/1250 [01:14<00:40, 10.61it/s]"
     ]
    },
    {
     "name": "stdout",
     "output_type": "stream",
     "text": [
      "Loss:  9.168644905090332\n",
      "Loss:  9.231016159057617\n",
      "Loss:  9.182683944702148\n"
     ]
    },
    {
     "name": "stderr",
     "output_type": "stream",
     "text": [
      " 66%|██████████████████████████▎             | 823/1250 [01:14<00:39, 10.70it/s]"
     ]
    },
    {
     "name": "stdout",
     "output_type": "stream",
     "text": [
      "Loss:  9.24947452545166\n",
      "Loss:  9.239395141601562\n",
      "Loss:  9.1802978515625\n"
     ]
    },
    {
     "name": "stderr",
     "output_type": "stream",
     "text": [
      " 66%|██████████████████████████▍             | 827/1250 [01:15<00:38, 10.88it/s]"
     ]
    },
    {
     "name": "stdout",
     "output_type": "stream",
     "text": [
      "Loss:  9.131357192993164\n",
      "Loss:  9.263655662536621\n",
      "Loss:  9.222301483154297\n"
     ]
    },
    {
     "name": "stderr",
     "output_type": "stream",
     "text": [
      " 66%|██████████████████████████▌             | 829/1250 [01:15<00:39, 10.78it/s]"
     ]
    },
    {
     "name": "stdout",
     "output_type": "stream",
     "text": [
      "Loss:  9.212557792663574\n",
      "Loss:  9.247713088989258\n",
      "Loss:  9.158543586730957\n"
     ]
    },
    {
     "name": "stderr",
     "output_type": "stream",
     "text": [
      " 67%|██████████████████████████▋             | 833/1250 [01:15<00:38, 10.75it/s]"
     ]
    },
    {
     "name": "stdout",
     "output_type": "stream",
     "text": [
      "Loss:  9.14254093170166\n",
      "Loss:  9.2371187210083\n",
      "Loss:  9.178136825561523\n"
     ]
    },
    {
     "name": "stderr",
     "output_type": "stream",
     "text": [
      " 67%|██████████████████████████▋             | 835/1250 [01:16<00:39, 10.59it/s]"
     ]
    },
    {
     "name": "stdout",
     "output_type": "stream",
     "text": [
      "Loss:  9.164529800415039\n",
      "Loss:  9.226579666137695\n",
      "Loss:  9.247772216796875\n"
     ]
    },
    {
     "name": "stderr",
     "output_type": "stream",
     "text": [
      " 67%|██████████████████████████▊             | 839/1250 [01:16<00:37, 10.86it/s]"
     ]
    },
    {
     "name": "stdout",
     "output_type": "stream",
     "text": [
      "Loss:  9.178936958312988\n",
      "Loss:  9.210315704345703\n",
      "Loss:  9.246672630310059\n"
     ]
    },
    {
     "name": "stderr",
     "output_type": "stream",
     "text": [
      " 67%|██████████████████████████▉             | 841/1250 [01:16<00:37, 10.88it/s]"
     ]
    },
    {
     "name": "stdout",
     "output_type": "stream",
     "text": [
      "Loss:  9.255645751953125\n",
      "Loss:  9.28282642364502\n",
      "Loss:  9.1686372756958\n"
     ]
    },
    {
     "name": "stderr",
     "output_type": "stream",
     "text": [
      " 68%|███████████████████████████             | 845/1250 [01:17<00:36, 11.04it/s]"
     ]
    },
    {
     "name": "stdout",
     "output_type": "stream",
     "text": [
      "Loss:  9.208056449890137\n",
      "Loss:  9.218238830566406\n",
      "Loss:  9.204486846923828\n"
     ]
    },
    {
     "name": "stderr",
     "output_type": "stream",
     "text": [
      " 68%|███████████████████████████             | 847/1250 [01:17<00:36, 10.93it/s]"
     ]
    },
    {
     "name": "stdout",
     "output_type": "stream",
     "text": [
      "Loss:  9.255815505981445\n",
      "Loss:  9.26146125793457\n",
      "Loss:  9.190362930297852\n"
     ]
    },
    {
     "name": "stderr",
     "output_type": "stream",
     "text": [
      " 68%|███████████████████████████▏            | 851/1250 [01:17<00:36, 10.87it/s]"
     ]
    },
    {
     "name": "stdout",
     "output_type": "stream",
     "text": [
      "Loss:  9.215112686157227\n",
      "Loss:  9.174700736999512\n",
      "Loss:  9.231219291687012\n"
     ]
    },
    {
     "name": "stderr",
     "output_type": "stream",
     "text": [
      " 68%|███████████████████████████▎            | 853/1250 [01:17<00:36, 10.84it/s]"
     ]
    },
    {
     "name": "stdout",
     "output_type": "stream",
     "text": [
      "Loss:  9.173089027404785\n",
      "Loss:  9.15992546081543\n",
      "Loss:  9.173540115356445\n"
     ]
    },
    {
     "name": "stderr",
     "output_type": "stream",
     "text": [
      " 69%|███████████████████████████▍            | 857/1250 [01:18<00:35, 11.06it/s]"
     ]
    },
    {
     "name": "stdout",
     "output_type": "stream",
     "text": [
      "Loss:  9.184151649475098\n",
      "Loss:  9.228038787841797\n",
      "Loss:  9.229301452636719\n"
     ]
    },
    {
     "name": "stderr",
     "output_type": "stream",
     "text": [
      " 69%|███████████████████████████▍            | 859/1250 [01:18<00:35, 10.93it/s]"
     ]
    },
    {
     "name": "stdout",
     "output_type": "stream",
     "text": [
      "Loss:  9.21146297454834\n",
      "Loss:  9.224946975708008\n",
      "Loss:  9.262292861938477\n"
     ]
    },
    {
     "name": "stderr",
     "output_type": "stream",
     "text": [
      " 69%|███████████████████████████▌            | 863/1250 [01:18<00:35, 10.76it/s]"
     ]
    },
    {
     "name": "stdout",
     "output_type": "stream",
     "text": [
      "Loss:  9.268302917480469\n",
      "Loss:  9.20501708984375\n",
      "Loss:  9.264459609985352\n"
     ]
    },
    {
     "name": "stderr",
     "output_type": "stream",
     "text": [
      " 69%|███████████████████████████▋            | 865/1250 [01:18<00:35, 10.86it/s]"
     ]
    },
    {
     "name": "stdout",
     "output_type": "stream",
     "text": [
      "Loss:  9.191499710083008\n",
      "Loss:  9.194124221801758\n",
      "Loss:  9.284302711486816\n"
     ]
    },
    {
     "name": "stderr",
     "output_type": "stream",
     "text": [
      " 70%|███████████████████████████▊            | 869/1250 [01:19<00:34, 11.06it/s]"
     ]
    },
    {
     "name": "stdout",
     "output_type": "stream",
     "text": [
      "Loss:  9.15260124206543\n",
      "Loss:  9.138620376586914\n",
      "Loss:  9.180601119995117\n"
     ]
    },
    {
     "name": "stderr",
     "output_type": "stream",
     "text": [
      " 70%|███████████████████████████▊            | 871/1250 [01:19<00:34, 11.08it/s]"
     ]
    },
    {
     "name": "stdout",
     "output_type": "stream",
     "text": [
      "Loss:  9.224996566772461\n",
      "Loss:  9.288253784179688\n",
      "Loss:  9.281025886535645\n"
     ]
    },
    {
     "name": "stderr",
     "output_type": "stream",
     "text": [
      " 70%|████████████████████████████            | 875/1250 [01:19<00:33, 11.18it/s]"
     ]
    },
    {
     "name": "stdout",
     "output_type": "stream",
     "text": [
      "Loss:  9.176883697509766\n",
      "Loss:  9.195947647094727\n",
      "Loss:  9.28947639465332\n"
     ]
    },
    {
     "name": "stderr",
     "output_type": "stream",
     "text": [
      " 70%|████████████████████████████            | 877/1250 [01:19<00:33, 11.22it/s]"
     ]
    },
    {
     "name": "stdout",
     "output_type": "stream",
     "text": [
      "Loss:  9.185918807983398\n",
      "Loss:  9.122892379760742\n",
      "Loss:  9.236875534057617\n"
     ]
    },
    {
     "name": "stderr",
     "output_type": "stream",
     "text": [
      " 70%|████████████████████████████▏           | 881/1250 [01:20<00:33, 11.13it/s]"
     ]
    },
    {
     "name": "stdout",
     "output_type": "stream",
     "text": [
      "Loss:  9.188873291015625\n",
      "Loss:  9.244050979614258\n",
      "Loss:  9.199369430541992\n"
     ]
    },
    {
     "name": "stderr",
     "output_type": "stream",
     "text": [
      " 71%|████████████████████████████▎           | 883/1250 [01:20<00:33, 11.07it/s]"
     ]
    },
    {
     "name": "stdout",
     "output_type": "stream",
     "text": [
      "Loss:  9.296072006225586\n",
      "Loss:  9.229545593261719\n",
      "Loss:  9.200014114379883\n"
     ]
    },
    {
     "name": "stderr",
     "output_type": "stream",
     "text": [
      " 71%|████████████████████████████▍           | 887/1250 [01:20<00:32, 11.13it/s]"
     ]
    },
    {
     "name": "stdout",
     "output_type": "stream",
     "text": [
      "Loss:  9.231178283691406\n",
      "Loss:  9.18856430053711\n",
      "Loss:  9.26192569732666\n"
     ]
    },
    {
     "name": "stderr",
     "output_type": "stream",
     "text": [
      " 71%|████████████████████████████▍           | 889/1250 [01:21<00:32, 11.06it/s]"
     ]
    },
    {
     "name": "stdout",
     "output_type": "stream",
     "text": [
      "Loss:  9.239238739013672\n",
      "Loss:  9.126341819763184\n",
      "Loss:  9.236640930175781\n"
     ]
    },
    {
     "name": "stderr",
     "output_type": "stream",
     "text": [
      " 71%|████████████████████████████▌           | 893/1250 [01:21<00:32, 11.10it/s]"
     ]
    },
    {
     "name": "stdout",
     "output_type": "stream",
     "text": [
      "Loss:  9.173608779907227\n",
      "Loss:  9.300174713134766\n",
      "Loss:  9.21493148803711\n"
     ]
    },
    {
     "name": "stderr",
     "output_type": "stream",
     "text": [
      " 72%|████████████████████████████▋           | 895/1250 [01:21<00:31, 11.18it/s]"
     ]
    },
    {
     "name": "stdout",
     "output_type": "stream",
     "text": [
      "Loss:  9.201436996459961\n",
      "Loss:  9.199016571044922\n",
      "Loss:  9.227020263671875\n"
     ]
    },
    {
     "name": "stderr",
     "output_type": "stream",
     "text": [
      " 72%|████████████████████████████▊           | 899/1250 [01:21<00:31, 11.08it/s]"
     ]
    },
    {
     "name": "stdout",
     "output_type": "stream",
     "text": [
      "Loss:  9.291361808776855\n",
      "Loss:  9.179040908813477\n",
      "Loss:  9.280200004577637\n"
     ]
    },
    {
     "name": "stderr",
     "output_type": "stream",
     "text": [
      " 72%|████████████████████████████▊           | 901/1250 [01:22<00:31, 11.14it/s]"
     ]
    },
    {
     "name": "stdout",
     "output_type": "stream",
     "text": [
      "Loss:  9.262371063232422\n",
      "Loss:  9.222478866577148\n",
      "Loss:  9.1720552444458\n"
     ]
    },
    {
     "name": "stderr",
     "output_type": "stream",
     "text": [
      " 72%|████████████████████████████▉           | 905/1250 [01:22<00:30, 11.19it/s]"
     ]
    },
    {
     "name": "stdout",
     "output_type": "stream",
     "text": [
      "Loss:  9.218130111694336\n",
      "Loss:  9.24489974975586\n",
      "Loss:  9.287491798400879\n"
     ]
    },
    {
     "name": "stderr",
     "output_type": "stream",
     "text": [
      " 73%|█████████████████████████████           | 907/1250 [01:22<00:30, 11.27it/s]"
     ]
    },
    {
     "name": "stdout",
     "output_type": "stream",
     "text": [
      "Loss:  9.17711067199707\n",
      "Loss:  9.161660194396973\n",
      "Loss:  9.199174880981445\n"
     ]
    },
    {
     "name": "stderr",
     "output_type": "stream",
     "text": [
      " 73%|█████████████████████████████▏          | 911/1250 [01:22<00:29, 11.37it/s]"
     ]
    },
    {
     "name": "stdout",
     "output_type": "stream",
     "text": [
      "Loss:  9.268048286437988\n",
      "Loss:  9.259340286254883\n",
      "Loss:  9.216612815856934\n"
     ]
    },
    {
     "name": "stderr",
     "output_type": "stream",
     "text": [
      " 73%|█████████████████████████████▏          | 913/1250 [01:23<00:29, 11.27it/s]"
     ]
    },
    {
     "name": "stdout",
     "output_type": "stream",
     "text": [
      "Loss:  9.260855674743652\n",
      "Loss:  9.220793724060059\n",
      "Loss:  9.203712463378906\n"
     ]
    },
    {
     "name": "stderr",
     "output_type": "stream",
     "text": [
      " 73%|█████████████████████████████▎          | 917/1250 [01:23<00:29, 11.28it/s]"
     ]
    },
    {
     "name": "stdout",
     "output_type": "stream",
     "text": [
      "Loss:  9.26573371887207\n",
      "Loss:  9.224751472473145\n",
      "Loss:  9.212053298950195\n"
     ]
    },
    {
     "name": "stderr",
     "output_type": "stream",
     "text": [
      " 74%|█████████████████████████████▍          | 919/1250 [01:23<00:29, 11.23it/s]"
     ]
    },
    {
     "name": "stdout",
     "output_type": "stream",
     "text": [
      "Loss:  9.250913619995117\n",
      "Loss:  9.211830139160156\n",
      "Loss:  9.177022933959961\n"
     ]
    },
    {
     "name": "stderr",
     "output_type": "stream",
     "text": [
      " 74%|█████████████████████████████▌          | 923/1250 [01:24<00:29, 11.13it/s]"
     ]
    },
    {
     "name": "stdout",
     "output_type": "stream",
     "text": [
      "Loss:  9.172245025634766\n",
      "Loss:  9.18623161315918\n",
      "Loss:  9.152168273925781\n"
     ]
    },
    {
     "name": "stderr",
     "output_type": "stream",
     "text": [
      " 74%|█████████████████████████████▌          | 925/1250 [01:24<00:29, 11.16it/s]"
     ]
    },
    {
     "name": "stdout",
     "output_type": "stream",
     "text": [
      "Loss:  9.214753150939941\n",
      "Loss:  9.221296310424805\n",
      "Loss:  9.244500160217285\n"
     ]
    },
    {
     "name": "stderr",
     "output_type": "stream",
     "text": [
      " 74%|█████████████████████████████▋          | 929/1250 [01:24<00:28, 11.24it/s]"
     ]
    },
    {
     "name": "stdout",
     "output_type": "stream",
     "text": [
      "Loss:  9.221778869628906\n",
      "Loss:  9.18038272857666\n",
      "Loss:  9.232677459716797\n"
     ]
    },
    {
     "name": "stderr",
     "output_type": "stream",
     "text": [
      " 74%|█████████████████████████████▊          | 931/1250 [01:24<00:28, 11.27it/s]"
     ]
    },
    {
     "name": "stdout",
     "output_type": "stream",
     "text": [
      "Loss:  9.261035919189453\n",
      "Loss:  9.204102516174316\n",
      "Loss:  9.20236873626709\n"
     ]
    },
    {
     "name": "stderr",
     "output_type": "stream",
     "text": [
      " 75%|█████████████████████████████▉          | 935/1250 [01:25<00:27, 11.38it/s]"
     ]
    },
    {
     "name": "stdout",
     "output_type": "stream",
     "text": [
      "Loss:  9.227633476257324\n",
      "Loss:  9.209009170532227\n",
      "Loss:  9.273080825805664\n"
     ]
    },
    {
     "name": "stderr",
     "output_type": "stream",
     "text": [
      " 75%|█████████████████████████████▉          | 937/1250 [01:25<00:27, 11.24it/s]"
     ]
    },
    {
     "name": "stdout",
     "output_type": "stream",
     "text": [
      "Loss:  9.174592971801758\n",
      "Loss:  9.189349174499512\n",
      "Loss:  9.174813270568848\n"
     ]
    },
    {
     "name": "stderr",
     "output_type": "stream",
     "text": [
      " 75%|██████████████████████████████          | 941/1250 [01:25<00:27, 11.30it/s]"
     ]
    },
    {
     "name": "stdout",
     "output_type": "stream",
     "text": [
      "Loss:  9.197417259216309\n",
      "Loss:  9.184834480285645\n",
      "Loss:  9.22442626953125\n"
     ]
    },
    {
     "name": "stderr",
     "output_type": "stream",
     "text": [
      " 75%|██████████████████████████████▏         | 943/1250 [01:25<00:27, 11.33it/s]"
     ]
    },
    {
     "name": "stdout",
     "output_type": "stream",
     "text": [
      "Loss:  9.176675796508789\n",
      "Loss:  9.173158645629883\n",
      "Loss:  9.202066421508789\n"
     ]
    },
    {
     "name": "stderr",
     "output_type": "stream",
     "text": [
      " 76%|██████████████████████████████▎         | 947/1250 [01:26<00:26, 11.36it/s]"
     ]
    },
    {
     "name": "stdout",
     "output_type": "stream",
     "text": [
      "Loss:  9.164737701416016\n",
      "Loss:  9.239238739013672\n",
      "Loss:  9.2653169631958\n"
     ]
    },
    {
     "name": "stderr",
     "output_type": "stream",
     "text": [
      " 76%|██████████████████████████████▎         | 949/1250 [01:26<00:26, 11.27it/s]"
     ]
    },
    {
     "name": "stdout",
     "output_type": "stream",
     "text": [
      "Loss:  9.177810668945312\n",
      "Loss:  9.236417770385742\n",
      "Loss:  9.191229820251465\n"
     ]
    },
    {
     "name": "stderr",
     "output_type": "stream",
     "text": [
      " 76%|██████████████████████████████▍         | 953/1250 [01:26<00:26, 11.28it/s]"
     ]
    },
    {
     "name": "stdout",
     "output_type": "stream",
     "text": [
      "Loss:  9.226950645446777\n",
      "Loss:  9.238668441772461\n",
      "Loss:  9.201752662658691\n"
     ]
    },
    {
     "name": "stderr",
     "output_type": "stream",
     "text": [
      " 76%|██████████████████████████████▌         | 955/1250 [01:26<00:25, 11.39it/s]"
     ]
    },
    {
     "name": "stdout",
     "output_type": "stream",
     "text": [
      "Loss:  9.22831916809082\n",
      "Loss:  9.226678848266602\n",
      "Loss:  9.260283470153809\n"
     ]
    },
    {
     "name": "stderr",
     "output_type": "stream",
     "text": [
      " 77%|██████████████████████████████▋         | 959/1250 [01:27<00:25, 11.22it/s]"
     ]
    },
    {
     "name": "stdout",
     "output_type": "stream",
     "text": [
      "Loss:  9.217413902282715\n",
      "Loss:  9.14391803741455\n",
      "Loss:  9.207088470458984\n"
     ]
    },
    {
     "name": "stderr",
     "output_type": "stream",
     "text": [
      " 77%|██████████████████████████████▊         | 961/1250 [01:27<00:25, 11.29it/s]"
     ]
    },
    {
     "name": "stdout",
     "output_type": "stream",
     "text": [
      "Loss:  9.202340126037598\n",
      "Loss:  9.16797161102295\n",
      "Loss:  9.226354598999023\n"
     ]
    },
    {
     "name": "stderr",
     "output_type": "stream",
     "text": [
      " 77%|██████████████████████████████▉         | 965/1250 [01:27<00:25, 11.38it/s]"
     ]
    },
    {
     "name": "stdout",
     "output_type": "stream",
     "text": [
      "Loss:  9.220623016357422\n",
      "Loss:  9.242525100708008\n",
      "Loss:  9.255914688110352\n"
     ]
    },
    {
     "name": "stderr",
     "output_type": "stream",
     "text": [
      " 77%|██████████████████████████████▉         | 967/1250 [01:27<00:24, 11.33it/s]"
     ]
    },
    {
     "name": "stdout",
     "output_type": "stream",
     "text": [
      "Loss:  9.20986557006836\n",
      "Loss:  9.193010330200195\n",
      "Loss:  9.213560104370117\n"
     ]
    },
    {
     "name": "stderr",
     "output_type": "stream",
     "text": [
      " 78%|███████████████████████████████         | 971/1250 [01:28<00:24, 11.30it/s]"
     ]
    },
    {
     "name": "stdout",
     "output_type": "stream",
     "text": [
      "Loss:  9.16894817352295\n",
      "Loss:  9.200700759887695\n",
      "Loss:  9.260442733764648\n"
     ]
    },
    {
     "name": "stderr",
     "output_type": "stream",
     "text": [
      " 78%|███████████████████████████████▏        | 973/1250 [01:28<00:24, 11.27it/s]"
     ]
    },
    {
     "name": "stdout",
     "output_type": "stream",
     "text": [
      "Loss:  9.176227569580078\n",
      "Loss:  9.163278579711914\n",
      "Loss:  9.211616516113281\n"
     ]
    },
    {
     "name": "stderr",
     "output_type": "stream",
     "text": [
      " 78%|███████████████████████████████▎        | 977/1250 [01:28<00:24, 11.12it/s]"
     ]
    },
    {
     "name": "stdout",
     "output_type": "stream",
     "text": [
      "Loss:  9.183252334594727\n",
      "Loss:  9.250883102416992\n",
      "Loss:  9.198280334472656\n"
     ]
    },
    {
     "name": "stderr",
     "output_type": "stream",
     "text": [
      " 78%|███████████████████████████████▎        | 979/1250 [01:29<00:24, 11.25it/s]"
     ]
    },
    {
     "name": "stdout",
     "output_type": "stream",
     "text": [
      "Loss:  9.176163673400879\n",
      "Loss:  9.234801292419434\n",
      "Loss:  9.25027847290039\n"
     ]
    },
    {
     "name": "stderr",
     "output_type": "stream",
     "text": [
      " 79%|███████████████████████████████▍        | 983/1250 [01:29<00:23, 11.27it/s]"
     ]
    },
    {
     "name": "stdout",
     "output_type": "stream",
     "text": [
      "Loss:  9.164937973022461\n",
      "Loss:  9.174924850463867\n",
      "Loss:  9.245853424072266\n"
     ]
    },
    {
     "name": "stderr",
     "output_type": "stream",
     "text": [
      " 79%|███████████████████████████████▌        | 985/1250 [01:29<00:23, 11.20it/s]"
     ]
    },
    {
     "name": "stdout",
     "output_type": "stream",
     "text": [
      "Loss:  9.203678131103516\n",
      "Loss:  9.232061386108398\n",
      "Loss:  9.192611694335938\n"
     ]
    },
    {
     "name": "stderr",
     "output_type": "stream",
     "text": [
      " 79%|███████████████████████████████▋        | 989/1250 [01:29<00:23, 11.17it/s]"
     ]
    },
    {
     "name": "stdout",
     "output_type": "stream",
     "text": [
      "Loss:  9.187177658081055\n",
      "Loss:  9.26939582824707\n",
      "Loss:  9.221054077148438\n"
     ]
    },
    {
     "name": "stderr",
     "output_type": "stream",
     "text": [
      " 79%|███████████████████████████████▋        | 991/1250 [01:30<00:23, 11.23it/s]"
     ]
    },
    {
     "name": "stdout",
     "output_type": "stream",
     "text": [
      "Loss:  9.24045181274414\n",
      "Loss:  9.16466236114502\n",
      "Loss:  9.172097206115723\n"
     ]
    },
    {
     "name": "stderr",
     "output_type": "stream",
     "text": [
      " 80%|███████████████████████████████▊        | 995/1250 [01:30<00:22, 11.26it/s]"
     ]
    },
    {
     "name": "stdout",
     "output_type": "stream",
     "text": [
      "Loss:  9.278142929077148\n",
      "Loss:  9.22869873046875\n",
      "Loss:  9.243565559387207\n"
     ]
    },
    {
     "name": "stderr",
     "output_type": "stream",
     "text": [
      " 80%|███████████████████████████████▉        | 997/1250 [01:30<00:22, 11.13it/s]"
     ]
    },
    {
     "name": "stdout",
     "output_type": "stream",
     "text": [
      "Loss:  9.246447563171387\n",
      "Loss:  9.27849006652832\n",
      "Loss:  9.147269248962402\n"
     ]
    },
    {
     "name": "stderr",
     "output_type": "stream",
     "text": [
      " 80%|███████████████████████████████▏       | 1001/1250 [01:30<00:22, 11.24it/s]"
     ]
    },
    {
     "name": "stdout",
     "output_type": "stream",
     "text": [
      "Loss:  9.192184448242188\n",
      "Loss:  9.181632995605469\n",
      "Loss:  9.210610389709473\n"
     ]
    },
    {
     "name": "stderr",
     "output_type": "stream",
     "text": [
      " 80%|███████████████████████████████▎       | 1003/1250 [01:31<00:22, 11.20it/s]"
     ]
    },
    {
     "name": "stdout",
     "output_type": "stream",
     "text": [
      "Loss:  9.214929580688477\n",
      "Loss:  9.16894817352295\n",
      "Loss:  9.2078275680542\n"
     ]
    },
    {
     "name": "stderr",
     "output_type": "stream",
     "text": [
      " 81%|███████████████████████████████▍       | 1007/1250 [01:31<00:21, 11.14it/s]"
     ]
    },
    {
     "name": "stdout",
     "output_type": "stream",
     "text": [
      "Loss:  9.134906768798828\n",
      "Loss:  9.138923645019531\n",
      "Loss:  9.230295181274414\n"
     ]
    },
    {
     "name": "stderr",
     "output_type": "stream",
     "text": [
      " 81%|███████████████████████████████▍       | 1009/1250 [01:31<00:21, 11.19it/s]"
     ]
    },
    {
     "name": "stdout",
     "output_type": "stream",
     "text": [
      "Loss:  9.239105224609375\n",
      "Loss:  9.23293685913086\n",
      "Loss:  9.230186462402344\n"
     ]
    },
    {
     "name": "stderr",
     "output_type": "stream",
     "text": [
      " 81%|███████████████████████████████▌       | 1013/1250 [01:32<00:21, 11.21it/s]"
     ]
    },
    {
     "name": "stdout",
     "output_type": "stream",
     "text": [
      "Loss:  9.254673957824707\n",
      "Loss:  9.142911911010742\n",
      "Loss:  9.261195182800293\n"
     ]
    },
    {
     "name": "stderr",
     "output_type": "stream",
     "text": [
      " 81%|███████████████████████████████▋       | 1015/1250 [01:32<00:21, 11.12it/s]"
     ]
    },
    {
     "name": "stdout",
     "output_type": "stream",
     "text": [
      "Loss:  9.284725189208984\n",
      "Loss:  9.198142051696777\n",
      "Loss:  9.26729965209961\n"
     ]
    },
    {
     "name": "stderr",
     "output_type": "stream",
     "text": [
      " 82%|███████████████████████████████▊       | 1019/1250 [01:32<00:21, 10.89it/s]"
     ]
    },
    {
     "name": "stdout",
     "output_type": "stream",
     "text": [
      "Loss:  9.179211616516113\n",
      "Loss:  9.190268516540527\n",
      "Loss:  9.25655746459961\n"
     ]
    },
    {
     "name": "stderr",
     "output_type": "stream",
     "text": [
      " 82%|███████████████████████████████▊       | 1021/1250 [01:32<00:21, 10.78it/s]"
     ]
    },
    {
     "name": "stdout",
     "output_type": "stream",
     "text": [
      "Loss:  9.188699722290039\n",
      "Loss:  9.170018196105957\n",
      "Loss:  9.219010353088379\n"
     ]
    },
    {
     "name": "stderr",
     "output_type": "stream",
     "text": [
      " 82%|███████████████████████████████▉       | 1025/1250 [01:33<00:21, 10.66it/s]"
     ]
    },
    {
     "name": "stdout",
     "output_type": "stream",
     "text": [
      "Loss:  9.255380630493164\n",
      "Loss:  9.254487991333008\n",
      "Loss:  9.233285903930664\n"
     ]
    },
    {
     "name": "stderr",
     "output_type": "stream",
     "text": [
      " 82%|████████████████████████████████       | 1027/1250 [01:33<00:20, 10.64it/s]"
     ]
    },
    {
     "name": "stdout",
     "output_type": "stream",
     "text": [
      "Loss:  9.243143081665039\n",
      "Loss:  9.191309928894043\n",
      "Loss:  9.233755111694336\n"
     ]
    },
    {
     "name": "stderr",
     "output_type": "stream",
     "text": [
      " 82%|████████████████████████████████▏      | 1031/1250 [01:33<00:20, 10.63it/s]"
     ]
    },
    {
     "name": "stdout",
     "output_type": "stream",
     "text": [
      "Loss:  9.241353988647461\n",
      "Loss:  9.226183891296387\n",
      "Loss:  9.162245750427246\n"
     ]
    },
    {
     "name": "stderr",
     "output_type": "stream",
     "text": [
      " 83%|████████████████████████████████▏      | 1033/1250 [01:33<00:20, 10.67it/s]"
     ]
    },
    {
     "name": "stdout",
     "output_type": "stream",
     "text": [
      "Loss:  9.20434856414795\n",
      "Loss:  9.236001968383789\n",
      "Loss:  9.246403694152832\n"
     ]
    },
    {
     "name": "stderr",
     "output_type": "stream",
     "text": [
      " 83%|████████████████████████████████▎      | 1037/1250 [01:34<00:19, 10.65it/s]"
     ]
    },
    {
     "name": "stdout",
     "output_type": "stream",
     "text": [
      "Loss:  9.13888168334961\n",
      "Loss:  9.200506210327148\n",
      "Loss:  9.232033729553223\n"
     ]
    },
    {
     "name": "stderr",
     "output_type": "stream",
     "text": [
      " 83%|████████████████████████████████▍      | 1039/1250 [01:34<00:19, 10.72it/s]"
     ]
    },
    {
     "name": "stdout",
     "output_type": "stream",
     "text": [
      "Loss:  9.150192260742188\n",
      "Loss:  9.193866729736328\n",
      "Loss:  9.224433898925781\n"
     ]
    },
    {
     "name": "stderr",
     "output_type": "stream",
     "text": [
      " 83%|████████████████████████████████▌      | 1043/1250 [01:34<00:19, 10.68it/s]"
     ]
    },
    {
     "name": "stdout",
     "output_type": "stream",
     "text": [
      "Loss:  9.22391414642334\n",
      "Loss:  9.187376976013184\n",
      "Loss:  9.204407691955566\n"
     ]
    },
    {
     "name": "stderr",
     "output_type": "stream",
     "text": [
      " 84%|████████████████████████████████▌      | 1045/1250 [01:35<00:19, 10.66it/s]"
     ]
    },
    {
     "name": "stdout",
     "output_type": "stream",
     "text": [
      "Loss:  9.174894332885742\n",
      "Loss:  9.27576732635498\n",
      "Loss:  9.21084213256836\n"
     ]
    },
    {
     "name": "stderr",
     "output_type": "stream",
     "text": [
      " 84%|████████████████████████████████▋      | 1049/1250 [01:35<00:18, 10.63it/s]"
     ]
    },
    {
     "name": "stdout",
     "output_type": "stream",
     "text": [
      "Loss:  9.164403915405273\n",
      "Loss:  9.279889106750488\n",
      "Loss:  9.12076187133789\n"
     ]
    },
    {
     "name": "stderr",
     "output_type": "stream",
     "text": [
      " 84%|████████████████████████████████▊      | 1051/1250 [01:35<00:18, 10.71it/s]"
     ]
    },
    {
     "name": "stdout",
     "output_type": "stream",
     "text": [
      "Loss:  9.154661178588867\n",
      "Loss:  9.157480239868164\n",
      "Loss:  9.248077392578125\n"
     ]
    },
    {
     "name": "stderr",
     "output_type": "stream",
     "text": [
      " 84%|████████████████████████████████▉      | 1055/1250 [01:35<00:17, 10.85it/s]"
     ]
    },
    {
     "name": "stdout",
     "output_type": "stream",
     "text": [
      "Loss:  9.20941162109375\n",
      "Loss:  9.201730728149414\n",
      "Loss:  9.260435104370117\n"
     ]
    },
    {
     "name": "stderr",
     "output_type": "stream",
     "text": [
      " 85%|████████████████████████████████▉      | 1057/1250 [01:36<00:17, 10.93it/s]"
     ]
    },
    {
     "name": "stdout",
     "output_type": "stream",
     "text": [
      "Loss:  9.169244766235352\n",
      "Loss:  9.098021507263184\n",
      "Loss:  9.211155891418457\n"
     ]
    },
    {
     "name": "stderr",
     "output_type": "stream",
     "text": [
      " 85%|█████████████████████████████████      | 1061/1250 [01:36<00:17, 10.77it/s]"
     ]
    },
    {
     "name": "stdout",
     "output_type": "stream",
     "text": [
      "Loss:  9.169458389282227\n",
      "Loss:  9.135066986083984\n",
      "Loss:  9.23972225189209\n"
     ]
    },
    {
     "name": "stderr",
     "output_type": "stream",
     "text": [
      " 85%|█████████████████████████████████▏     | 1063/1250 [01:36<00:17, 10.74it/s]"
     ]
    },
    {
     "name": "stdout",
     "output_type": "stream",
     "text": [
      "Loss:  9.19245433807373\n",
      "Loss:  9.176136016845703\n",
      "Loss:  9.284299850463867\n"
     ]
    },
    {
     "name": "stderr",
     "output_type": "stream",
     "text": [
      " 85%|█████████████████████████████████▎     | 1067/1250 [01:37<00:16, 10.80it/s]"
     ]
    },
    {
     "name": "stdout",
     "output_type": "stream",
     "text": [
      "Loss:  9.161279678344727\n",
      "Loss:  9.20641040802002\n",
      "Loss:  9.178217887878418\n"
     ]
    },
    {
     "name": "stderr",
     "output_type": "stream",
     "text": [
      " 86%|█████████████████████████████████▎     | 1069/1250 [01:37<00:16, 10.85it/s]"
     ]
    },
    {
     "name": "stdout",
     "output_type": "stream",
     "text": [
      "Loss:  9.187616348266602\n",
      "Loss:  9.151132583618164\n",
      "Loss:  9.247246742248535\n"
     ]
    },
    {
     "name": "stderr",
     "output_type": "stream",
     "text": [
      " 86%|█████████████████████████████████▍     | 1073/1250 [01:37<00:16, 10.80it/s]"
     ]
    },
    {
     "name": "stdout",
     "output_type": "stream",
     "text": [
      "Loss:  9.205798149108887\n",
      "Loss:  9.227499008178711\n",
      "Loss:  9.175972938537598\n"
     ]
    },
    {
     "name": "stderr",
     "output_type": "stream",
     "text": [
      " 86%|█████████████████████████████████▌     | 1075/1250 [01:37<00:16, 10.68it/s]"
     ]
    },
    {
     "name": "stdout",
     "output_type": "stream",
     "text": [
      "Loss:  9.156831741333008\n",
      "Loss:  9.222260475158691\n",
      "Loss:  9.187555313110352\n"
     ]
    },
    {
     "name": "stderr",
     "output_type": "stream",
     "text": [
      " 86%|█████████████████████████████████▋     | 1079/1250 [01:38<00:16, 10.59it/s]"
     ]
    },
    {
     "name": "stdout",
     "output_type": "stream",
     "text": [
      "Loss:  9.16965389251709\n",
      "Loss:  9.24342155456543\n",
      "Loss:  9.1900634765625\n"
     ]
    },
    {
     "name": "stderr",
     "output_type": "stream",
     "text": [
      " 86%|█████████████████████████████████▋     | 1081/1250 [01:38<00:15, 10.63it/s]"
     ]
    },
    {
     "name": "stdout",
     "output_type": "stream",
     "text": [
      "Loss:  9.273811340332031\n",
      "Loss:  9.217985153198242\n",
      "Loss:  9.149672508239746\n"
     ]
    },
    {
     "name": "stderr",
     "output_type": "stream",
     "text": [
      " 87%|█████████████████████████████████▊     | 1085/1250 [01:38<00:15, 10.73it/s]"
     ]
    },
    {
     "name": "stdout",
     "output_type": "stream",
     "text": [
      "Loss:  9.268738746643066\n",
      "Loss:  9.229959487915039\n",
      "Loss:  9.190471649169922\n"
     ]
    },
    {
     "name": "stderr",
     "output_type": "stream",
     "text": [
      " 87%|█████████████████████████████████▉     | 1087/1250 [01:38<00:14, 10.89it/s]"
     ]
    },
    {
     "name": "stdout",
     "output_type": "stream",
     "text": [
      "Loss:  9.289420127868652\n",
      "Loss:  9.162954330444336\n",
      "Loss:  9.22052001953125\n"
     ]
    },
    {
     "name": "stderr",
     "output_type": "stream",
     "text": [
      " 87%|██████████████████████████████████     | 1091/1250 [01:39<00:14, 11.04it/s]"
     ]
    },
    {
     "name": "stdout",
     "output_type": "stream",
     "text": [
      "Loss:  9.13320541381836\n",
      "Loss:  9.278423309326172\n",
      "Loss:  9.148448944091797\n"
     ]
    },
    {
     "name": "stderr",
     "output_type": "stream",
     "text": [
      " 87%|██████████████████████████████████     | 1093/1250 [01:39<00:14, 10.96it/s]"
     ]
    },
    {
     "name": "stdout",
     "output_type": "stream",
     "text": [
      "Loss:  9.19784927368164\n",
      "Loss:  9.188923835754395\n",
      "Loss:  9.14219856262207\n"
     ]
    },
    {
     "name": "stderr",
     "output_type": "stream",
     "text": [
      " 88%|██████████████████████████████████▏    | 1097/1250 [01:39<00:14, 10.71it/s]"
     ]
    },
    {
     "name": "stdout",
     "output_type": "stream",
     "text": [
      "Loss:  9.127713203430176\n",
      "Loss:  9.244297981262207\n",
      "Loss:  9.235926628112793\n"
     ]
    },
    {
     "name": "stderr",
     "output_type": "stream",
     "text": [
      " 88%|██████████████████████████████████▎    | 1099/1250 [01:40<00:13, 10.81it/s]"
     ]
    },
    {
     "name": "stdout",
     "output_type": "stream",
     "text": [
      "Loss:  9.212644577026367\n",
      "Loss:  9.242137908935547\n",
      "Loss:  9.144989967346191\n"
     ]
    },
    {
     "name": "stderr",
     "output_type": "stream",
     "text": [
      " 88%|██████████████████████████████████▍    | 1103/1250 [01:40<00:13, 10.79it/s]"
     ]
    },
    {
     "name": "stdout",
     "output_type": "stream",
     "text": [
      "Loss:  9.148192405700684\n",
      "Loss:  9.084125518798828\n",
      "Loss:  9.248516082763672\n"
     ]
    },
    {
     "name": "stderr",
     "output_type": "stream",
     "text": [
      " 88%|██████████████████████████████████▍    | 1105/1250 [01:40<00:13, 10.84it/s]"
     ]
    },
    {
     "name": "stdout",
     "output_type": "stream",
     "text": [
      "Loss:  9.22998046875\n",
      "Loss:  9.296550750732422\n",
      "Loss:  9.25810718536377\n"
     ]
    },
    {
     "name": "stderr",
     "output_type": "stream",
     "text": [
      " 89%|██████████████████████████████████▌    | 1109/1250 [01:40<00:13, 10.69it/s]"
     ]
    },
    {
     "name": "stdout",
     "output_type": "stream",
     "text": [
      "Loss:  9.145206451416016\n",
      "Loss:  9.173973083496094\n",
      "Loss:  9.286206245422363\n"
     ]
    },
    {
     "name": "stderr",
     "output_type": "stream",
     "text": [
      " 89%|██████████████████████████████████▋    | 1111/1250 [01:41<00:13, 10.68it/s]"
     ]
    },
    {
     "name": "stdout",
     "output_type": "stream",
     "text": [
      "Loss:  9.076202392578125\n",
      "Loss:  9.254125595092773\n",
      "Loss:  9.237768173217773\n"
     ]
    },
    {
     "name": "stderr",
     "output_type": "stream",
     "text": [
      " 89%|██████████████████████████████████▊    | 1115/1250 [01:41<00:12, 10.70it/s]"
     ]
    },
    {
     "name": "stdout",
     "output_type": "stream",
     "text": [
      "Loss:  9.313211441040039\n",
      "Loss:  9.176589012145996\n",
      "Loss:  9.218379020690918\n"
     ]
    },
    {
     "name": "stderr",
     "output_type": "stream",
     "text": [
      " 89%|██████████████████████████████████▊    | 1117/1250 [01:41<00:12, 10.70it/s]"
     ]
    },
    {
     "name": "stdout",
     "output_type": "stream",
     "text": [
      "Loss:  9.135534286499023\n",
      "Loss:  9.280606269836426\n",
      "Loss:  9.179835319519043\n"
     ]
    },
    {
     "name": "stderr",
     "output_type": "stream",
     "text": [
      " 90%|██████████████████████████████████▉    | 1121/1250 [01:42<00:11, 10.78it/s]"
     ]
    },
    {
     "name": "stdout",
     "output_type": "stream",
     "text": [
      "Loss:  9.212162017822266\n",
      "Loss:  9.174487113952637\n",
      "Loss:  9.159910202026367\n"
     ]
    },
    {
     "name": "stderr",
     "output_type": "stream",
     "text": [
      " 90%|███████████████████████████████████    | 1123/1250 [01:42<00:11, 10.87it/s]"
     ]
    },
    {
     "name": "stdout",
     "output_type": "stream",
     "text": [
      "Loss:  9.247430801391602\n",
      "Loss:  9.216670036315918\n",
      "Loss:  9.288921356201172\n"
     ]
    },
    {
     "name": "stderr",
     "output_type": "stream",
     "text": [
      " 90%|███████████████████████████████████▏   | 1127/1250 [01:42<00:11, 10.82it/s]"
     ]
    },
    {
     "name": "stdout",
     "output_type": "stream",
     "text": [
      "Loss:  9.296972274780273\n",
      "Loss:  9.261148452758789\n",
      "Loss:  9.311676025390625\n"
     ]
    },
    {
     "name": "stderr",
     "output_type": "stream",
     "text": [
      " 90%|███████████████████████████████████▏   | 1129/1250 [01:42<00:11, 10.81it/s]"
     ]
    },
    {
     "name": "stdout",
     "output_type": "stream",
     "text": [
      "Loss:  9.2966947555542\n",
      "Loss:  9.272631645202637\n",
      "Loss:  9.23624038696289\n"
     ]
    },
    {
     "name": "stderr",
     "output_type": "stream",
     "text": [
      " 91%|███████████████████████████████████▎   | 1133/1250 [01:43<00:10, 10.72it/s]"
     ]
    },
    {
     "name": "stdout",
     "output_type": "stream",
     "text": [
      "Loss:  9.232751846313477\n",
      "Loss:  9.23008918762207\n",
      "Loss:  9.279914855957031\n"
     ]
    },
    {
     "name": "stderr",
     "output_type": "stream",
     "text": [
      " 91%|███████████████████████████████████▍   | 1135/1250 [01:43<00:10, 10.63it/s]"
     ]
    },
    {
     "name": "stdout",
     "output_type": "stream",
     "text": [
      "Loss:  9.205769538879395\n",
      "Loss:  9.191561698913574\n",
      "Loss:  9.283124923706055\n"
     ]
    },
    {
     "name": "stderr",
     "output_type": "stream",
     "text": [
      " 91%|███████████████████████████████████▌   | 1139/1250 [01:43<00:10, 10.61it/s]"
     ]
    },
    {
     "name": "stdout",
     "output_type": "stream",
     "text": [
      "Loss:  9.248680114746094\n",
      "Loss:  9.236664772033691\n",
      "Loss:  9.209226608276367\n"
     ]
    },
    {
     "name": "stderr",
     "output_type": "stream",
     "text": [
      " 91%|███████████████████████████████████▌   | 1141/1250 [01:43<00:10, 10.70it/s]"
     ]
    },
    {
     "name": "stdout",
     "output_type": "stream",
     "text": [
      "Loss:  9.232799530029297\n",
      "Loss:  9.284107208251953\n",
      "Loss:  9.18929672241211\n"
     ]
    },
    {
     "name": "stderr",
     "output_type": "stream",
     "text": [
      " 92%|███████████████████████████████████▋   | 1145/1250 [01:44<00:09, 10.77it/s]"
     ]
    },
    {
     "name": "stdout",
     "output_type": "stream",
     "text": [
      "Loss:  9.222518920898438\n",
      "Loss:  9.274528503417969\n",
      "Loss:  9.2188720703125\n"
     ]
    },
    {
     "name": "stderr",
     "output_type": "stream",
     "text": [
      " 92%|███████████████████████████████████▊   | 1147/1250 [01:44<00:09, 10.71it/s]"
     ]
    },
    {
     "name": "stdout",
     "output_type": "stream",
     "text": [
      "Loss:  9.202110290527344\n",
      "Loss:  9.164922714233398\n",
      "Loss:  9.237504005432129\n"
     ]
    },
    {
     "name": "stderr",
     "output_type": "stream",
     "text": [
      " 92%|███████████████████████████████████▉   | 1151/1250 [01:44<00:09, 10.72it/s]"
     ]
    },
    {
     "name": "stdout",
     "output_type": "stream",
     "text": [
      "Loss:  9.297361373901367\n",
      "Loss:  9.26855182647705\n",
      "Loss:  9.199678421020508\n"
     ]
    },
    {
     "name": "stderr",
     "output_type": "stream",
     "text": [
      " 92%|███████████████████████████████████▉   | 1153/1250 [01:45<00:08, 10.87it/s]"
     ]
    },
    {
     "name": "stdout",
     "output_type": "stream",
     "text": [
      "Loss:  9.235036849975586\n",
      "Loss:  9.165980339050293\n",
      "Loss:  9.236995697021484\n"
     ]
    },
    {
     "name": "stderr",
     "output_type": "stream",
     "text": [
      " 93%|████████████████████████████████████   | 1157/1250 [01:45<00:08, 10.90it/s]"
     ]
    },
    {
     "name": "stdout",
     "output_type": "stream",
     "text": [
      "Loss:  9.188394546508789\n",
      "Loss:  9.259634017944336\n",
      "Loss:  9.217001914978027\n"
     ]
    },
    {
     "name": "stderr",
     "output_type": "stream",
     "text": [
      " 93%|████████████████████████████████████▏  | 1159/1250 [01:45<00:08, 10.92it/s]"
     ]
    },
    {
     "name": "stdout",
     "output_type": "stream",
     "text": [
      "Loss:  9.145573616027832\n",
      "Loss:  9.245615005493164\n",
      "Loss:  9.18882942199707\n"
     ]
    },
    {
     "name": "stderr",
     "output_type": "stream",
     "text": [
      " 93%|████████████████████████████████████▎  | 1163/1250 [01:46<00:08, 10.83it/s]"
     ]
    },
    {
     "name": "stdout",
     "output_type": "stream",
     "text": [
      "Loss:  9.195259094238281\n",
      "Loss:  9.1845121383667\n",
      "Loss:  9.276826858520508\n"
     ]
    },
    {
     "name": "stderr",
     "output_type": "stream",
     "text": [
      " 93%|████████████████████████████████████▎  | 1165/1250 [01:46<00:07, 10.87it/s]"
     ]
    },
    {
     "name": "stdout",
     "output_type": "stream",
     "text": [
      "Loss:  9.218718528747559\n",
      "Loss:  9.175239562988281\n",
      "Loss:  9.276390075683594\n"
     ]
    },
    {
     "name": "stderr",
     "output_type": "stream",
     "text": [
      " 94%|████████████████████████████████████▍  | 1169/1250 [01:46<00:07, 10.90it/s]"
     ]
    },
    {
     "name": "stdout",
     "output_type": "stream",
     "text": [
      "Loss:  9.177667617797852\n",
      "Loss:  9.24435806274414\n",
      "Loss:  9.265745162963867\n"
     ]
    },
    {
     "name": "stderr",
     "output_type": "stream",
     "text": [
      " 94%|████████████████████████████████████▌  | 1171/1250 [01:46<00:07, 10.94it/s]"
     ]
    },
    {
     "name": "stdout",
     "output_type": "stream",
     "text": [
      "Loss:  9.168517112731934\n",
      "Loss:  9.22836685180664\n",
      "Loss:  9.307480812072754\n"
     ]
    },
    {
     "name": "stderr",
     "output_type": "stream",
     "text": [
      " 94%|████████████████████████████████████▋  | 1175/1250 [01:47<00:06, 11.03it/s]"
     ]
    },
    {
     "name": "stdout",
     "output_type": "stream",
     "text": [
      "Loss:  9.235557556152344\n",
      "Loss:  9.21843147277832\n",
      "Loss:  9.125182151794434\n"
     ]
    },
    {
     "name": "stderr",
     "output_type": "stream",
     "text": [
      " 94%|████████████████████████████████████▋  | 1177/1250 [01:47<00:06, 11.00it/s]"
     ]
    },
    {
     "name": "stdout",
     "output_type": "stream",
     "text": [
      "Loss:  9.187725067138672\n",
      "Loss:  9.246740341186523\n",
      "Loss:  9.195462226867676\n"
     ]
    },
    {
     "name": "stderr",
     "output_type": "stream",
     "text": [
      " 94%|████████████████████████████████████▊  | 1181/1250 [01:47<00:06, 10.74it/s]"
     ]
    },
    {
     "name": "stdout",
     "output_type": "stream",
     "text": [
      "Loss:  9.23318099975586\n",
      "Loss:  9.225412368774414\n",
      "Loss:  9.196189880371094\n"
     ]
    },
    {
     "name": "stderr",
     "output_type": "stream",
     "text": [
      " 95%|████████████████████████████████████▉  | 1183/1250 [01:47<00:06, 10.96it/s]"
     ]
    },
    {
     "name": "stdout",
     "output_type": "stream",
     "text": [
      "Loss:  9.209600448608398\n",
      "Loss:  9.208005905151367\n",
      "Loss:  9.207836151123047\n"
     ]
    },
    {
     "name": "stderr",
     "output_type": "stream",
     "text": [
      " 95%|█████████████████████████████████████  | 1187/1250 [01:48<00:05, 10.90it/s]"
     ]
    },
    {
     "name": "stdout",
     "output_type": "stream",
     "text": [
      "Loss:  9.245708465576172\n",
      "Loss:  9.196056365966797\n",
      "Loss:  9.1520357131958\n"
     ]
    },
    {
     "name": "stderr",
     "output_type": "stream",
     "text": [
      " 95%|█████████████████████████████████████  | 1189/1250 [01:48<00:05, 11.04it/s]"
     ]
    },
    {
     "name": "stdout",
     "output_type": "stream",
     "text": [
      "Loss:  9.209181785583496\n",
      "Loss:  9.188186645507812\n",
      "Loss:  9.178274154663086\n"
     ]
    },
    {
     "name": "stderr",
     "output_type": "stream",
     "text": [
      " 95%|█████████████████████████████████████▏ | 1193/1250 [01:48<00:05, 11.04it/s]"
     ]
    },
    {
     "name": "stdout",
     "output_type": "stream",
     "text": [
      "Loss:  9.245467185974121\n",
      "Loss:  9.202901840209961\n",
      "Loss:  9.2138671875\n"
     ]
    },
    {
     "name": "stderr",
     "output_type": "stream",
     "text": [
      " 96%|█████████████████████████████████████▎ | 1195/1250 [01:48<00:04, 11.14it/s]"
     ]
    },
    {
     "name": "stdout",
     "output_type": "stream",
     "text": [
      "Loss:  9.259363174438477\n",
      "Loss:  9.220394134521484\n",
      "Loss:  9.223430633544922\n"
     ]
    },
    {
     "name": "stderr",
     "output_type": "stream",
     "text": [
      " 96%|█████████████████████████████████████▍ | 1199/1250 [01:49<00:04, 10.88it/s]"
     ]
    },
    {
     "name": "stdout",
     "output_type": "stream",
     "text": [
      "Loss:  9.214849472045898\n",
      "Loss:  9.27834701538086\n",
      "Loss:  9.188983917236328\n"
     ]
    },
    {
     "name": "stderr",
     "output_type": "stream",
     "text": [
      " 96%|█████████████████████████████████████▍ | 1201/1250 [01:49<00:04, 10.94it/s]"
     ]
    },
    {
     "name": "stdout",
     "output_type": "stream",
     "text": [
      "Loss:  9.172401428222656\n",
      "Loss:  9.257523536682129\n",
      "Loss:  9.181060791015625\n"
     ]
    },
    {
     "name": "stderr",
     "output_type": "stream",
     "text": [
      " 96%|█████████████████████████████████████▌ | 1205/1250 [01:49<00:04, 10.95it/s]"
     ]
    },
    {
     "name": "stdout",
     "output_type": "stream",
     "text": [
      "Loss:  9.191434860229492\n",
      "Loss:  9.183904647827148\n",
      "Loss:  9.187827110290527\n"
     ]
    },
    {
     "name": "stderr",
     "output_type": "stream",
     "text": [
      " 97%|█████████████████████████████████████▋ | 1207/1250 [01:50<00:03, 10.95it/s]"
     ]
    },
    {
     "name": "stdout",
     "output_type": "stream",
     "text": [
      "Loss:  9.16799259185791\n",
      "Loss:  9.189950942993164\n",
      "Loss:  9.197999954223633\n"
     ]
    },
    {
     "name": "stderr",
     "output_type": "stream",
     "text": [
      " 97%|█████████████████████████████████████▊ | 1211/1250 [01:50<00:03, 10.97it/s]"
     ]
    },
    {
     "name": "stdout",
     "output_type": "stream",
     "text": [
      "Loss:  9.155874252319336\n",
      "Loss:  9.158746719360352\n",
      "Loss:  9.264995574951172\n"
     ]
    },
    {
     "name": "stderr",
     "output_type": "stream",
     "text": [
      " 97%|█████████████████████████████████████▊ | 1213/1250 [01:50<00:03, 11.01it/s]"
     ]
    },
    {
     "name": "stdout",
     "output_type": "stream",
     "text": [
      "Loss:  9.256157875061035\n",
      "Loss:  9.252898216247559\n",
      "Loss:  9.27079963684082\n"
     ]
    },
    {
     "name": "stderr",
     "output_type": "stream",
     "text": [
      " 97%|█████████████████████████████████████▉ | 1217/1250 [01:50<00:02, 11.09it/s]"
     ]
    },
    {
     "name": "stdout",
     "output_type": "stream",
     "text": [
      "Loss:  9.202669143676758\n",
      "Loss:  9.183996200561523\n",
      "Loss:  9.159746170043945\n"
     ]
    },
    {
     "name": "stderr",
     "output_type": "stream",
     "text": [
      " 98%|██████████████████████████████████████ | 1219/1250 [01:51<00:02, 11.04it/s]"
     ]
    },
    {
     "name": "stdout",
     "output_type": "stream",
     "text": [
      "Loss:  9.135062217712402\n",
      "Loss:  9.129312515258789\n",
      "Loss:  9.21627140045166\n"
     ]
    },
    {
     "name": "stderr",
     "output_type": "stream",
     "text": [
      " 98%|██████████████████████████████████████▏| 1223/1250 [01:51<00:02, 10.86it/s]"
     ]
    },
    {
     "name": "stdout",
     "output_type": "stream",
     "text": [
      "Loss:  9.171905517578125\n",
      "Loss:  9.184175491333008\n",
      "Loss:  9.224547386169434\n"
     ]
    },
    {
     "name": "stderr",
     "output_type": "stream",
     "text": [
      " 98%|██████████████████████████████████████▏| 1225/1250 [01:51<00:02, 10.89it/s]"
     ]
    },
    {
     "name": "stdout",
     "output_type": "stream",
     "text": [
      "Loss:  9.183854103088379\n",
      "Loss:  9.171732902526855\n",
      "Loss:  9.277359008789062\n"
     ]
    },
    {
     "name": "stderr",
     "output_type": "stream",
     "text": [
      " 98%|██████████████████████████████████████▎| 1229/1250 [01:52<00:01, 10.72it/s]"
     ]
    },
    {
     "name": "stdout",
     "output_type": "stream",
     "text": [
      "Loss:  9.200357437133789\n",
      "Loss:  9.223152160644531\n",
      "Loss:  9.223731994628906\n"
     ]
    },
    {
     "name": "stderr",
     "output_type": "stream",
     "text": [
      " 98%|██████████████████████████████████████▍| 1231/1250 [01:52<00:01, 10.66it/s]"
     ]
    },
    {
     "name": "stdout",
     "output_type": "stream",
     "text": [
      "Loss:  9.1787748336792\n",
      "Loss:  9.146331787109375\n",
      "Loss:  9.185746192932129\n"
     ]
    },
    {
     "name": "stderr",
     "output_type": "stream",
     "text": [
      " 99%|██████████████████████████████████████▌| 1235/1250 [01:52<00:01, 10.91it/s]"
     ]
    },
    {
     "name": "stdout",
     "output_type": "stream",
     "text": [
      "Loss:  9.251471519470215\n",
      "Loss:  9.218027114868164\n",
      "Loss:  9.194171905517578\n"
     ]
    },
    {
     "name": "stderr",
     "output_type": "stream",
     "text": [
      " 99%|██████████████████████████████████████▌| 1237/1250 [01:52<00:01, 10.91it/s]"
     ]
    },
    {
     "name": "stdout",
     "output_type": "stream",
     "text": [
      "Loss:  9.192519187927246\n",
      "Loss:  9.137170791625977\n",
      "Loss:  9.205958366394043\n"
     ]
    },
    {
     "name": "stderr",
     "output_type": "stream",
     "text": [
      " 99%|██████████████████████████████████████▋| 1241/1250 [01:53<00:00, 11.00it/s]"
     ]
    },
    {
     "name": "stdout",
     "output_type": "stream",
     "text": [
      "Loss:  9.121917724609375\n",
      "Loss:  9.22252082824707\n",
      "Loss:  9.186634063720703\n"
     ]
    },
    {
     "name": "stderr",
     "output_type": "stream",
     "text": [
      " 99%|██████████████████████████████████████▊| 1243/1250 [01:53<00:00, 11.00it/s]"
     ]
    },
    {
     "name": "stdout",
     "output_type": "stream",
     "text": [
      "Loss:  9.21299934387207\n",
      "Loss:  9.128948211669922\n",
      "Loss:  9.164318084716797\n"
     ]
    },
    {
     "name": "stderr",
     "output_type": "stream",
     "text": [
      "100%|██████████████████████████████████████▉| 1247/1250 [01:53<00:00, 10.97it/s]"
     ]
    },
    {
     "name": "stdout",
     "output_type": "stream",
     "text": [
      "Loss:  9.218594551086426\n",
      "Loss:  9.161344528198242\n",
      "Loss:  9.209516525268555\n"
     ]
    },
    {
     "name": "stderr",
     "output_type": "stream",
     "text": [
      "                                                                                \r"
     ]
    },
    {
     "name": "stdout",
     "output_type": "stream",
     "text": [
      "Loss:  9.260083198547363\n",
      "Loss:  9.225120544433594\n",
      "Loss:  9.178910255432129\n",
      "Epoch 1/5 loss: 9.1789\n"
     ]
    },
    {
     "name": "stderr",
     "output_type": "stream",
     "text": [
      "Testing:   0%|                                        | 0/250 [00:00<?, ?it/s]\n"
     ]
    },
    {
     "ename": "NameError",
     "evalue": "name 'test_mem' is not defined",
     "output_type": "error",
     "traceback": [
      "\u001b[0;31m---------------------------------------------------------------------------\u001b[0m",
      "\u001b[0;31mNameError\u001b[0m                                 Traceback (most recent call last)",
      "Cell \u001b[0;32mIn[16], line 50\u001b[0m\n\u001b[1;32m     48\u001b[0m test_loss \u001b[38;5;241m=\u001b[39m torch\u001b[38;5;241m.\u001b[39mzeros((\u001b[38;5;241m1\u001b[39m), dtype\u001b[38;5;241m=\u001b[39mdtype, device\u001b[38;5;241m=\u001b[39mdevice)\n\u001b[1;32m     49\u001b[0m \u001b[38;5;28;01mfor\u001b[39;00m step \u001b[38;5;129;01min\u001b[39;00m \u001b[38;5;28mrange\u001b[39m(num_steps):\n\u001b[0;32m---> 50\u001b[0m     test_loss \u001b[38;5;241m+\u001b[39m\u001b[38;5;241m=\u001b[39m loss(\u001b[43mtest_mem\u001b[49m[step], test_targets)\n\u001b[1;32m     52\u001b[0m test_loss_hist\u001b[38;5;241m.\u001b[39mappend(test_loss\u001b[38;5;241m.\u001b[39mitem())\n\u001b[1;32m     55\u001b[0m acc \u001b[38;5;241m=\u001b[39m batch_accuracy(test_data, test_targets)\n",
      "\u001b[0;31mNameError\u001b[0m: name 'test_mem' is not defined"
     ]
    }
   ],
   "source": [
    "\n",
    "# ### Training\n",
    "\n",
    "optimizer = torch.optim.Adam(net.parameters(), lr=5e-4)\n",
    "loss = nn.CrossEntropyLoss()\n",
    "N_EPOCHS = 5\n",
    "num_steps = 4\n",
    "\n",
    "loss_hist = []\n",
    "test_loss_hist = []\n",
    "\n",
    "\n",
    "# Outer training loop\n",
    "for epoch in range(N_EPOCHS):\n",
    "    train_loss = 0.0\n",
    "    for batch in tqdm(train_loader, leave=False):\n",
    "        data, targets = batch\n",
    "        data, targets = data.to(device), targets.to(device)\n",
    "        \n",
    "        #Initialize hidden states at t = 0\n",
    "        net.train()\n",
    "        utils.reset(net)\n",
    "        \n",
    "        spk_rec, mem_rec = net(data)\n",
    "        \n",
    "        loss_val = torch.zeros((1), dtype=dtype, device=device)\n",
    "        for step in range(num_steps):\n",
    "            loss_val += loss(mem_rec[step], targets)\n",
    "        \n",
    "        # Gradient calculation + weight update\n",
    "        optimizer.zero_grad()\n",
    "        loss_val.backward()\n",
    "        optimizer.step()\n",
    "        \n",
    "        # Store loss history for future plotting\n",
    "        loss_hist.append(loss_val.item())\n",
    "        print(\"Loss: \",loss_val.item())\n",
    "        \n",
    "    print(f\"Epoch {epoch + 1}/{N_EPOCHS} loss: {loss_val.item():.4f}\")\n",
    "        \n",
    "    with torch.no_grad():\n",
    "        correct, total = 0, 0\n",
    "        test_loss = 0.0\n",
    "        net.eval()\n",
    "        for batch in tqdm(test_loader, desc=\"Testing\"):\n",
    "            test_data, test_targets = batch\n",
    "            test_data, test_targets = data.to(device), targets.to(device)\n",
    "            \n",
    "            test_loss = torch.zeros((1), dtype=dtype, device=device)\n",
    "            for step in range(num_steps):\n",
    "                test_loss += loss(test_mem[step], test_targets)\n",
    "                \n",
    "            test_loss_hist.append(test_loss.item())\n",
    "\n",
    "\n",
    "            acc = batch_accuracy(test_data, test_targets)\n",
    "        print(f\"Test loss: {test_loss:.2f}\")\n",
    "        print(f\"Test accuracy: {acc * 100:.2f}%\")\n",
    "        "
   ]
  },
  {
   "cell_type": "code",
   "execution_count": null,
   "id": "07f19f4f-e180-423c-b92e-b1d4ab906581",
   "metadata": {},
   "outputs": [],
   "source": []
  }
 ],
 "metadata": {
  "kernelspec": {
   "display_name": "Python 3 (ipykernel)",
   "language": "python",
   "name": "python3"
  },
  "language_info": {
   "codemirror_mode": {
    "name": "ipython",
    "version": 3
   },
   "file_extension": ".py",
   "mimetype": "text/x-python",
   "name": "python",
   "nbconvert_exporter": "python",
   "pygments_lexer": "ipython3",
   "version": "3.9.16"
  }
 },
 "nbformat": 4,
 "nbformat_minor": 5
}
