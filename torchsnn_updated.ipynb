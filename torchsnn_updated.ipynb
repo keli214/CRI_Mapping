{
 "cells": [
  {
   "cell_type": "markdown",
   "metadata": {
    "id": "uSGZ6cdmpknm",
    "pycharm": {
     "name": "#%% md\n"
    }
   },
   "source": [
    "[<img src='https://github.com/jeshraghian/snntorch/blob/master/docs/_static/img/snntorch_alpha_w.png?raw=true' width=\"400\">](https://github.com/jeshraghian/snntorch/)\n",
    "\n",
    "\n",
    "# snnTorch - Training Spiking Convolutional Neural Networks with snnTorch\n",
    "## Tutorial 5\n",
    "### By Jason K. Eshraghian (www.jasoneshraghian.com)\n",
    "\n",
    "<a href=\"https://colab.research.google.com/github/jeshraghian/snntorch/blob/master/examples/tutorial_6_CNN.ipynb\">\n",
    "  <img src=\"https://colab.research.google.com/assets/colab-badge.svg\" alt=\"Open In Colab\"/>\n",
    "</a>\n",
    "\n",
    "\n",
    "[<img src='https://github.com/jeshraghian/snntorch/blob/master/docs/_static/img/GitHub-Mark-Light-120px-plus.png?raw=true' width=\"28\">](https://github.com/jeshraghian/snntorch/) [<img src='https://github.com/jeshraghian/snntorch/blob/master/docs/_static/img/GitHub_Logo_White.png?raw=true' width=\"80\">](https://github.com/jeshraghian/snntorch/)"
   ]
  },
  {
   "cell_type": "markdown",
   "metadata": {
    "id": "rugeYYiqsrlc"
   },
   "source": [
    "The snnTorch tutorial series is based on the following paper. If you find these resources or code useful in your work, please consider citing the following source:\n",
    "\n",
    "> <cite> [Jason K. Eshraghian, Max Ward, Emre Neftci, Xinxin Wang, Gregor Lenz, Girish Dwivedi, Mohammed Bennamoun, Doo Seok Jeong, and Wei D. Lu. \"Training Spiking Neural Networks Using Lessons From Deep Learning\". arXiv preprint arXiv:2109.12894, September 2021.](https://arxiv.org/abs/2109.12894) </cite>\n",
    "\n"
   ]
  },
  {
   "cell_type": "markdown",
   "metadata": {
    "id": "Ymi3sqJg28OQ"
   },
   "source": [
    "# Introduction\n",
    "In this tutorial, you will:\n",
    "* Learn how spiking neurons are implemented as a recurrent network\n",
    "* Understand backpropagation through time, and the associated challenges in SNNs such as the non-differentiability of spikes\n",
    "* Train a fully-connected network on the static MNIST dataset\n",
    "\n",
    "<!-- * Implement various backprop strategies:\n",
    "  * Backpropagation Through Time\n",
    "  * Truncated-Backpropagation Through Time\n",
    "  * Real-Time Recurrent Learning -->\n",
    "\n",
    ">Part of this tutorial was inspired by Friedemann Zenke's extensive work on SNNs. Check out his repo on surrogate gradients [here](https://github.com/fzenke/spytorch), and a favourite paper of mine: E. O. Neftci, H. Mostafa, F. Zenke, [Surrogate Gradient Learning in Spiking Neural Networks: Bringing the Power of Gradient-based optimization to spiking neural networks.](https://ieeexplore.ieee.org/document/8891809) IEEE Signal Processing Magazine 36, 51–63.\n",
    "\n",
    "At the end of the tutorial, a basic supervised learning algorithm will be implemented. We will use the original static MNIST dataset and train a multi-layer fully-connected spiking neural network using gradient descent to perform image classification. \n",
    "\n",
    "If running in Google Colab:\n",
    "* You may connect to GPU by checking `Runtime` > `Change runtime type` > `Hardware accelerator: GPU`\n",
    "* Next, install the latest PyPi distribution of snnTorch by clicking into the following cell and pressing `Shift+Enter`."
   ]
  },
  {
   "cell_type": "code",
   "execution_count": null,
   "metadata": {
    "colab": {
     "base_uri": "https://localhost:8080/"
    },
    "executionInfo": {
     "elapsed": 5352,
     "status": "ok",
     "timestamp": 1657784286328,
     "user": {
      "displayName": "",
      "userId": ""
     },
     "user_tz": 420
    },
    "id": "5tn_wUlopkon",
    "outputId": "282ffe2a-68c2-45a5-9f3b-a79655bb528b",
    "pycharm": {
     "name": "#%%\n"
    }
   },
   "outputs": [],
   "source": []
  },
  {
   "cell_type": "code",
   "execution_count": 1,
   "metadata": {
    "executionInfo": {
     "elapsed": 7,
     "status": "ok",
     "timestamp": 1657784286329,
     "user": {
      "displayName": "",
      "userId": ""
     },
     "user_tz": 420
    },
    "id": "QXZ6Tuqc9Q-l"
   },
   "outputs": [
    {
     "name": "stderr",
     "output_type": "stream",
     "text": [
      "/Volumes/export/isn/keli/.cache/pypoetry/virtualenvs/l2s-qKZNf-9r-py3.9/lib/python3.9/site-packages/tqdm/auto.py:22: TqdmWarning: IProgress not found. Please update jupyter and ipywidgets. See https://ipywidgets.readthedocs.io/en/stable/user_install.html\n",
      "  from .autonotebook import tqdm as notebook_tqdm\n"
     ]
    }
   ],
   "source": [
    "# imports\n",
    "import snntorch as snn\n",
    "from snntorch import spikeplot as splt\n",
    "from snntorch import spikegen\n",
    "\n",
    "import torch\n",
    "import torch.nn as nn\n",
    "from torch.utils.data import DataLoader\n",
    "from torchvision import datasets, transforms\n",
    "\n",
    "import matplotlib.pyplot as plt\n",
    "import numpy as np\n",
    "import itertools"
   ]
  },
  {
   "cell_type": "markdown",
   "metadata": {
    "id": "gt2xMbLY9dVE"
   },
   "source": [
    "# 1. A Recurrent Representation of SNNs"
   ]
  },
  {
   "cell_type": "markdown",
   "metadata": {
    "id": "v7haBG7nA_TC"
   },
   "source": [
    "In Tutorial 3, we derived a recursive representation of a leaky integrate-and-fire (LIF) neuron: \n",
    "\n",
    "$$U[t+1] = \\underbrace{\\beta U[t]}_\\text{decay} + \\underbrace{WX[t+1]}_\\text{input} - \\underbrace{R[t]}_\\text{reset} \\tag{1}$$\n",
    "\n",
    "where the input synaptic current is interpreted as $I_{\\rm in}[t] = WX[t]$, and $X[t]$ may be some arbitrary input of spikes, a step/time-varying voltage, or unweighted step/time-varying current. Spiking is represented with the following equation, where if the membrane potential exceeds the threshold, a spike is emitted:\n",
    "\n",
    "$$S[t] = \\begin{cases} 1, &\\text{if}~U[t] > U_{\\rm thr} \\\\\n",
    "0, &\\text{otherwise}\\end{cases} \\tag{2}$$\n",
    "\n",
    "This formulation of a spiking neuron in a discrete, recursive form is almost perfectly poised to take advantage of the developments in training recurrent neural networks (RNNs) and sequence-based models. This is illustrated using an *implicit* recurrent connection for the decay of the membrane potential, and is distinguished from *explicit* recurrence where the output spike $S_{\\rm out}$ is fed back to the input. In the figure below, the connection weighted by $-U_{\\rm thr}$ represents the reset mechanism $R[t]$.\n",
    "\n",
    "\n",
    "<center>\n",
    "<img src='https://github.com/jeshraghian/snntorch/blob/master/docs/_static/img/examples/tutorial5/unrolled_2.png?raw=true' width=\"800\">\n",
    "</center>\n",
    "\n",
    "The benefit of an unrolled graph is that it provides an explicit description of how computations are performed. The process of unfolding illustrates the flow of information forward in time (from left to right) to compute outputs and losses, and backward in time to compute gradients. The more time steps that are simulated, the deeper the graph becomes. \n",
    "\n",
    "Conventional RNNs treat $\\beta$ as a learnable parameter. This is also possible for SNNs, though by default, they are treated as hyperparameters. This replaces the vanishing and exploding gradient problems with a hyperparameter search. A future tutorial will describe how to make $\\beta$ a learnable parameter."
   ]
  },
  {
   "cell_type": "markdown",
   "metadata": {
    "id": "Wgzf83HE2BeB"
   },
   "source": [
    "# 2. The Non-Differentiability of Spikes\n",
    "## 2.1 Training Using the Backprop Algorithm\n",
    "\n",
    "An alternative way to represent the relationship between $S$ and $U$ in $(2)$ is:\n",
    "\n",
    "$$S[t] = \\Theta(U[t] - U_{\\rm thr}) \\tag{3}$$ \n",
    "\n",
    "where $\\Theta(\\cdot)$ is the Heaviside step function:\n",
    "\n",
    "<center>\n",
    "<img src='https://github.com/jeshraghian/snntorch/blob/master/docs/_static/img/examples/tutorial3/3_2_spike_descrip.png?raw=true' width=\"600\">\n",
    "</center>\n",
    "\n",
    "Training a network in this form poses some serious challenges. Consider a single, isolated time step of the computational graph from the previous figure titled *\"Recurrent representation of spiking neurons\"*, as shown in the *forward pass* below:\n",
    "\n",
    "<center>\n",
    "<img src='https://github.com/jeshraghian/snntorch/blob/master/docs/_static/img/examples/tutorial5/non-diff.png?raw=true' width=\"400\">\n",
    "</center>\n",
    "\n",
    "The goal is to train the network using the gradient of the loss with respect to the weights, such that the weights are updated to minimize the loss. The backpropagation algorithm achieves this using the chain rule:\n",
    "\n",
    "$$\\frac{\\partial \\mathcal{L}}{\\partial W} = \n",
    "\\frac{\\partial \\mathcal{L}}{\\partial S}\n",
    "\\underbrace{\\frac{\\partial S}{\\partial U}}_{\\{0, \\infty\\}}\n",
    "\\frac{\\partial U}{\\partial I}\\\n",
    "\\frac{\\partial I}{\\partial W}\\ \\tag{4}$$\n",
    "\n",
    "From $(1)$, $\\partial I/\\partial W=X$, and $\\partial U/\\partial I=1$. While we have not yet defined a loss function, we can assume $\\partial \\mathcal{L}/\\partial S$ has an analytical solution, in a similar form to the cross-entropy or mean-square error loss (more on that shortly). \n",
    "\n",
    "However, the term that we are going to grapple with is $\\partial S/\\partial U$. The derivative of the Heaviside step function from $(3)$ is the Dirac Delta function, which evaluates to 0 everywhere, except at the threshold $U_{\\rm thr} = \\theta$, where it tends to infinity. This means the gradient will almost always be nulled to zero (or saturated if $U$ sits precisely at the threshold), and no learning can take place. This is known as the **dead neuron problem**. "
   ]
  },
  {
   "cell_type": "markdown",
   "metadata": {
    "id": "mVrM7nLOMvgx"
   },
   "source": [
    "## 2.2 Overcoming the Dead Neuron Problem\n",
    "\n",
    "The most common way to address the dead neuron problem is to keep the Heaviside function as it is during the forward pass, but swap the derivative term $\\partial S/\\partial U$ for something that does not kill the learning process during the backward pass, which will be denoted $\\partial \\tilde{S}/\\partial U$. This might sound odd, but it turns out that neural networks are quite robust to such approximations. This is commonly known as the *surrogate gradient* approach.\n",
    "\n",
    "A variety of options exist to using surrogate gradients, and we will dive into more detail on these methods in [Tutorial 6](https://snntorch.readthedocs.io/en/latest/tutorials/index.html). For now, a simple approximation is applied where $\\partial \\tilde{S}/\\partial U$ is set to $S$ itself.\n",
    "\n",
    "If $S$ does not spike, then the spike-gradient term is $0$. If $S$ spikes, then the gradient term is $1$. This simply looks like the gradient of a ReLU function shifted to the threshold. This method is known as the *Spike-Operator* approach and is described in more detail in the following paper:\n",
    "\n",
    "> <cite> Jason K. Eshraghian, Max Ward, Xinxin Wang, Gregor Lenz, Girish Dwivedi, Mohammed Bennamoun, Doo Seok Jeong, and Wei D. Lu. \"Training Spiking Neural Networks Using Lessons From Deep Learning\". arXiv, 2021. </cite>\n",
    "\n",
    "Inutitively, *Spike Operator* splits the gradient calculation into two chunks: one where the neuron is spiking, and one where it is silent:\n",
    "* **Silent:** If the neuron is silent, then the spike response can be obtained by scaling the membrane by 0: $S = U \\times 0 \\implies \\partial \\tilde{S}/\\partial U = 0$. \n",
    "* **Spiking:** If the neuron is spiking, then assume $U \\approx U_{\\rm thr}$, normalize $U_{\\rm thr}=1$, and the spike response can be obtained by scaling the membrane by 1: $S = U \\times 1 \\implies \\partial \\tilde{S}/\\partial U = 1$, where the tilde above $\\tilde{S}$ implies an approximation.\n",
    "\n",
    "This is summarized as follows:\n",
    "\n",
    "$$\\frac{\\partial \\tilde{S}}{\\partial U} \\leftarrow S = \\begin{cases} 1, &\\text{if}~U> U_{\\rm thr} \\\\\n",
    "0, &\\text{otherwise}\\end{cases} $$\n",
    "\n",
    "where the left arrow denotes substitution. \n",
    "\n",
    "The same neuron model described in  $(1)-(2)$ (a.k.a., `snn.Leaky` neuron from Tutorial 3) is implemented in PyTorch below. Don't worry if you don't understand this. This will be condensed into one line of code using snnTorch in a moment:"
   ]
  },
  {
   "cell_type": "code",
   "execution_count": 2,
   "metadata": {
    "executionInfo": {
     "elapsed": 6,
     "status": "ok",
     "timestamp": 1657784286329,
     "user": {
      "displayName": "",
      "userId": ""
     },
     "user_tz": 420
    },
    "id": "mfJUm-6T8aG2"
   },
   "outputs": [],
   "source": [
    "# Leaky neuron model, overriding the backward pass with a custom function\n",
    "class LeakySurrogate(nn.Module):\n",
    "  def __init__(self, beta, threshold=1.0):\n",
    "      super(LeakySurrogate, self).__init__()\n",
    "\n",
    "      # initialize decay rate beta and threshold\n",
    "      self.beta = beta\n",
    "      self.threshold = threshold\n",
    "      self.spike_op = self.SpikeOperator.apply\n",
    "  \n",
    "  # the forward function is called each time we call Leaky\n",
    "  def forward(self, input_, mem):\n",
    "    spk = self.spike_op((mem-self.threshold))  # call the Heaviside function\n",
    "    reset = (spk * self.threshold).detach() # removes spike_op gradient from reset\n",
    "    mem = self.beta * mem + input_ - reset # Eq (1)\n",
    "    return spk, mem\n",
    "\n",
    "  # Forward pass: Heaviside function\n",
    "  # Backward pass: Override Dirac Delta with the Spike itself\n",
    "  @staticmethod\n",
    "  class SpikeOperator(torch.autograd.Function):\n",
    "      @staticmethod\n",
    "      def forward(ctx, mem):\n",
    "          spk = (mem > 0).float() # Heaviside on the forward pass: Eq(2)\n",
    "          ctx.save_for_backward(spk)  # store the spike for use in the backward pass\n",
    "          return spk\n",
    "\n",
    "      @staticmethod\n",
    "      def backward(ctx, grad_output):\n",
    "          (spk,) = ctx.saved_tensors  # retrieve the spike \n",
    "          grad = grad_output * spk # scale the gradient by the spike: 1/0\n",
    "          return grad"
   ]
  },
  {
   "cell_type": "markdown",
   "metadata": {
    "id": "1zkc1Mmp97OX"
   },
   "source": [
    "Note that the reset mechanism is detached from the computational graph, as the surrogate gradient should only be applied to $\\partial S/\\partial U$, and not $\\partial R/\\partial U$.\n",
    "\n",
    "The above neuron is instantiated using:"
   ]
  },
  {
   "cell_type": "code",
   "execution_count": 3,
   "metadata": {
    "executionInfo": {
     "elapsed": 273,
     "status": "ok",
     "timestamp": 1657784286598,
     "user": {
      "displayName": "",
      "userId": ""
     },
     "user_tz": 420
    },
    "id": "EV3lU6soOnW6"
   },
   "outputs": [],
   "source": [
    "lif1 = LeakySurrogate(beta=0)"
   ]
  },
  {
   "cell_type": "markdown",
   "metadata": {
    "id": "StklvL_gPns1"
   },
   "source": [
    "This neuron can be simulated using a for-loop, just as in previous tutorials, while PyTorch's automatic differentation (autodiff) mechanism keeps track of the gradient in the background.\n",
    "\n",
    "Alternatively, the same thing can be accomplished by calling the `snn.Leaky` neuron. \n",
    "In fact, every time you call any neuron model from snnTorch, the *Spike Operator* surrogate gradient is applied to it by default:"
   ]
  },
  {
   "cell_type": "code",
   "execution_count": 4,
   "metadata": {
    "executionInfo": {
     "elapsed": 12,
     "status": "ok",
     "timestamp": 1657784286598,
     "user": {
      "displayName": "",
      "userId": ""
     },
     "user_tz": 420
    },
    "id": "8Wa7N31mP9Va"
   },
   "outputs": [],
   "source": [
    "lif1 = snn.Leaky(beta=0)"
   ]
  },
  {
   "cell_type": "markdown",
   "metadata": {
    "id": "9EF70Xi1RX6w"
   },
   "source": [
    "If you would like to explore how this neuron behaves, then refer to [Tutorial 3](https://snntorch.readthedocs.io/en/latest/tutorials/index.html)."
   ]
  },
  {
   "cell_type": "markdown",
   "metadata": {
    "id": "cxl1UYSCRzzl"
   },
   "source": [
    "#3. Backprop Through Time\n",
    "Equation $(4)$ only calculates the gradient for one single time step (referred to as the *immediate influence* in the figure below), but the backpropagation through time (BPTT) algorithm calculates the gradient from the loss to *all* descendants and sums them together. \n",
    "\n",
    "The weight $W$ is applied at every time step, and so imagine a loss is also calculated at every time step. The influence of the weight on present and historical losses must be summed together to define the global gradient:\n",
    "\n",
    "$$\\frac{\\partial \\mathcal{L}}{\\partial W}=\\sum_t \\frac{\\partial\\mathcal{L}[t]}{\\partial W} = \n",
    "\\sum_t \\sum_{s\\leq t} \\frac{\\partial\\mathcal{L}[t]}{\\partial W[s]}\\frac{\\partial W[s]}{\\partial W} \\tag{5} $$\n",
    "\n",
    "The point of $(5)$ is to ensure causality: by constraining $s\\leq t$, we only account for the contribution of immediate and prior influences of $W$ on the loss. A recurrent system constrains the weight to be shared across all steps: $W[0]=W[1] =~... ~ = W$. Therefore, a change in $W[s]$ will have the same effect on all $W$, which implies that $\\partial W[s]/\\partial W=1$:\n",
    "\n",
    "$$\\frac{\\partial \\mathcal{L}}{\\partial W}=\n",
    "\\sum_t \\sum_{s\\leq t} \\frac{\\partial\\mathcal{L}[t]}{\\partial W[s]} \\tag{6} $$\n",
    "\n",
    "As an example, isolate the prior influence due to $s = t-1$ *only*; this means the backward pass must track back in time by one step. The influence of $W[t-1]$ on the loss can be written as:\n",
    "\n",
    "$$\\frac{\\partial \\mathcal{L}[t]}{\\partial W[t-1]} = \n",
    "\\frac{\\partial \\mathcal{L}[t]}{\\partial S[t]}\n",
    "\\underbrace{\\frac{\\partial \\tilde{S}[t]}{\\partial U[t]}}_{S[t]}\n",
    "\\underbrace{\\frac{\\partial U[t]}{\\partial U[t-1]}}_\\beta\n",
    "\\underbrace{\\frac{\\partial U[t-1]}{\\partial I[t-1]}}_1\n",
    "\\underbrace{\\frac{\\partial I[t-1]}{\\partial W[t-1]}}_{X[t-1]} \\tag{7}$$\n",
    "\n",
    "We have already dealt with all of these terms from $(4)$, except for $\\partial U[t]/\\partial U[t-1]$. From $(1)$, this temporal derivative term simply evaluates to $\\beta$. So if we really wanted to, we now know enough to painstakingly calculate the derivative of every weight at every time step by hand, and it'd look something like this for a single neuron:\n",
    "\n",
    "<center>\n",
    "<img src='https://github.com/jeshraghian/snntorch/blob/master/docs/_static/img/examples/tutorial5/bptt.png?raw=true' width=\"600\">\n",
    "</center>\n",
    "\n",
    "But thankfully, PyTorch's autodiff takes care of that in the background for us.  "
   ]
  },
  {
   "cell_type": "markdown",
   "metadata": {
    "id": "c_42-CbsZ1FM"
   },
   "source": [
    "# 4. Setting up the Loss / Output Decoding\n",
    "In a conventional, non-spiking neural network, a supervised, multi-class classification problem takes the neuron with the highest activation and treats that as the predicted class. \n",
    "\n",
    "In a spiking neural net, there are several options to interpreting the output spikes. The most common approaches are:\n",
    "* **Rate coding:** Take the neuron with the highest firing rate (or spike count) as the predicted class\n",
    "* **Latency coding:** Take the neuron that fires *first* as the predicted class\n",
    "\n",
    "This might feel familiar to [Tutorial 1 on neural encoding](https://snntorch.readthedocs.io/en/latest/tutorials/index.html). The difference is that, here, we are interpreting (decoding) the output spikes, rather than encoding/converting raw input data into spikes.\n",
    "\n",
    "Let's focus on a rate code. When input data is passed to the network, we want the correct neuron class to emit the most spikes over the course of the simulation run. This then corresponds to the highest average firing frequency. One way to achieve this is to increase the membrane potential of the correct class to $U>U_{\\rm thr}$, and that of incorrect classes to $U<U_{\\rm thr}$. Applying the target to $U$ serves as a proxy for modulating spiking behavior from $S$.\n",
    "\n",
    "This can be implemented by taking the softmax of the membrane potential for output neurons, where $C$ is the number of output classes:\n",
    "\n",
    "$$p_i[t] = \\frac{e^{U_i[t]}}{\\sum_{i=0}^{C}e^{U_i[t]}} \\tag{8}$$\n",
    "\n",
    "The cross-entropy between $p_i$ and the target $y_i \\in \\{0,1\\}^C$, which is a one-hot target vector, is obtained using:\n",
    "\n",
    "$$\\mathcal{L}_{CE}[t] = \\sum_{i=0}^Cy_i{\\rm log}(p_i[t]) \\tag{9}$$\n",
    "\n",
    "The practical effect is that the membrane potential of the correct class is encouraged to increase while those of incorrect classes are reduced. In effect, this means the correct class is encouraged to fire at all time steps, while incorrect classes are suppressed at all steps. This may not be the most efficient implementation of an SNN, but it is among the simplest.\n",
    "\n",
    "This target is applied at every time step of the simulation, thus also generating a loss at every step. These losses are then summed together at the end of the simulation:\n",
    "\n",
    "$$\\mathcal{L}_{CE} = \\sum_t\\mathcal{L}_{CE}[t] \\tag{10}$$\n",
    "\n",
    "This is just one of many possible ways to apply a loss function to a spiking neural network. A variety of approaches are available to use in snnTorch (in the module `snn.functional`), and will be the subject of a future tutorial.\n",
    "\n",
    "With all of the background theory having been taken care of, let’s finally dive into\n",
    "training a fully-connected spiking neural net."
   ]
  },
  {
   "cell_type": "markdown",
   "metadata": {
    "id": "zqJdfllYbc16"
   },
   "source": [
    "# 5. Setting up the Static MNIST Dataset"
   ]
  },
  {
   "cell_type": "code",
   "execution_count": 5,
   "metadata": {
    "executionInfo": {
     "elapsed": 12,
     "status": "ok",
     "timestamp": 1657784286599,
     "user": {
      "displayName": "",
      "userId": ""
     },
     "user_tz": 420
    },
    "id": "lI0GbgLgpkos",
    "pycharm": {
     "name": "#%%\n"
    }
   },
   "outputs": [
    {
     "name": "stderr",
     "output_type": "stream",
     "text": [
      "/Volumes/export/isn/keli/.cache/pypoetry/virtualenvs/l2s-qKZNf-9r-py3.9/lib/python3.9/site-packages/torch/cuda/__init__.py:83: UserWarning: CUDA initialization: The NVIDIA driver on your system is too old (found version 10000). Please update your GPU driver by downloading and installing a new version from the URL: http://www.nvidia.com/Download/index.aspx Alternatively, go to: https://pytorch.org to install a PyTorch version that has been compiled with your version of the CUDA driver. (Triggered internally at  ../c10/cuda/CUDAFunctions.cpp:109.)\n",
      "  return torch._C._cuda_getDeviceCount() > 0\n"
     ]
    }
   ],
   "source": [
    "# dataloader arguments\n",
    "batch_size = 128\n",
    "data_path='~/justinData/mnistData'\n",
    "\n",
    "dtype = torch.float\n",
    "device = torch.device(\"cuda\") if torch.cuda.is_available() else torch.device(\"cpu\")"
   ]
  },
  {
   "cell_type": "code",
   "execution_count": 6,
   "metadata": {
    "executionInfo": {
     "elapsed": 10,
     "status": "ok",
     "timestamp": 1657784286599,
     "user": {
      "displayName": "",
      "userId": ""
     },
     "user_tz": 420
    },
    "id": "2fhRixcspkot",
    "pycharm": {
     "name": "#%%\n"
    }
   },
   "outputs": [],
   "source": [
    "# Define a transform\n",
    "transform = transforms.Compose([\n",
    "            transforms.Resize((28, 28)),\n",
    "            transforms.Grayscale(),\n",
    "            transforms.ToTensor(),\n",
    "            transforms.Normalize((0,), (1,))])\n",
    "\n",
    "mnist_train = datasets.MNIST(data_path, train=True, download=True, transform=transform)\n",
    "mnist_test = datasets.MNIST(data_path, train=False, download=True, transform=transform)"
   ]
  },
  {
   "cell_type": "markdown",
   "metadata": {
    "id": "RAM_dP887uTq"
   },
   "source": [
    "If the above code blocks throws an error, e.g. the MNIST servers are down, then uncomment the following code instead."
   ]
  },
  {
   "cell_type": "code",
   "execution_count": 7,
   "metadata": {
    "executionInfo": {
     "elapsed": 9,
     "status": "ok",
     "timestamp": 1657784286600,
     "user": {
      "displayName": "",
      "userId": ""
     },
     "user_tz": 420
    },
    "id": "4jyJVqUNdXDo"
   },
   "outputs": [],
   "source": [
    "# # temporary dataloader if MNIST service is unavailable\n",
    "# !wget www.di.ens.fr/~lelarge/MNIST.tar.gz\n",
    "# !tar -zxvf MNIST.tar.gz\n",
    "\n",
    "# mnist_train = datasets.MNIST(root = './', train=True, download=True, transform=transform)\n",
    "# mnist_test = datasets.MNIST(root = './', train=False, download=True, transform=transform)"
   ]
  },
  {
   "cell_type": "code",
   "execution_count": 8,
   "metadata": {
    "executionInfo": {
     "elapsed": 8,
     "status": "ok",
     "timestamp": 1657784286600,
     "user": {
      "displayName": "",
      "userId": ""
     },
     "user_tz": 420
    },
    "id": "aEtCbO6upkou",
    "pycharm": {
     "name": "#%%\n"
    }
   },
   "outputs": [],
   "source": [
    "# Create DataLoaders\n",
    "train_loader = DataLoader(mnist_train, batch_size=batch_size, shuffle=True, drop_last=True)\n",
    "test_loader = DataLoader(mnist_test, batch_size=batch_size, shuffle=True, drop_last=True)"
   ]
  },
  {
   "cell_type": "markdown",
   "metadata": {
    "id": "GhFyzySNeT_e"
   },
   "source": [
    "# 6. Define the Network"
   ]
  },
  {
   "cell_type": "code",
   "execution_count": 9,
   "metadata": {
    "executionInfo": {
     "elapsed": 15,
     "status": "ok",
     "timestamp": 1657784286784,
     "user": {
      "displayName": "",
      "userId": ""
     },
     "user_tz": 420
    },
    "id": "Lud3kywn55fj"
   },
   "outputs": [],
   "source": [
    "# Network Architecture\n",
    "num_inputs = 28*28\n",
    "num_hidden = 1000\n",
    "num_outputs = 10\n",
    "\n",
    "# Temporal Dynamics\n",
    "num_steps = 25\n",
    "beta = 0.0"
   ]
  },
  {
   "cell_type": "code",
   "execution_count": 10,
   "metadata": {
    "executionInfo": {
     "elapsed": 14,
     "status": "ok",
     "timestamp": 1657784286785,
     "user": {
      "displayName": "",
      "userId": ""
     },
     "user_tz": 420
    },
    "id": "-uquHLLmpkox",
    "pycharm": {
     "name": "#%%\n"
    }
   },
   "outputs": [],
   "source": [
    "# Define Network\n",
    "class Net(nn.Module):\n",
    "    def __init__(self):\n",
    "        super().__init__()\n",
    "\n",
    "        # Initialize layers\n",
    "        self.fc1 = nn.Linear(num_inputs, num_hidden, bias=False)\n",
    "        self.lif1 = snn.Leaky(beta=beta,reset_mechanism='zero')\n",
    "        \n",
    "        self.fc2 = nn.Linear(num_hidden, num_outputs, bias=False)\n",
    "        self.lif2 = snn.Leaky(beta=beta,reset_mechanism='zero')\n",
    "\n",
    "    def forward(self, x):\n",
    "\n",
    "        # Initialize hidden states at t=0\n",
    "        mem1 = self.lif1.init_leaky()\n",
    "        mem2 = self.lif2.init_leaky()\n",
    "        \n",
    "        # Record the final layer\n",
    "        spk2_rec = []\n",
    "        mem2_rec = []\n",
    "        \n",
    "        data = spikegen.rate(x,num_steps)\n",
    "\n",
    "        for q in data:\n",
    "            cur1 = self.fc1(q)\n",
    "            spk1, mem1 = self.lif1(cur1, mem1)\n",
    "            cur2 = self.fc2(spk1)\n",
    "            spk2, mem2 = self.lif2(cur2, mem2)\n",
    "            spk2_rec.append(spk2)\n",
    "            mem2_rec.append(mem2)\n",
    "\n",
    "        return torch.stack(spk2_rec, dim=0), torch.stack(mem2_rec, dim=0)\n",
    "        \n",
    "# Load the network onto CUDA if available\n",
    "net = Net().to(device)"
   ]
  },
  {
   "cell_type": "markdown",
   "metadata": {
    "id": "Y0fHcAKfrav6"
   },
   "source": [
    "The code in the `forward()` function will only be called once the input argument `x` is explicitly passed into `net`.\n",
    "\n",
    "* `fc1` applies a linear transformation to all input pixels from the MNIST dataset;\n",
    "* `lif1` integrates the weighted input over time, emitting a spike if the threshold condition is met;\n",
    "* `fc2` applies a linear transformation to the output spikes of `lif1`;\n",
    "* `lif2` is another spiking neuron layer, integrating the weighted spikes over time."
   ]
  },
  {
   "cell_type": "markdown",
   "metadata": {
    "id": "6a7MdORCtIx4"
   },
   "source": [
    "# 7. Training the SNN"
   ]
  },
  {
   "cell_type": "markdown",
   "metadata": {
    "id": "6D-fhT3Q7nXM"
   },
   "source": [
    "## 7.1 Accuracy Metric\n",
    "Below is a function that takes a batch of data, counts up all the spikes from each neuron (i.e., a rate code over the simulation time), and compares the index of the highest count with the actual target. If they match, then the network correctly predicted the target."
   ]
  },
  {
   "cell_type": "code",
   "execution_count": 11,
   "metadata": {
    "executionInfo": {
     "elapsed": 14,
     "status": "ok",
     "timestamp": 1657784286786,
     "user": {
      "displayName": "",
      "userId": ""
     },
     "user_tz": 420
    },
    "id": "-IxcnBAxpkoy",
    "pycharm": {
     "name": "#%%\n"
    }
   },
   "outputs": [],
   "source": [
    "# pass data into the network, sum the spikes over time\n",
    "# and compare the neuron with the highest number of spikes\n",
    "# with the target\n",
    "\n",
    "def print_batch_accuracy(data, targets, train=False):\n",
    "    output, _ = net(data.view(batch_size, -1))\n",
    "    _, idx = output.sum(dim=0).max(1)\n",
    "    acc = np.mean((targets == idx).detach().cpu().numpy())\n",
    "\n",
    "    if train:\n",
    "        print(f\"Train set accuracy for a single minibatch: {acc*100:.2f}%\")\n",
    "    else:\n",
    "        print(f\"Test set accuracy for a single minibatch: {acc*100:.2f}%\")\n",
    "\n",
    "def train_printer():\n",
    "    print(f\"Epoch {epoch}, Iteration {iter_counter}\")\n",
    "    print(f\"Train Set Loss: {loss_hist[counter]:.2f}\")\n",
    "    print(f\"Test Set Loss: {test_loss_hist[counter]:.2f}\")\n",
    "    print_batch_accuracy(data, targets, train=True)\n",
    "    print_batch_accuracy(test_data, test_targets, train=False)\n",
    "    print(\"\\n\")"
   ]
  },
  {
   "cell_type": "markdown",
   "metadata": {
    "id": "woJSGSx68tsd"
   },
   "source": [
    "## 7.2 Loss Definition\n",
    "The `nn.CrossEntropyLoss` function in PyTorch automatically handles taking the softmax of the output layer as well as generating a loss at the output. "
   ]
  },
  {
   "cell_type": "code",
   "execution_count": 12,
   "metadata": {
    "executionInfo": {
     "elapsed": 13,
     "status": "ok",
     "timestamp": 1657784286786,
     "user": {
      "displayName": "",
      "userId": ""
     },
     "user_tz": 420
    },
    "id": "iqdVyjCNtdlp"
   },
   "outputs": [],
   "source": [
    "loss = nn.CrossEntropyLoss()"
   ]
  },
  {
   "cell_type": "markdown",
   "metadata": {
    "id": "b1fPgSoO9Jgb"
   },
   "source": [
    "## 7.3 Optimizer\n",
    "Adam is a robust optimizer that performs well on recurrent networks, so let's use that with a learning rate of $5\\times10^{-4}$. "
   ]
  },
  {
   "cell_type": "code",
   "execution_count": 13,
   "metadata": {
    "executionInfo": {
     "elapsed": 12,
     "status": "ok",
     "timestamp": 1657784286786,
     "user": {
      "displayName": "",
      "userId": ""
     },
     "user_tz": 420
    },
    "id": "l62ZR51s9Lxg"
   },
   "outputs": [],
   "source": [
    "optimizer = torch.optim.Adam(net.parameters(), lr=5e-4, betas=(0.9, 0.999))"
   ]
  },
  {
   "cell_type": "markdown",
   "metadata": {
    "id": "GiqAVKzVbfPn"
   },
   "source": [
    "## 7.4 One Iteration of Training\n",
    "Take the first batch of data and load it onto CUDA if available."
   ]
  },
  {
   "cell_type": "code",
   "execution_count": 14,
   "metadata": {
    "executionInfo": {
     "elapsed": 11,
     "status": "ok",
     "timestamp": 1657784286786,
     "user": {
      "displayName": "",
      "userId": ""
     },
     "user_tz": 420
    },
    "id": "Hv1q2-Mt9kVi"
   },
   "outputs": [],
   "source": [
    "data, targets = next(iter(train_loader))\n",
    "data = data.to(device)\n",
    "targets = targets.to(device)"
   ]
  },
  {
   "cell_type": "code",
   "execution_count": 15,
   "metadata": {},
   "outputs": [
    {
     "data": {
      "text/plain": [
       "torch.Size([128, 784])"
      ]
     },
     "execution_count": 15,
     "metadata": {},
     "output_type": "execute_result"
    }
   ],
   "source": [
    "data.view(batch_size, -1).shape"
   ]
  },
  {
   "cell_type": "markdown",
   "metadata": {
    "id": "cFahTbAv-Vtt"
   },
   "source": [
    "Flatten the input data to a vector of size $784$ and pass it into the network."
   ]
  },
  {
   "cell_type": "code",
   "execution_count": 16,
   "metadata": {
    "colab": {
     "base_uri": "https://localhost:8080/"
    },
    "executionInfo": {
     "elapsed": 159,
     "status": "ok",
     "timestamp": 1657784286936,
     "user": {
      "displayName": "",
      "userId": ""
     },
     "user_tz": 420
    },
    "id": "lltqTEXE92V-",
    "outputId": "2cd149d2-75c1-4409-9194-d69aad2072f7"
   },
   "outputs": [
    {
     "name": "stdout",
     "output_type": "stream",
     "text": [
      "torch.Size([25, 128, 10])\n"
     ]
    }
   ],
   "source": [
    "spk_rec, mem_rec = net(data.view(batch_size, -1))\n",
    "print(mem_rec.size())"
   ]
  },
  {
   "cell_type": "markdown",
   "metadata": {
    "id": "wd_qv6xD-lCb"
   },
   "source": [
    "The recording of the membrane potential is taken across:\n",
    "* 25 time steps\n",
    "* 128 samples of data\n",
    "* 10 output neurons\n",
    "\n",
    "We wish to calculate the loss at every time step, and sum these up together, as per Equation $(10)$:"
   ]
  },
  {
   "cell_type": "code",
   "execution_count": 17,
   "metadata": {
    "colab": {
     "base_uri": "https://localhost:8080/"
    },
    "executionInfo": {
     "elapsed": 12,
     "status": "ok",
     "timestamp": 1657784286936,
     "user": {
      "displayName": "",
      "userId": ""
     },
     "user_tz": 420
    },
    "id": "nsnH8y5G-D-z",
    "outputId": "daa0e6c2-8300-4280-98c6-2cda08cfc39a"
   },
   "outputs": [
    {
     "name": "stdout",
     "output_type": "stream",
     "text": [
      "Training loss: 57.565\n"
     ]
    }
   ],
   "source": [
    "# initialize the total loss value\n",
    "loss_val = torch.zeros((1), dtype=dtype, device=device)\n",
    "\n",
    "# sum loss at every step\n",
    "for step in range(num_steps):\n",
    "  loss_val += loss(mem_rec[step], targets)\n",
    "\n",
    "print(f\"Training loss: {loss_val.item():.3f}\")"
   ]
  },
  {
   "cell_type": "markdown",
   "metadata": {
    "id": "Q4r0sKMV_4ri"
   },
   "source": [
    "The loss is quite large, because it is summed over 25 time steps. The accuracy is also bad (it should be roughly around 10%) as the network is untrained:"
   ]
  },
  {
   "cell_type": "code",
   "execution_count": 18,
   "metadata": {
    "colab": {
     "base_uri": "https://localhost:8080/"
    },
    "executionInfo": {
     "elapsed": 8,
     "status": "ok",
     "timestamp": 1657784286937,
     "user": {
      "displayName": "",
      "userId": ""
     },
     "user_tz": 420
    },
    "id": "qetPvz7mAArd",
    "outputId": "683f17c7-f978-469c-c2dd-2e5b69dbc7d5"
   },
   "outputs": [
    {
     "name": "stdout",
     "output_type": "stream",
     "text": [
      "Train set accuracy for a single minibatch: 8.59%\n"
     ]
    }
   ],
   "source": [
    "print_batch_accuracy(data, targets, train=True)"
   ]
  },
  {
   "cell_type": "markdown",
   "metadata": {
    "id": "fUcR0GcUAtPn"
   },
   "source": [
    "A single weight update is applied to the network as follows:"
   ]
  },
  {
   "cell_type": "code",
   "execution_count": 19,
   "metadata": {
    "executionInfo": {
     "elapsed": 162,
     "status": "ok",
     "timestamp": 1657784287094,
     "user": {
      "displayName": "",
      "userId": ""
     },
     "user_tz": 420
    },
    "id": "WxyBhsmlAsWM"
   },
   "outputs": [],
   "source": [
    "  # clear previously stored gradients\n",
    "  optimizer.zero_grad()\n",
    "\n",
    "  # calculate the gradients\n",
    "  loss_val.backward()\n",
    "\n",
    "  # weight update\n",
    "  optimizer.step()"
   ]
  },
  {
   "cell_type": "markdown",
   "metadata": {
    "id": "ubyude8eA5p9"
   },
   "source": [
    "Now, re-run the loss calculation and accuracy after a single iteration:"
   ]
  },
  {
   "cell_type": "code",
   "execution_count": 20,
   "metadata": {
    "colab": {
     "base_uri": "https://localhost:8080/"
    },
    "executionInfo": {
     "elapsed": 6,
     "status": "ok",
     "timestamp": 1657784287095,
     "user": {
      "displayName": "",
      "userId": ""
     },
     "user_tz": 420
    },
    "id": "l4ZquRR9A9He",
    "outputId": "0be77c82-a94c-4190-f47c-5d437209cb12"
   },
   "outputs": [
    {
     "name": "stdout",
     "output_type": "stream",
     "text": [
      "Training loss: 57.562\n",
      "Train set accuracy for a single minibatch: 8.59%\n"
     ]
    }
   ],
   "source": [
    "# calculate new network outputs using the same data\n",
    "spk_rec, mem_rec = net(data.view(batch_size, -1))\n",
    "\n",
    "# initialize the total loss value\n",
    "loss_val = torch.zeros((1), dtype=dtype, device=device)\n",
    "\n",
    "# sum loss at every step\n",
    "for step in range(num_steps):\n",
    "  loss_val += loss(mem_rec[step], targets)\n",
    "\n",
    "print(f\"Training loss: {loss_val.item():.3f}\")\n",
    "print_batch_accuracy(data, targets, train=True)"
   ]
  },
  {
   "cell_type": "markdown",
   "metadata": {
    "id": "fbNPCNTSBaW3"
   },
   "source": [
    "After only one iteration, the loss should have decreased and accuracy should have increased. Note how membrane potential is used to calculate the cross entropy\n",
    "loss, and spike count is used for the measure of accuracy. It is also possible to use the spike count in the loss ([see Tutorial 6](https://snntorch.readthedocs.io/en/latest/tutorials/index.html))"
   ]
  },
  {
   "cell_type": "markdown",
   "metadata": {
    "id": "mVgKDes8BiXq"
   },
   "source": [
    "## 7.5 Training Loop\n",
    "\n",
    "Let's combine everything into a training loop. We will train for one epoch (though feel free to increase `num_epochs`), exposing our network to each sample of data once."
   ]
  },
  {
   "cell_type": "code",
   "execution_count": 21,
   "metadata": {
    "colab": {
     "base_uri": "https://localhost:8080/"
    },
    "executionInfo": {
     "elapsed": 55631,
     "status": "ok",
     "timestamp": 1657784342721,
     "user": {
      "displayName": "",
      "userId": ""
     },
     "user_tz": 420
    },
    "id": "LMZMxEV8dcTC",
    "outputId": "aa57c896-afa2-47e6-d358-e185bd287b4e"
   },
   "outputs": [
    {
     "name": "stdout",
     "output_type": "stream",
     "text": [
      "Epoch 0, Iteration 0\n",
      "Train Set Loss: 57.57\n",
      "Test Set Loss: 57.57\n",
      "Train set accuracy for a single minibatch: 8.59%\n",
      "Test set accuracy for a single minibatch: 8.59%\n",
      "\n",
      "\n",
      "Epoch 0, Iteration 50\n",
      "Train Set Loss: 57.23\n",
      "Test Set Loss: 57.27\n",
      "Train set accuracy for a single minibatch: 6.25%\n",
      "Test set accuracy for a single minibatch: 10.16%\n",
      "\n",
      "\n",
      "Epoch 0, Iteration 100\n",
      "Train Set Loss: 56.47\n",
      "Test Set Loss: 56.99\n",
      "Train set accuracy for a single minibatch: 8.59%\n",
      "Test set accuracy for a single minibatch: 5.47%\n",
      "\n",
      "\n",
      "Epoch 0, Iteration 150\n",
      "Train Set Loss: 55.56\n",
      "Test Set Loss: 55.66\n",
      "Train set accuracy for a single minibatch: 11.72%\n",
      "Test set accuracy for a single minibatch: 15.62%\n",
      "\n",
      "\n",
      "Epoch 0, Iteration 200\n",
      "Train Set Loss: 55.13\n",
      "Test Set Loss: 55.32\n",
      "Train set accuracy for a single minibatch: 12.50%\n",
      "Test set accuracy for a single minibatch: 4.69%\n",
      "\n",
      "\n",
      "Epoch 0, Iteration 250\n",
      "Train Set Loss: 54.49\n",
      "Test Set Loss: 55.05\n",
      "Train set accuracy for a single minibatch: 17.19%\n",
      "Test set accuracy for a single minibatch: 10.16%\n",
      "\n",
      "\n",
      "Epoch 0, Iteration 300\n",
      "Train Set Loss: 53.83\n",
      "Test Set Loss: 54.08\n",
      "Train set accuracy for a single minibatch: 20.31%\n",
      "Test set accuracy for a single minibatch: 13.28%\n",
      "\n",
      "\n",
      "Epoch 0, Iteration 350\n",
      "Train Set Loss: 52.90\n",
      "Test Set Loss: 53.08\n",
      "Train set accuracy for a single minibatch: 24.22%\n",
      "Test set accuracy for a single minibatch: 21.88%\n",
      "\n",
      "\n",
      "Epoch 0, Iteration 400\n",
      "Train Set Loss: 52.71\n",
      "Test Set Loss: 52.87\n",
      "Train set accuracy for a single minibatch: 23.44%\n",
      "Test set accuracy for a single minibatch: 20.31%\n",
      "\n",
      "\n",
      "Epoch 0, Iteration 450\n",
      "Train Set Loss: 52.63\n",
      "Test Set Loss: 52.28\n",
      "Train set accuracy for a single minibatch: 21.09%\n",
      "Test set accuracy for a single minibatch: 26.56%\n",
      "\n",
      "\n"
     ]
    }
   ],
   "source": [
    "num_epochs = 1\n",
    "loss_hist = []\n",
    "test_loss_hist = []\n",
    "counter = 0\n",
    "\n",
    "# Outer training loop\n",
    "for epoch in range(num_epochs):\n",
    "    iter_counter = 0\n",
    "    train_batch = iter(train_loader)\n",
    "\n",
    "    # Minibatch training loop\n",
    "    for data, targets in train_batch:\n",
    "        data = data.to(device)\n",
    "        targets = targets.to(device)\n",
    "\n",
    "        # forward pass\n",
    "        net.train()\n",
    "        spk_rec, mem_rec = net(data.view(batch_size, -1))\n",
    "\n",
    "        # initialize the loss & sum over time\n",
    "        loss_val = torch.zeros((1), dtype=dtype, device=device)\n",
    "        for step in range(num_steps):\n",
    "            loss_val += loss(mem_rec[step], targets)\n",
    "\n",
    "        # Gradient calculation + weight update\n",
    "        optimizer.zero_grad()\n",
    "        loss_val.backward()\n",
    "        optimizer.step()\n",
    "\n",
    "        # Store loss history for future plotting\n",
    "        loss_hist.append(loss_val.item())\n",
    "\n",
    "        # Test set\n",
    "        with torch.no_grad():\n",
    "            net.eval()\n",
    "            test_data, test_targets = next(iter(test_loader))\n",
    "            test_data = test_data.to(device)\n",
    "            test_targets = test_targets.to(device)\n",
    "\n",
    "            # Test set forward pass\n",
    "            test_spk, test_mem = net(test_data.view(batch_size, -1))\n",
    "\n",
    "            # Test set loss\n",
    "            test_loss = torch.zeros((1), dtype=dtype, device=device)\n",
    "            for step in range(num_steps):\n",
    "                test_loss += loss(test_mem[step], test_targets)\n",
    "            test_loss_hist.append(test_loss.item())\n",
    "\n",
    "            # Print train/test loss/accuracy\n",
    "            if counter % 50 == 0:\n",
    "                train_printer()\n",
    "            counter += 1\n",
    "            iter_counter +=1"
   ]
  },
  {
   "cell_type": "markdown",
   "metadata": {
    "id": "Taf6WZLojHTz"
   },
   "source": [
    "If this was your first time training an SNN, then congratulations!"
   ]
  },
  {
   "cell_type": "code",
   "execution_count": 22,
   "metadata": {
    "colab": {
     "base_uri": "https://localhost:8080/"
    },
    "executionInfo": {
     "elapsed": 9,
     "status": "ok",
     "timestamp": 1657784640152,
     "user": {
      "displayName": "",
      "userId": ""
     },
     "user_tz": 420
    },
    "id": "eg8L55PelXK1",
    "outputId": "4b2704e1-c5b5-4a83-b569-4d2f045e76df"
   },
   "outputs": [
    {
     "name": "stdout",
     "output_type": "stream",
     "text": [
      "(1000, 784)\n",
      "(10, 1000)\n"
     ]
    }
   ],
   "source": [
    "print(list(net.fc1.parameters())[0].detach().cpu().numpy().shape)\n",
    "print(list(net.fc2.parameters())[0].detach().cpu().numpy().shape)\n",
    "\n"
   ]
  },
  {
   "cell_type": "markdown",
   "metadata": {
    "id": "vHNymwNglWeP"
   },
   "source": []
  },
  {
   "cell_type": "markdown",
   "metadata": {
    "id": "HxU7P7xFpko3",
    "pycharm": {
     "name": "#%% md\n"
    }
   },
   "source": [
    "# 8. Results\n",
    "## 8.1 Plot Training/Test Loss"
   ]
  },
  {
   "cell_type": "code",
   "execution_count": 23,
   "metadata": {
    "colab": {
     "base_uri": "https://localhost:8080/",
     "height": 350
    },
    "executionInfo": {
     "elapsed": 277,
     "status": "ok",
     "timestamp": 1657784342991,
     "user": {
      "displayName": "",
      "userId": ""
     },
     "user_tz": 420
    },
    "id": "_Pk_EScnpkpj",
    "outputId": "a436a403-17e9-43cc-e7f0-ef8bcc63d76f",
    "pycharm": {
     "name": "#%%\n"
    }
   },
   "outputs": [
    {
     "data": {
      "image/png": "[encoded data removed]",
      "text/plain": [
       "<Figure size 1000x500 with 1 Axes>"
      ]
     },
     "metadata": {},
     "output_type": "display_data"
    }
   ],
   "source": [
    "# Plot Loss\n",
    "fig = plt.figure(facecolor=\"w\", figsize=(10, 5))\n",
    "plt.plot(loss_hist)\n",
    "plt.plot(test_loss_hist)\n",
    "plt.title(\"Loss Curves\")\n",
    "plt.legend([\"Train Loss\", \"Test Loss\"])\n",
    "plt.xlabel(\"Iteration\")\n",
    "plt.ylabel(\"Loss\")\n",
    "plt.show()"
   ]
  },
  {
   "cell_type": "markdown",
   "metadata": {
    "id": "g-Gd84OAl1rB"
   },
   "source": [
    "The loss curves are noisy because the losses are tracked at every iteration, rather than averaging across multiple iterations. "
   ]
  },
  {
   "cell_type": "markdown",
   "metadata": {
    "id": "Z3f0vBnBpkpk",
    "pycharm": {
     "name": "#%% md\n"
    }
   },
   "source": [
    "## 8.2 Test Set Accuracy\n",
    "This function iterates over all minibatches to obtain a measure of accuracy over the full 10,000 samples in the test set."
   ]
  },
  {
   "cell_type": "code",
   "execution_count": 24,
   "metadata": {
    "colab": {
     "base_uri": "https://localhost:8080/"
    },
    "executionInfo": {
     "elapsed": 3948,
     "status": "ok",
     "timestamp": 1657785022241,
     "user": {
      "displayName": "",
      "userId": ""
     },
     "user_tz": 420
    },
    "id": "F5Rb4xHGndQh",
    "outputId": "e7feaf22-89b0-4c9a-c8cb-bc5faea77f42"
   },
   "outputs": [
    {
     "name": "stdout",
     "output_type": "stream",
     "text": [
      "Total correctly classified test set images: 2840/10000\n",
      "Test Set Accuracy: 28.40%\n"
     ]
    }
   ],
   "source": [
    "total = 0\n",
    "correct = 0\n",
    "\n",
    "# drop_last switched to False to keep all samples\n",
    "test_loader = DataLoader(mnist_test, batch_size=batch_size, shuffle=True, drop_last=False)\n",
    "\n",
    "with torch.no_grad():\n",
    "  net.eval()\n",
    "  for data, targets in test_loader:\n",
    "    data = data.to(device)\n",
    "    targets = targets.to(device)\n",
    "    \n",
    "    # forward pass\n",
    "    test_spk, _ = net(data.view(data.size(0), -1))\n",
    "\n",
    "    # calculate total accuracy\n",
    "    _, predicted = test_spk.sum(dim=0).max(1)\n",
    "    total += targets.size(0)\n",
    "    correct += (predicted == targets).sum().item()\n",
    "\n",
    "print(f\"Total correctly classified test set images: {correct}/{total}\")\n",
    "print(f\"Test Set Accuracy: {100 * correct / total:.2f}%\")\n"
   ]
  },
  {
   "cell_type": "code",
   "execution_count": 25,
   "metadata": {},
   "outputs": [
    {
     "name": "stdout",
     "output_type": "stream",
     "text": [
      "[[-0.00632959  0.00279087 -0.0264462  ... -0.01647855 -0.02762059\n",
      "   0.03111911]\n",
      " [-0.032169    0.01231864  0.03134093 ... -0.0221006   0.03189342\n",
      "   0.01468641]\n",
      " [-0.00330551  0.00154101  0.00668959 ...  0.01201589 -0.03461205\n",
      "   0.01444497]\n",
      " ...\n",
      " [ 0.02466797  0.0204208   0.02068511 ... -0.00787305  0.01092385\n",
      "  -0.01385342]\n",
      " [ 0.02135887 -0.03092803 -0.03188665 ...  0.02911968 -0.00538066\n",
      "  -0.02356116]\n",
      " [-0.03319993 -0.0318419   0.03319125 ...  0.02083827  0.00139912\n",
      "   0.01069093]]\n"
     ]
    }
   ],
   "source": [
    "layers = [list(net.fc1.parameters())[0].detach().cpu().numpy(), list(net.fc2.parameters())[0].detach().cpu().numpy()]\n",
    "print(layers[0])"
   ]
  },
  {
   "cell_type": "markdown",
   "metadata": {
    "id": "TBIXau4Zpkpl",
    "pycharm": {
     "name": "#%% md\n"
    }
   },
   "source": [
    "Voila! That's it for static MNIST. Feel free to tweak the network parameters, hyperparameters, decay rate, using a learning rate scheduler etc. to see if you can improve the network performance. "
   ]
  },
  {
   "cell_type": "code",
   "execution_count": 26,
   "metadata": {},
   "outputs": [
    {
     "name": "stdout",
     "output_type": "stream",
     "text": [
      "8.180311e-07\n",
      "6.3862124e-08\n"
     ]
    }
   ],
   "source": [
    "layers = [list(net.fc1.parameters())[0].detach().cpu().numpy(), list(net.fc2.parameters())[0].detach().cpu().numpy()]\n",
    "\n",
    "print(np.min(np.abs(layers[1])))\n",
    "print(np.min(np.abs(layers[0])))\n",
    "\n",
    "scale = 10**3\n",
    "axonsDict = {}\n",
    "neuronsDict = {}\n",
    "outputs = []\n",
    "\n",
    "currLayerNeuronIdxOffset = 0\n",
    "nextLayerNeuronIdxOffset = 0"
   ]
  },
  {
   "cell_type": "code",
   "execution_count": 27,
   "metadata": {},
   "outputs": [
    {
     "name": "stdout",
     "output_type": "stream",
     "text": [
      "(1000, 784)\n",
      "constructing Axons\n",
      "(1000, 784)\n",
      "(10, 1000)\n"
     ]
    }
   ],
   "source": [
    "for layerNum, layer in enumerate(layers):\n",
    "    #layer = layers[layerKey]\n",
    "    #print(layer.keys())\n",
    "    inFeatures = layer.shape[1]\n",
    "    outFeatures = layer.shape[0]\n",
    "    shape = layer.shape\n",
    "    weight = layer\n",
    "    print(np.shape(weight))\n",
    "    if (layerNum == 0):\n",
    "        print('constructing Axons')\n",
    "        print(weight.shape)\n",
    "        for axonIdx, axon in enumerate(weight.T):\n",
    "            #print(axonIdx)\n",
    "            axonID = 'a'+str(axonIdx)\n",
    "            axonEntry = [(str(postSynapticID), int(synapseWeight*scale)) for postSynapticID, synapseWeight in enumerate(axon) ]\n",
    "            axonsDict[axonID] = axonEntry"
   ]
  },
  {
   "cell_type": "code",
   "execution_count": 28,
   "metadata": {},
   "outputs": [
    {
     "name": "stdout",
     "output_type": "stream",
     "text": [
      "[('0', -6), ('1', -32), ('2', -3), ('3', 14), ('4', 17), ('5', 30), ('6', 8), ('7', -1), ('8', 11), ('9', 29), ('10', -34), ('11', 1), ('12', -34), ('13', -23), ('14', -7), ('15', 0), ('16', 25), ('17', -31), ('18', 3), ('19', -4), ('20', 0), ('21', 13), ('22', 28), ('23', 16), ('24', -23), ('25', -11), ('26', 18), ('27', -1), ('28', -4), ('29', 31), ('30', 3), ('31', 18), ('32', -35), ('33', 29), ('34', -9), ('35', 10), ('36', 6), ('37', -5), ('38', 35), ('39', -32), ('40', 32), ('41', -15), ('42', 35), ('43', 13), ('44', -4), ('45', -17), ('46', 8), ('47', 26), ('48', 8), ('49', -4), ('50', -29), ('51', -25), ('52', -24), ('53', -23), ('54', 8), ('55', -23), ('56', 12), ('57', -27), ('58', -7), ('59', 0), ('60', -17), ('61', -3), ('62', 28), ('63', 3), ('64', -4), ('65', -1), ('66', -7), ('67', -16), ('68', 24), ('69', 31), ('70', 31), ('71', -7), ('72', -28), ('73', -20), ('74', 8), ('75', 1), ('76', 12), ('77', -33), ('78', 14), ('79', -6), ('80', -3), ('81', 5), ('82', -8), ('83', 20), ('84', -2), ('85', 17), ('86', 16), ('87', 2), ('88', -20), ('89', -9), ('90', -2), ('91', 27), ('92', -34), ('93', 22), ('94', -34), ('95', 20), ('96', 6), ('97', 29), ('98', 22), ('99', 11), ('100', -3), ('101', 26), ('102', -12), ('103', -21), ('104', -12), ('105', 3), ('106', 3), ('107', -34), ('108', -23), ('109', -27), ('110', 19), ('111', 24), ('112', 21), ('113', -21), ('114', -1), ('115', -30), ('116', 15), ('117', -3), ('118', 9), ('119', -11), ('120', 33), ('121', 15), ('122', -20), ('123', 13), ('124', 21), ('125', 22), ('126', 0), ('127', -15), ('128', -28), ('129', 29), ('130', -30), ('131', -12), ('132', -20), ('133', -16), ('134', -29), ('135', -14), ('136', -29), ('137', -5), ('138', -19), ('139', -11), ('140', 13), ('141', -15), ('142', 21), ('143', -33), ('144', -5), ('145', 16), ('146', 13), ('147', -20), ('148', -23), ('149', 22), ('150', 20), ('151', -19), ('152', 20), ('153', 9), ('154', -35), ('155', -6), ('156', -3), ('157', -30), ('158', -10), ('159', 24), ('160', 26), ('161', 19), ('162', 30), ('163', 31), ('164', -18), ('165', 31), ('166', -31), ('167', -33), ('168', -32), ('169', -9), ('170', -30), ('171', -18), ('172', -17), ('173', 20), ('174', 15), ('175', -26), ('176', 24), ('177', -33), ('178', 5), ('179', -4), ('180', 30), ('181', 3), ('182', 25), ('183', -17), ('184', -21), ('185', -19), ('186', -26), ('187', -35), ('188', -1), ('189', -7), ('190', 34), ('191', -15), ('192', 31), ('193', 18), ('194', -8), ('195', -6), ('196', -26), ('197', 7), ('198', 14), ('199', 21), ('200', 13), ('201', 24), ('202', -5), ('203', 22), ('204', -21), ('205', 18), ('206', 11), ('207', 0), ('208', 34), ('209', -23), ('210', -16), ('211', 33), ('212', -12), ('213', -23), ('214', 30), ('215', 29), ('216', 2), ('217', 22), ('218', 32), ('219', 33), ('220', 25), ('221', -24), ('222', 7), ('223', 16), ('224', 27), ('225', 9), ('226', 34), ('227', 5), ('228', 6), ('229', 14), ('230', 35), ('231', 31), ('232', 4), ('233', 29), ('234', 21), ('235', -8), ('236', 27), ('237', -30), ('238', -13), ('239', -12), ('240', 21), ('241', 15), ('242', -4), ('243', 25), ('244', 20), ('245', 20), ('246', -18), ('247', 30), ('248', -28), ('249', 34), ('250', -3), ('251', 0), ('252', -11), ('253', -5), ('254', 14), ('255', 16), ('256', -13), ('257', 31), ('258', 19), ('259', 14), ('260', 1), ('261', 2), ('262', -3), ('263', 3), ('264', -6), ('265', 21), ('266', -10), ('267', -32), ('268', 26), ('269', 32), ('270', -18), ('271', 14), ('272', 27), ('273', 5), ('274', 3), ('275', 3), ('276', -29), ('277', 12), ('278', -2), ('279', 13), ('280', -3), ('281', -29), ('282', -15), ('283', 14), ('284', -26), ('285', 21), ('286', 17), ('287', -15), ('288', 15), ('289', -23), ('290', 8), ('291', -27), ('292', 9), ('293', -27), ('294', 12), ('295', -29), ('296', -24), ('297', -20), ('298', -9), ('299', 18), ('300', -15), ('301', -17), ('302', -1), ('303', 22), ('304', 5), ('305', -22), ('306', -25), ('307', -2), ('308', 33), ('309', -12), ('310', -24), ('311', -28), ('312', 26), ('313', 20), ('314', -12), ('315', -24), ('316', 6), ('317', 28), ('318', -9), ('319', 23), ('320', 21), ('321', 21), ('322', 32), ('323', 15), ('324', 3), ('325', -9), ('326', 26), ('327', -27), ('328', 32), ('329', 21), ('330', 25), ('331', 7), ('332', 35), ('333', -17), ('334', 29), ('335', 33), ('336', -10), ('337', -33), ('338', -4), ('339', -34), ('340', 31), ('341', 19), ('342', 1), ('343', 22), ('344', -13), ('345', -3), ('346', -10), ('347', 21), ('348', 28), ('349', -29), ('350', -16), ('351', 26), ('352', 4), ('353', -3), ('354', -24), ('355', 27), ('356', -14), ('357', -26), ('358', -33), ('359', 22), ('360', -33), ('361', 8), ('362', -34), ('363', 27), ('364', 13), ('365', 25), ('366', 4), ('367', 23), ('368', 16), ('369', -19), ('370', 7), ('371', 7), ('372', -18), ('373', 35), ('374', -5), ('375', -34), ('376', -13), ('377', 5), ('378', 22), ('379', -10), ('380', -27), ('381', -20), ('382', -20), ('383', 0), ('384', 30), ('385', 17), ('386', -4), ('387', 19), ('388', 25), ('389', 27), ('390', 34), ('391', -3), ('392', -24), ('393', 24), ('394', 7), ('395', 1), ('396', -2), ('397', 28), ('398', -29), ('399', -5), ('400', 28), ('401', -35), ('402', 34), ('403', 19), ('404', 9), ('405', 33), ('406', 2), ('407', 13), ('408', -29), ('409', -34), ('410', 0), ('411', 11), ('412', -1), ('413', 30), ('414', -22), ('415', 26), ('416', -18), ('417', -19), ('418', 25), ('419', -24), ('420', -23), ('421', -34), ('422', 34), ('423', 6), ('424', -29), ('425', -30), ('426', 6), ('427', 1), ('428', -18), ('429', -32), ('430', -15), ('431', -19), ('432', -23), ('433', 9), ('434', -31), ('435', -13), ('436', 10), ('437', -6), ('438', -17), ('439', 14), ('440', -8), ('441', -21), ('442', -27), ('443', -27), ('444', -20), ('445', -20), ('446', 10), ('447', -17), ('448', 33), ('449', -31), ('450', -4), ('451', 33), ('452', 0), ('453', -8), ('454', -8), ('455', 10), ('456', 23), ('457', -6), ('458', 22), ('459', 12), ('460', -7), ('461', -28), ('462', 14), ('463', 25), ('464', -12), ('465', -15), ('466', 0), ('467', 3), ('468', 3), ('469', -25), ('470', -27), ('471', -16), ('472', 31), ('473', -1), ('474', -25), ('475', -32), ('476', 17), ('477', -27), ('478', 33), ('479', -31), ('480', -17), ('481', -22), ('482', 15), ('483', 2), ('484', -27), ('485', 34), ('486', -4), ('487', -16), ('488', 8), ('489', -4), ('490', -8), ('491', -9), ('492', 19), ('493', 6), ('494', -31), ('495', -2), ('496', 2), ('497', 34), ('498', -15), ('499', -2), ('500', -5), ('501', 32), ('502', -16), ('503', -19), ('504', -33), ('505', 26), ('506', -35), ('507', 15), ('508', -16), ('509', 20), ('510', -2), ('511', -7), ('512', -25), ('513', 3), ('514', 32), ('515', 5), ('516', 1), ('517', -7), ('518', 24), ('519', -17), ('520', -33), ('521', -5), ('522', 29), ('523', 8), ('524', 24), ('525', 28), ('526', 32), ('527', 1), ('528', 7), ('529', -35), ('530', 17), ('531', 6), ('532', -1), ('533', 29), ('534', -30), ('535', 33), ('536', 0), ('537', -18), ('538', -26), ('539', -29), ('540', -8), ('541', 2), ('542', 17), ('543', 5), ('544', -14), ('545', 0), ('546', -5), ('547', -11), ('548', 9), ('549', -34), ('550', 4), ('551', 9), ('552', -32), ('553', 11), ('554', -3), ('555', 28), ('556', 4), ('557', 24), ('558', 14), ('559', -4), ('560', -20), ('561', -27), ('562', -9), ('563', 19), ('564', -12), ('565', 34), ('566', -8), ('567', -35), ('568', 8), ('569', 2), ('570', 30), ('571', 2), ('572', -5), ('573', 4), ('574', 12), ('575', 30), ('576', 32), ('577', 35), ('578', 13), ('579', -8), ('580', 1), ('581', -2), ('582', 16), ('583', 4), ('584', -1), ('585', 12), ('586', -27), ('587', 24), ('588', 25), ('589', 35), ('590', 30), ('591', 19), ('592', -1), ('593', -3), ('594', -5), ('595', -35), ('596', -25), ('597', -20), ('598', 17), ('599', -21), ('600', 17), ('601', 29), ('602', 19), ('603', -8), ('604', -2), ('605', -12), ('606', -10), ('607', 20), ('608', 14), ('609', 33), ('610', 14), ('611', -3), ('612', 0), ('613', 31), ('614', -1), ('615', 8), ('616', 9), ('617', -8), ('618', -12), ('619', -23), ('620', 22), ('621', -9), ('622', 4), ('623', -5), ('624', -10), ('625', 22), ('626', 18), ('627', 2), ('628', -30), ('629', -11), ('630', 26), ('631', 0), ('632', 32), ('633', 5), ('634', 14), ('635', 12), ('636', -23), ('637', 32), ('638', -34), ('639', 30), ('640', -18), ('641', 12), ('642', 0), ('643', 10), ('644', 4), ('645', 10), ('646', -5), ('647', -31), ('648', -26), ('649', -8), ('650', -17), ('651', -11), ('652', 21), ('653', -16), ('654', 32), ('655', 24), ('656', -23), ('657', 29), ('658', 23), ('659', 27), ('660', -16), ('661', 24), ('662', -26), ('663', -2), ('664', -21), ('665', -21), ('666', -29), ('667', 28), ('668', 3), ('669', -27), ('670', 14), ('671', 15), ('672', -5), ('673', -33), ('674', -5), ('675', -28), ('676', 31), ('677', 13), ('678', -6), ('679', 0), ('680', -14), ('681', -6), ('682', 9), ('683', -5), ('684', 8), ('685', -3), ('686', -2), ('687', 18), ('688', 34), ('689', 34), ('690', 25), ('691', -14), ('692', 13), ('693', -17), ('694', -20), ('695', -24), ('696', 23), ('697', -8), ('698', 20), ('699', 4), ('700', -11), ('701', 4), ('702', -25), ('703', 5), ('704', 17), ('705', 25), ('706', -19), ('707', 18), ('708', 29), ('709', -23), ('710', -12), ('711', -19), ('712', -11), ('713', 31), ('714', 30), ('715', -17), ('716', -6), ('717', -1), ('718', 10), ('719', -1), ('720', -19), ('721', -30), ('722', -33), ('723', 31), ('724', 6), ('725', -23), ('726', 3), ('727', -29), ('728', -15), ('729', 34), ('730', -17), ('731', 24), ('732', -24), ('733', 19), ('734', 18), ('735', 4), ('736', -20), ('737', 31), ('738', 30), ('739', -31), ('740', 6), ('741', -33), ('742', 29), ('743', -20), ('744', 9), ('745', -15), ('746', 28), ('747', -14), ('748', 18), ('749', -11), ('750', -3), ('751', -2), ('752', 24), ('753', -2), ('754', 5), ('755', 19), ('756', 22), ('757', -5), ('758', 22), ('759', -30), ('760', 30), ('761', 31), ('762', 1), ('763', -30), ('764', 32), ('765', 32), ('766', -28), ('767', -16), ('768', 26), ('769', 31), ('770', 0), ('771', 31), ('772', -4), ('773', 8), ('774', -26), ('775', -34), ('776', -2), ('777', -19), ('778', 0), ('779', 12), ('780', -33), ('781', -19), ('782', -7), ('783', 16), ('784', 11), ('785', -29), ('786', 9), ('787', 30), ('788', 9), ('789', -3), ('790', -34), ('791', -12), ('792', -16), ('793', 10), ('794', 7), ('795', 29), ('796', 31), ('797', 0), ('798', 21), ('799', -3), ('800', -33), ('801', 26), ('802', 11), ('803', 29), ('804', 8), ('805', 20), ('806', -28), ('807', 29), ('808', 25), ('809', -12), ('810', -33), ('811', 30), ('812', 11), ('813', 7), ('814', -1), ('815', -16), ('816', -33), ('817', -6), ('818', -20), ('819', -14), ('820', 2), ('821', -22), ('822', -4), ('823', 14), ('824', 14), ('825', -2), ('826', -15), ('827', -1), ('828', 22), ('829', -9), ('830', -5), ('831', -9), ('832', 19), ('833', -4), ('834', -12), ('835', -24), ('836', -34), ('837', 6), ('838', -20), ('839', 28), ('840', -33), ('841', 2), ('842', 26), ('843', 11), ('844', 0), ('845', -15), ('846', 20), ('847', -11), ('848', 6), ('849', 31), ('850', -25), ('851', -18), ('852', 24), ('853', 7), ('854', 20), ('855', 0), ('856', -33), ('857', 0), ('858', -35), ('859', 10), ('860', 9), ('861', -25), ('862', 4), ('863', 0), ('864', 27), ('865', -13), ('866', -27), ('867', -10), ('868', -30), ('869', -4), ('870', 5), ('871', -4), ('872', -33), ('873', -1), ('874', -16), ('875', 6), ('876', 4), ('877', -31), ('878', 23), ('879', -34), ('880', -12), ('881', 5), ('882', -33), ('883', 33), ('884', 29), ('885', 16), ('886', 3), ('887', 31), ('888', -1), ('889', -3), ('890', 19), ('891', -31), ('892', 23), ('893', 28), ('894', 12), ('895', 17), ('896', -12), ('897', -31), ('898', 34), ('899', -22), ('900', 32), ('901', -28), ('902', -19), ('903', 20), ('904', -11), ('905', 13), ('906', 0), ('907', 17), ('908', 35), ('909', 32), ('910', -12), ('911', 31), ('912', -17), ('913', -18), ('914', 34), ('915', -34), ('916', 29), ('917', 15), ('918', 32), ('919', -33), ('920', 19), ('921', -20), ('922', 0), ('923', 4), ('924', -11), ('925', -8), ('926', 29), ('927', 27), ('928', -30), ('929', 28), ('930', 19), ('931', -21), ('932', -11), ('933', 26), ('934', -22), ('935', -13), ('936', -31), ('937', -27), ('938', 16), ('939', -33), ('940', 4), ('941', 14), ('942', 33), ('943', 27), ('944', 16), ('945', 16), ('946', -8), ('947', -34), ('948', -32), ('949', -30), ('950', 1), ('951', -14), ('952', -23), ('953', 0), ('954', 25), ('955', 3), ('956', -35), ('957', -7), ('958', -19), ('959', 10), ('960', -28), ('961', 0), ('962', -24), ('963', -29), ('964', 29), ('965', -28), ('966', -18), ('967', -12), ('968', -13), ('969', 0), ('970', -1), ('971', -25), ('972', 9), ('973', -30), ('974', 33), ('975', 32), ('976', 19), ('977', -1), ('978', 23), ('979', -6), ('980', 33), ('981', 17), ('982', 10), ('983', -17), ('984', -18), ('985', -2), ('986', -34), ('987', 20), ('988', 1), ('989', 18), ('990', -30), ('991', -30), ('992', 17), ('993', -31), ('994', 8), ('995', 3), ('996', 35), ('997', 24), ('998', 21), ('999', -33)]\n"
     ]
    }
   ],
   "source": [
    "print(axonsDict['a0'])"
   ]
  },
  {
   "cell_type": "code",
   "execution_count": 29,
   "metadata": {
    "colab": {
     "base_uri": "https://localhost:8080/"
    },
    "executionInfo": {
     "elapsed": 511,
     "status": "ok",
     "timestamp": 1657784951693,
     "user": {
      "displayName": "",
      "userId": ""
     },
     "user_tz": 420
    },
    "id": "i2X967KEplnf",
    "outputId": "be8ca087-c79a-4317-c0ba-ec341975d288"
   },
   "outputs": [
    {
     "name": "stdout",
     "output_type": "stream",
     "text": [
      "(1000, 784)\n",
      "constructing Axons\n",
      "(1000, 784)\n",
      "(10, 1000)\n",
      "constructing output layer\n",
      "(10, 1000)\n",
      "instantiate output neurons\n",
      "['1000', '1001', '1002', '1003', '1004', '1005', '1006', '1007', '1008', '1009']\n"
     ]
    }
   ],
   "source": [
    "for layerNum, layer in enumerate(layers):\n",
    "    #layer = layers[layerKey]\n",
    "    #print(layer.keys())\n",
    "    inFeatures = layer.shape[1]\n",
    "    outFeatures = layer.shape[0]\n",
    "    shape = layer.shape\n",
    "    weight = layer\n",
    "    print(np.shape(weight))\n",
    "    if (layerNum == 0):\n",
    "        print('constructing Axons')\n",
    "        print(weight.shape)\n",
    "        for axonIdx, axon in enumerate(weight.T):\n",
    "            #print(axonIdx)\n",
    "            axonID = 'a'+str(axonIdx)\n",
    "            axonEntry = [(str(postSynapticID), int(synapseWeight*scale)) for postSynapticID, synapseWeight in enumerate(axon) ]\n",
    "            axonsDict[axonID] = axonEntry\n",
    "\n",
    "        \n",
    "        #nextLayerNeuronIdxOffset += inFeatures\n",
    "        #for baseNeuronIdx, neuron in enumerate(weight.T):\n",
    "        #    neuronID = str(baseNeuronIdx+currLayerNeuronIdxOffset)\n",
    "        #    neuronEntry = [(str(basePostSynapticID+nextLayerNeuronIdxOffset), synapseWeight) for basePostSynapticID, synapseWeight in enumerate(neuron) if synapseWeight != 0 ]\n",
    "        #    neuronsDict[neuronID] = neuronEntry\n",
    "        #    #print(neuronID)\n",
    "        #currLayerNeuronIdxOffset += inFeatures\n",
    "        \n",
    "    elif (layerNum == len(layers)-1):\n",
    "        print('constructing output layer')\n",
    "        nextLayerNeuronIdxOffset += inFeatures\n",
    "        print(weight.shape)\n",
    "        for baseNeuronIdx, neuron in enumerate(weight.T):\n",
    "            neuronID = str(baseNeuronIdx+currLayerNeuronIdxOffset)\n",
    "            neuronEntry = [(str(basePostSynapticID+nextLayerNeuronIdxOffset), int(synapseWeight*scale)) for basePostSynapticID, synapseWeight in enumerate(neuron) if synapseWeight != 0]\n",
    "            neuronsDict[neuronID] = neuronEntry\n",
    "            #print(neuronID)\n",
    "        currLayerNeuronIdxOffset += inFeatures\n",
    "        #instantiate the output neurons\n",
    "        print('instantiate output neurons')\n",
    "        for baseNeuronIdx in range(outFeatures):\n",
    "            neuronID = str(baseNeuronIdx+nextLayerNeuronIdxOffset)\n",
    "            neuronsDict[neuronID] = []\n",
    "            outputs.append(neuronID)\n",
    "            #print(neuronID)\n",
    "    else:\n",
    "        print('constructing hidden layer')\n",
    "        nextLayerNeuronIdxOffset += inFeatures\n",
    "        for baseNeuronIdx, neuron in enumerate(weight):\n",
    "            neuronID = str(baseNeuronIdx+currLayerNeuronIdxOffset)\n",
    "            neuronEntry = [(str(basePostSynapticID+nextLayerNeuronIdxOffset), int(synapseWeight*scale)) for basePostSynapticID, synapseWeight in enumerate(neuron) if synapseWeight != 0 ]\n",
    "            neuronsDict[neuronID] = neuronEntry\n",
    "            #print(neuronID)\n",
    "        currLayerNeuronIdxOffset += inFeatures\n",
    "        #print(currLayerNeuronIdxOffset)\n",
    "print(outputs)"
   ]
  },
  {
   "cell_type": "code",
   "execution_count": 30,
   "metadata": {},
   "outputs": [
    {
     "name": "stdout",
     "output_type": "stream",
     "text": [
      "[('0', -6), ('1', -32), ('2', -3), ('3', 14), ('4', 17), ('5', 30), ('6', 8), ('7', -1), ('8', 11), ('9', 29), ('10', -34), ('11', 1), ('12', -34), ('13', -23), ('14', -7), ('15', 0), ('16', 25), ('17', -31), ('18', 3), ('19', -4), ('20', 0), ('21', 13), ('22', 28), ('23', 16), ('24', -23), ('25', -11), ('26', 18), ('27', -1), ('28', -4), ('29', 31), ('30', 3), ('31', 18), ('32', -35), ('33', 29), ('34', -9), ('35', 10), ('36', 6), ('37', -5), ('38', 35), ('39', -32), ('40', 32), ('41', -15), ('42', 35), ('43', 13), ('44', -4), ('45', -17), ('46', 8), ('47', 26), ('48', 8), ('49', -4), ('50', -29), ('51', -25), ('52', -24), ('53', -23), ('54', 8), ('55', -23), ('56', 12), ('57', -27), ('58', -7), ('59', 0), ('60', -17), ('61', -3), ('62', 28), ('63', 3), ('64', -4), ('65', -1), ('66', -7), ('67', -16), ('68', 24), ('69', 31), ('70', 31), ('71', -7), ('72', -28), ('73', -20), ('74', 8), ('75', 1), ('76', 12), ('77', -33), ('78', 14), ('79', -6), ('80', -3), ('81', 5), ('82', -8), ('83', 20), ('84', -2), ('85', 17), ('86', 16), ('87', 2), ('88', -20), ('89', -9), ('90', -2), ('91', 27), ('92', -34), ('93', 22), ('94', -34), ('95', 20), ('96', 6), ('97', 29), ('98', 22), ('99', 11), ('100', -3), ('101', 26), ('102', -12), ('103', -21), ('104', -12), ('105', 3), ('106', 3), ('107', -34), ('108', -23), ('109', -27), ('110', 19), ('111', 24), ('112', 21), ('113', -21), ('114', -1), ('115', -30), ('116', 15), ('117', -3), ('118', 9), ('119', -11), ('120', 33), ('121', 15), ('122', -20), ('123', 13), ('124', 21), ('125', 22), ('126', 0), ('127', -15), ('128', -28), ('129', 29), ('130', -30), ('131', -12), ('132', -20), ('133', -16), ('134', -29), ('135', -14), ('136', -29), ('137', -5), ('138', -19), ('139', -11), ('140', 13), ('141', -15), ('142', 21), ('143', -33), ('144', -5), ('145', 16), ('146', 13), ('147', -20), ('148', -23), ('149', 22), ('150', 20), ('151', -19), ('152', 20), ('153', 9), ('154', -35), ('155', -6), ('156', -3), ('157', -30), ('158', -10), ('159', 24), ('160', 26), ('161', 19), ('162', 30), ('163', 31), ('164', -18), ('165', 31), ('166', -31), ('167', -33), ('168', -32), ('169', -9), ('170', -30), ('171', -18), ('172', -17), ('173', 20), ('174', 15), ('175', -26), ('176', 24), ('177', -33), ('178', 5), ('179', -4), ('180', 30), ('181', 3), ('182', 25), ('183', -17), ('184', -21), ('185', -19), ('186', -26), ('187', -35), ('188', -1), ('189', -7), ('190', 34), ('191', -15), ('192', 31), ('193', 18), ('194', -8), ('195', -6), ('196', -26), ('197', 7), ('198', 14), ('199', 21), ('200', 13), ('201', 24), ('202', -5), ('203', 22), ('204', -21), ('205', 18), ('206', 11), ('207', 0), ('208', 34), ('209', -23), ('210', -16), ('211', 33), ('212', -12), ('213', -23), ('214', 30), ('215', 29), ('216', 2), ('217', 22), ('218', 32), ('219', 33), ('220', 25), ('221', -24), ('222', 7), ('223', 16), ('224', 27), ('225', 9), ('226', 34), ('227', 5), ('228', 6), ('229', 14), ('230', 35), ('231', 31), ('232', 4), ('233', 29), ('234', 21), ('235', -8), ('236', 27), ('237', -30), ('238', -13), ('239', -12), ('240', 21), ('241', 15), ('242', -4), ('243', 25), ('244', 20), ('245', 20), ('246', -18), ('247', 30), ('248', -28), ('249', 34), ('250', -3), ('251', 0), ('252', -11), ('253', -5), ('254', 14), ('255', 16), ('256', -13), ('257', 31), ('258', 19), ('259', 14), ('260', 1), ('261', 2), ('262', -3), ('263', 3), ('264', -6), ('265', 21), ('266', -10), ('267', -32), ('268', 26), ('269', 32), ('270', -18), ('271', 14), ('272', 27), ('273', 5), ('274', 3), ('275', 3), ('276', -29), ('277', 12), ('278', -2), ('279', 13), ('280', -3), ('281', -29), ('282', -15), ('283', 14), ('284', -26), ('285', 21), ('286', 17), ('287', -15), ('288', 15), ('289', -23), ('290', 8), ('291', -27), ('292', 9), ('293', -27), ('294', 12), ('295', -29), ('296', -24), ('297', -20), ('298', -9), ('299', 18), ('300', -15), ('301', -17), ('302', -1), ('303', 22), ('304', 5), ('305', -22), ('306', -25), ('307', -2), ('308', 33), ('309', -12), ('310', -24), ('311', -28), ('312', 26), ('313', 20), ('314', -12), ('315', -24), ('316', 6), ('317', 28), ('318', -9), ('319', 23), ('320', 21), ('321', 21), ('322', 32), ('323', 15), ('324', 3), ('325', -9), ('326', 26), ('327', -27), ('328', 32), ('329', 21), ('330', 25), ('331', 7), ('332', 35), ('333', -17), ('334', 29), ('335', 33), ('336', -10), ('337', -33), ('338', -4), ('339', -34), ('340', 31), ('341', 19), ('342', 1), ('343', 22), ('344', -13), ('345', -3), ('346', -10), ('347', 21), ('348', 28), ('349', -29), ('350', -16), ('351', 26), ('352', 4), ('353', -3), ('354', -24), ('355', 27), ('356', -14), ('357', -26), ('358', -33), ('359', 22), ('360', -33), ('361', 8), ('362', -34), ('363', 27), ('364', 13), ('365', 25), ('366', 4), ('367', 23), ('368', 16), ('369', -19), ('370', 7), ('371', 7), ('372', -18), ('373', 35), ('374', -5), ('375', -34), ('376', -13), ('377', 5), ('378', 22), ('379', -10), ('380', -27), ('381', -20), ('382', -20), ('383', 0), ('384', 30), ('385', 17), ('386', -4), ('387', 19), ('388', 25), ('389', 27), ('390', 34), ('391', -3), ('392', -24), ('393', 24), ('394', 7), ('395', 1), ('396', -2), ('397', 28), ('398', -29), ('399', -5), ('400', 28), ('401', -35), ('402', 34), ('403', 19), ('404', 9), ('405', 33), ('406', 2), ('407', 13), ('408', -29), ('409', -34), ('410', 0), ('411', 11), ('412', -1), ('413', 30), ('414', -22), ('415', 26), ('416', -18), ('417', -19), ('418', 25), ('419', -24), ('420', -23), ('421', -34), ('422', 34), ('423', 6), ('424', -29), ('425', -30), ('426', 6), ('427', 1), ('428', -18), ('429', -32), ('430', -15), ('431', -19), ('432', -23), ('433', 9), ('434', -31), ('435', -13), ('436', 10), ('437', -6), ('438', -17), ('439', 14), ('440', -8), ('441', -21), ('442', -27), ('443', -27), ('444', -20), ('445', -20), ('446', 10), ('447', -17), ('448', 33), ('449', -31), ('450', -4), ('451', 33), ('452', 0), ('453', -8), ('454', -8), ('455', 10), ('456', 23), ('457', -6), ('458', 22), ('459', 12), ('460', -7), ('461', -28), ('462', 14), ('463', 25), ('464', -12), ('465', -15), ('466', 0), ('467', 3), ('468', 3), ('469', -25), ('470', -27), ('471', -16), ('472', 31), ('473', -1), ('474', -25), ('475', -32), ('476', 17), ('477', -27), ('478', 33), ('479', -31), ('480', -17), ('481', -22), ('482', 15), ('483', 2), ('484', -27), ('485', 34), ('486', -4), ('487', -16), ('488', 8), ('489', -4), ('490', -8), ('491', -9), ('492', 19), ('493', 6), ('494', -31), ('495', -2), ('496', 2), ('497', 34), ('498', -15), ('499', -2), ('500', -5), ('501', 32), ('502', -16), ('503', -19), ('504', -33), ('505', 26), ('506', -35), ('507', 15), ('508', -16), ('509', 20), ('510', -2), ('511', -7), ('512', -25), ('513', 3), ('514', 32), ('515', 5), ('516', 1), ('517', -7), ('518', 24), ('519', -17), ('520', -33), ('521', -5), ('522', 29), ('523', 8), ('524', 24), ('525', 28), ('526', 32), ('527', 1), ('528', 7), ('529', -35), ('530', 17), ('531', 6), ('532', -1), ('533', 29), ('534', -30), ('535', 33), ('536', 0), ('537', -18), ('538', -26), ('539', -29), ('540', -8), ('541', 2), ('542', 17), ('543', 5), ('544', -14), ('545', 0), ('546', -5), ('547', -11), ('548', 9), ('549', -34), ('550', 4), ('551', 9), ('552', -32), ('553', 11), ('554', -3), ('555', 28), ('556', 4), ('557', 24), ('558', 14), ('559', -4), ('560', -20), ('561', -27), ('562', -9), ('563', 19), ('564', -12), ('565', 34), ('566', -8), ('567', -35), ('568', 8), ('569', 2), ('570', 30), ('571', 2), ('572', -5), ('573', 4), ('574', 12), ('575', 30), ('576', 32), ('577', 35), ('578', 13), ('579', -8), ('580', 1), ('581', -2), ('582', 16), ('583', 4), ('584', -1), ('585', 12), ('586', -27), ('587', 24), ('588', 25), ('589', 35), ('590', 30), ('591', 19), ('592', -1), ('593', -3), ('594', -5), ('595', -35), ('596', -25), ('597', -20), ('598', 17), ('599', -21), ('600', 17), ('601', 29), ('602', 19), ('603', -8), ('604', -2), ('605', -12), ('606', -10), ('607', 20), ('608', 14), ('609', 33), ('610', 14), ('611', -3), ('612', 0), ('613', 31), ('614', -1), ('615', 8), ('616', 9), ('617', -8), ('618', -12), ('619', -23), ('620', 22), ('621', -9), ('622', 4), ('623', -5), ('624', -10), ('625', 22), ('626', 18), ('627', 2), ('628', -30), ('629', -11), ('630', 26), ('631', 0), ('632', 32), ('633', 5), ('634', 14), ('635', 12), ('636', -23), ('637', 32), ('638', -34), ('639', 30), ('640', -18), ('641', 12), ('642', 0), ('643', 10), ('644', 4), ('645', 10), ('646', -5), ('647', -31), ('648', -26), ('649', -8), ('650', -17), ('651', -11), ('652', 21), ('653', -16), ('654', 32), ('655', 24), ('656', -23), ('657', 29), ('658', 23), ('659', 27), ('660', -16), ('661', 24), ('662', -26), ('663', -2), ('664', -21), ('665', -21), ('666', -29), ('667', 28), ('668', 3), ('669', -27), ('670', 14), ('671', 15), ('672', -5), ('673', -33), ('674', -5), ('675', -28), ('676', 31), ('677', 13), ('678', -6), ('679', 0), ('680', -14), ('681', -6), ('682', 9), ('683', -5), ('684', 8), ('685', -3), ('686', -2), ('687', 18), ('688', 34), ('689', 34), ('690', 25), ('691', -14), ('692', 13), ('693', -17), ('694', -20), ('695', -24), ('696', 23), ('697', -8), ('698', 20), ('699', 4), ('700', -11), ('701', 4), ('702', -25), ('703', 5), ('704', 17), ('705', 25), ('706', -19), ('707', 18), ('708', 29), ('709', -23), ('710', -12), ('711', -19), ('712', -11), ('713', 31), ('714', 30), ('715', -17), ('716', -6), ('717', -1), ('718', 10), ('719', -1), ('720', -19), ('721', -30), ('722', -33), ('723', 31), ('724', 6), ('725', -23), ('726', 3), ('727', -29), ('728', -15), ('729', 34), ('730', -17), ('731', 24), ('732', -24), ('733', 19), ('734', 18), ('735', 4), ('736', -20), ('737', 31), ('738', 30), ('739', -31), ('740', 6), ('741', -33), ('742', 29), ('743', -20), ('744', 9), ('745', -15), ('746', 28), ('747', -14), ('748', 18), ('749', -11), ('750', -3), ('751', -2), ('752', 24), ('753', -2), ('754', 5), ('755', 19), ('756', 22), ('757', -5), ('758', 22), ('759', -30), ('760', 30), ('761', 31), ('762', 1), ('763', -30), ('764', 32), ('765', 32), ('766', -28), ('767', -16), ('768', 26), ('769', 31), ('770', 0), ('771', 31), ('772', -4), ('773', 8), ('774', -26), ('775', -34), ('776', -2), ('777', -19), ('778', 0), ('779', 12), ('780', -33), ('781', -19), ('782', -7), ('783', 16), ('784', 11), ('785', -29), ('786', 9), ('787', 30), ('788', 9), ('789', -3), ('790', -34), ('791', -12), ('792', -16), ('793', 10), ('794', 7), ('795', 29), ('796', 31), ('797', 0), ('798', 21), ('799', -3), ('800', -33), ('801', 26), ('802', 11), ('803', 29), ('804', 8), ('805', 20), ('806', -28), ('807', 29), ('808', 25), ('809', -12), ('810', -33), ('811', 30), ('812', 11), ('813', 7), ('814', -1), ('815', -16), ('816', -33), ('817', -6), ('818', -20), ('819', -14), ('820', 2), ('821', -22), ('822', -4), ('823', 14), ('824', 14), ('825', -2), ('826', -15), ('827', -1), ('828', 22), ('829', -9), ('830', -5), ('831', -9), ('832', 19), ('833', -4), ('834', -12), ('835', -24), ('836', -34), ('837', 6), ('838', -20), ('839', 28), ('840', -33), ('841', 2), ('842', 26), ('843', 11), ('844', 0), ('845', -15), ('846', 20), ('847', -11), ('848', 6), ('849', 31), ('850', -25), ('851', -18), ('852', 24), ('853', 7), ('854', 20), ('855', 0), ('856', -33), ('857', 0), ('858', -35), ('859', 10), ('860', 9), ('861', -25), ('862', 4), ('863', 0), ('864', 27), ('865', -13), ('866', -27), ('867', -10), ('868', -30), ('869', -4), ('870', 5), ('871', -4), ('872', -33), ('873', -1), ('874', -16), ('875', 6), ('876', 4), ('877', -31), ('878', 23), ('879', -34), ('880', -12), ('881', 5), ('882', -33), ('883', 33), ('884', 29), ('885', 16), ('886', 3), ('887', 31), ('888', -1), ('889', -3), ('890', 19), ('891', -31), ('892', 23), ('893', 28), ('894', 12), ('895', 17), ('896', -12), ('897', -31), ('898', 34), ('899', -22), ('900', 32), ('901', -28), ('902', -19), ('903', 20), ('904', -11), ('905', 13), ('906', 0), ('907', 17), ('908', 35), ('909', 32), ('910', -12), ('911', 31), ('912', -17), ('913', -18), ('914', 34), ('915', -34), ('916', 29), ('917', 15), ('918', 32), ('919', -33), ('920', 19), ('921', -20), ('922', 0), ('923', 4), ('924', -11), ('925', -8), ('926', 29), ('927', 27), ('928', -30), ('929', 28), ('930', 19), ('931', -21), ('932', -11), ('933', 26), ('934', -22), ('935', -13), ('936', -31), ('937', -27), ('938', 16), ('939', -33), ('940', 4), ('941', 14), ('942', 33), ('943', 27), ('944', 16), ('945', 16), ('946', -8), ('947', -34), ('948', -32), ('949', -30), ('950', 1), ('951', -14), ('952', -23), ('953', 0), ('954', 25), ('955', 3), ('956', -35), ('957', -7), ('958', -19), ('959', 10), ('960', -28), ('961', 0), ('962', -24), ('963', -29), ('964', 29), ('965', -28), ('966', -18), ('967', -12), ('968', -13), ('969', 0), ('970', -1), ('971', -25), ('972', 9), ('973', -30), ('974', 33), ('975', 32), ('976', 19), ('977', -1), ('978', 23), ('979', -6), ('980', 33), ('981', 17), ('982', 10), ('983', -17), ('984', -18), ('985', -2), ('986', -34), ('987', 20), ('988', 1), ('989', 18), ('990', -30), ('991', -30), ('992', 17), ('993', -31), ('994', 8), ('995', 3), ('996', 35), ('997', 24), ('998', 21), ('999', -33)]\n"
     ]
    }
   ],
   "source": [
    "print(axonsDict['a0'])"
   ]
  },
  {
   "cell_type": "code",
   "execution_count": 31,
   "metadata": {},
   "outputs": [
    {
     "name": "stdout",
     "output_type": "stream",
     "text": [
      "784\n",
      "784000\n",
      "1000\n",
      "---\n",
      "1010\n",
      "10000\n",
      "10\n",
      "[]\n"
     ]
    }
   ],
   "source": [
    "print(len(axonsDict))\n",
    "totalAxonSyn = 0\n",
    "maxFan = 0\n",
    "for key in axonsDict.keys():\n",
    "    totalAxonSyn += len(axonsDict[key])\n",
    "    if len(axonsDict[key]) > maxFan:\n",
    "        maxFan = len(axonsDict[key])\n",
    "print(totalAxonSyn)\n",
    "print(maxFan)\n",
    "print('---')\n",
    "print(len(neuronsDict))\n",
    "totalSyn = 0\n",
    "maxFan = 0\n",
    "for key in neuronsDict.keys():\n",
    "    totalSyn += len(neuronsDict[key])\n",
    "    if len(neuronsDict[key]) > maxFan:\n",
    "        maxFan = len(neuronsDict[key])\n",
    "print(totalSyn)\n",
    "print(maxFan)\n",
    "print(neuronsDict['1007'])"
   ]
  },
  {
   "cell_type": "code",
   "execution_count": 32,
   "metadata": {
    "executionInfo": {
     "elapsed": 564,
     "status": "ok",
     "timestamp": 1657785754863,
     "user": {
      "displayName": "",
      "userId": ""
     },
     "user_tz": 420
    },
    "id": "f_oW9WpWr9Sd"
   },
   "outputs": [],
   "source": [
    "def input_to_CRI(currentInput):\n",
    "  currentInput = data.view(data.size(0), -1)\n",
    "\n",
    "  print(np.shape(currentInput)[1])\n",
    "  if(np.shape(currentInput)[1] != len(axonsDict)):\n",
    "      print('bad axon to input match')\n",
    "  #Onebatch = []\n",
    "  #for batch in currentInput:\n",
    "  #    batch = batch.T\n",
    "  #    print(np.shape(batch))\n",
    "  batch = []\n",
    "  n = 0\n",
    "  for element in currentInput:\n",
    "      timesteps = []\n",
    "      rateEnc = spikegen.rate(element,num_steps)\n",
    "      rateEnc = rateEnc.detach().cpu().numpy()\n",
    "      #print(rateEnc.shape)\n",
    "      for slice in rateEnc:\n",
    "          currInput = ['a'+str(idx) for idx,axon in enumerate(element) if axon != 0]\n",
    "          timesteps.append(currInput)\n",
    "      batch.append(timesteps)\n",
    "  return batch"
   ]
  },
  {
   "cell_type": "code",
   "execution_count": 33,
   "metadata": {},
   "outputs": [
    {
     "ename": "SyntaxError",
     "evalue": "EOL while scanning string literal (1167184916.py, line 10)",
     "output_type": "error",
     "traceback": [
      "\u001b[0;36m  Cell \u001b[0;32mIn [33], line 10\u001b[0;36m\u001b[0m\n\u001b[0;31m    print(f\"Spikes: {spike}\"\")\u001b[0m\n\u001b[0m                              ^\u001b[0m\n\u001b[0;31mSyntaxError\u001b[0m\u001b[0;31m:\u001b[0m EOL while scanning string literal\n"
     ]
    }
   ],
   "source": [
    "def run_CRI(inputList):\n",
    "    firstOutput = 1000\n",
    "    predictions = []\n",
    "    #n = 0\n",
    "    for currInput in inputList:\n",
    "        spikeRate = [0]*len(outputs)\n",
    "        for slice in currInput:\n",
    "            hwSpike = hardwareNetwork.step(slice, membranePotential=False)\n",
    "            for spike in hwSpike:\n",
    "               print(f\"Spikes: {spike}\"\")\n",
    "               spikeIdx = int(spike) - firstOutput \n",
    "               spikeRate[spikeIdx] += 1\n",
    "        predictions.append(spikeRate.index(max(spikeRate)))\n",
    "#         break\n",
    "    return(predictions)"
   ]
  },
  {
   "cell_type": "code",
   "execution_count": null,
   "metadata": {},
   "outputs": [],
   "source": [
    "from l2s.api import CRI_network\n",
    "config = {}\n",
    "config['neuron_type'] = \"I&F\"\n",
    "config['global_neuron_params'] = {}\n",
    "config['global_neuron_params']['v_thr'] = 1\n",
    "breakpoint()\n",
    "hardwareNetwork = CRI_network(axons=axonsDict,connections=neuronsDict,config=config,target='CRI', outputs = outputs, simDump = True)"
   ]
  },
  {
   "cell_type": "code",
   "execution_count": null,
   "metadata": {},
   "outputs": [],
   "source": [
    "import pickle\n",
    "\n",
    "pickle.dump( axonsDict, open( \"axonsDict.p\", \"wb\" ) )\n",
    "pickle.dump( neuronsDict, open( \"neuronsDict.p\", \"wb\" ) )\n",
    "pickle.dump( outputs, open( \"outputs.p\", \"wb\" ) )"
   ]
  },
  {
   "cell_type": "code",
   "execution_count": null,
   "metadata": {
    "tags": []
   },
   "outputs": [],
   "source": [
    "total = 0\n",
    "correct = 0\n",
    "\n",
    "\n",
    "\n",
    "# drop_last switched to False to keep all samples\n",
    "test_loader = DataLoader(mnist_test, batch_size=batch_size, shuffle=True, drop_last=False)\n",
    "\n",
    "with torch.no_grad():\n",
    "  net.eval()\n",
    "  for data, targets in test_loader:\n",
    "    data = data.to(device)\n",
    "    targets = targets.to(device)\n",
    "    input = input_to_CRI(data)\n",
    "    pickle.dump( input, open( \"input.p\", \"wb\" ) )\n",
    "#     break\n",
    "    criPred = run_CRI(input_to_CRI(data))\n",
    "    print(f\"criPred: {criPred}\")\n",
    "    print(f\"target: {targets}\")\n",
    "    print(f\"data shape: {data.shape}\")\n",
    "#     forward pass\n",
    "    test_spk, _ = net(data.view(data.size(0), -1))\n",
    "    \n",
    "#     calculate total accuracy\n",
    "    _, predicted = test_spk.sum(dim=0).max(1)\n",
    "    print(f\"predicted:{predicted}\")\n",
    "    total += targets.size(0)\n",
    "    correct += (predicted == targets).sum().item()\n",
    "    break\n",
    "\n",
    "print(f\"Total correctly classified test set images: {correct}/{total}\")\n",
    "print(f\"Test Set Accuracy: {100 * correct / total:.2f}%\")"
   ]
  },
  {
   "cell_type": "code",
   "execution_count": null,
   "metadata": {
    "tags": []
   },
   "outputs": [],
   "source": [
    "hardwareNetwork.sim_flush('/home/justinData/jul15Dump.txt')"
   ]
  },
  {
   "cell_type": "markdown",
   "metadata": {
    "id": "s0dAgWUt2o6E"
   },
   "source": [
    "# Conclusion\n",
    "Now you know how to construct and train a fully-connected network on a static dataset. The spiking neurons can also be adapted to other layer types, including convolutions and skip connections. Armed with this knowledge, you should now be able to build many different types of SNNs. [In the next tutorial](https://snntorch.readthedocs.io/en/latest/tutorials/index.html), you will learn how to train a spiking convolutional network, and simplify the amount of code required using the `snn.backprop` module.\n",
    "\n",
    "Also, a special thanks to Bugra Kaytanli for providing valuable feedback on the tutorial.\n",
    "\n",
    "If you like this project, please consider starring ⭐ the repo on GitHub as it is the easiest and best way to support it.\n"
   ]
  },
  {
   "cell_type": "markdown",
   "metadata": {
    "id": "RiKZzTUTkcjw"
   },
   "source": [
    "# Additional Resources\n",
    "\n",
    "* [Check out the snnTorch GitHub project here.](https://github.com/jeshraghian/snntorch)"
   ]
  }
 ],
 "metadata": {
  "accelerator": "GPU",
  "colab": {
   "name": "Copy of Copy of tutorial_2_FCN_truncatedfromscratch.ipynb",
   "provenance": [
    {
     "file_id": "https://github.com/jeshraghian/snntorch/blob/master/examples/tutorial_5_FCN.ipynb",
     "timestamp": 1657785814184
    }
   ]
  },
  "kernelspec": {
   "display_name": "Python 3 (ipykernel)",
   "language": "python",
   "name": "python3"
  },
  "language_info": {
   "codemirror_mode": {
    "name": "ipython",
    "version": 3
   },
   "file_extension": ".py",
   "mimetype": "text/x-python",
   "name": "python",
   "nbconvert_exporter": "python",
   "pygments_lexer": "ipython3",
   "version": "3.9.12"
  },
  "vscode": {
   "interpreter": {
    "hash": "782c4fc05a7b0c5006502edc276c124083adbfff5066531c0f613c007bf9a5ff"
   }
  }
 },
 "nbformat": 4,
 "nbformat_minor": 4
}
