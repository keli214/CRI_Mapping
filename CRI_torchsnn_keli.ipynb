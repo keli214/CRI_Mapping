{
 "cells": [
  {
   "cell_type": "markdown",
   "id": "974271a6",
   "metadata": {},
   "source": [
    "# CRI MNIST Demonstration with snnTorch "
   ]
  },
  {
   "cell_type": "markdown",
   "id": "c830d120",
   "metadata": {},
   "source": [
    "## Training SNN with snnTorch"
   ]
  },
  {
   "cell_type": "code",
   "execution_count": 7,
   "id": "ad47b541",
   "metadata": {
    "scrolled": true
   },
   "outputs": [],
   "source": [
    "# imports\n",
    "import snntorch as snn\n",
    "from snntorch import surrogate\n",
    "from snntorch import backprop\n",
    "from snntorch import functional as SF\n",
    "from snntorch import utils\n",
    "from snntorch import spikeplot as splt\n",
    "from snntorch import spikegen\n",
    "import torch\n",
    "import torch.nn as nn\n",
    "from torch.utils.data import DataLoader\n",
    "from torchvision import datasets, transforms\n",
    "from torch.nn.parameter import Parameter\n",
    "import torch.nn.functional as F\n",
    "import matplotlib.pyplot as plt\n",
    "import numpy as np\n",
    "import os\n",
    "import shutil\n",
    "import time"
   ]
  },
  {
   "cell_type": "markdown",
   "id": "02b8a486",
   "metadata": {},
   "source": [
    "### Import MNIST datasets"
   ]
  },
  {
   "cell_type": "code",
   "execution_count": 8,
   "id": "88f283ac",
   "metadata": {},
   "outputs": [],
   "source": [
    "# dataloader arguments\n",
    "batch_size = 128\n",
    "data_path='~/justinData/mnist'\n",
    "\n",
    "dtype = torch.float\n",
    "device = torch.device(\"cuda\") if torch.cuda.is_available() else torch.device(\"cpu\")"
   ]
  },
  {
   "cell_type": "code",
   "execution_count": 9,
   "id": "c078b195",
   "metadata": {},
   "outputs": [],
   "source": [
    "# Define a transform\n",
    "transform = transforms.Compose([\n",
    "            transforms.Resize((28, 28)),\n",
    "            transforms.Grayscale(),\n",
    "            transforms.ToTensor(),\n",
    "            transforms.Normalize((0,), (1,))])\n",
    "\n",
    "mnist_train = datasets.MNIST(data_path, train=True, download=True, transform=transform)\n",
    "mnist_test = datasets.MNIST(data_path, train=False, download=True, transform=transform)"
   ]
  },
  {
   "cell_type": "code",
   "execution_count": 10,
   "id": "8fbc2ff9",
   "metadata": {},
   "outputs": [],
   "source": [
    "# Create DataLoaders\n",
    "train_loader = DataLoader(mnist_train, batch_size=batch_size, shuffle=True, drop_last=True)\n",
    "test_loader = DataLoader(mnist_test, batch_size=batch_size, shuffle=True, drop_last=True)"
   ]
  },
  {
   "cell_type": "markdown",
   "id": "967b1c2c",
   "metadata": {},
   "source": [
    "### Define the network"
   ]
  },
  {
   "cell_type": "code",
   "execution_count": 11,
   "id": "f2322fdf",
   "metadata": {},
   "outputs": [],
   "source": [
    "# Network Architecture\n",
    "num_inputs = 28*28\n",
    "num_hidden_0 = 2500\n",
    "num_hidden_1 = 2000\n",
    "num_hidden_2 = 1500\n",
    "num_hidden_3 = 1000\n",
    "num_hidden_4 = 500\n",
    "num_hidden = 1000\n",
    "num_outputs = 10\n",
    "\n",
    "# Temporal Dynamics\n",
    "num_steps = 25\n",
    "beta = 1.0\n",
    "spike_grad = surrogate.fast_sigmoid(slope=25)"
   ]
  },
  {
   "cell_type": "code",
   "execution_count": 12,
   "id": "9074aaec",
   "metadata": {},
   "outputs": [],
   "source": [
    "net2 = nn.Sequential(nn.Linear(num_inputs, num_hidden, bias=True), \n",
    "                    snn.Leaky(beta=beta, spike_grad=spike_grad,init_hidden=True),\n",
    "                    nn.Linear(num_hidden, num_outputs, bias=True),\n",
    "                    snn.Leaky(beta=beta, spike_grad=spike_grad,init_hidden=True, output=True)).to(device)\n",
    "            "
   ]
  },
  {
   "cell_type": "code",
   "execution_count": 13,
   "id": "2956af9f",
   "metadata": {},
   "outputs": [],
   "source": [
    "net6 = nn.Sequential(nn.Linear(num_inputs, num_hidden_0, bias=True), \n",
    "                    snn.Leaky(beta=beta, spike_grad=spike_grad,init_hidden=True),\n",
    "                    nn.Linear(num_hidden_0, num_hidden_1, bias=True), \n",
    "                    snn.Leaky(beta=beta, spike_grad=spike_grad,init_hidden=True),\n",
    "                    nn.Linear(num_hidden_1, num_hidden_2, bias=True), \n",
    "                    snn.Leaky(beta=beta, spike_grad=spike_grad,init_hidden=True),\n",
    "                    nn.Linear(num_hidden_2, num_hidden_3, bias=True), \n",
    "                    snn.Leaky(beta=beta, spike_grad=spike_grad,init_hidden=True),\n",
    "                    nn.Linear(num_hidden_3, num_hidden_4, bias=True), \n",
    "                    snn.Leaky(beta=beta, spike_grad=spike_grad,init_hidden=True),\n",
    "                    nn.Linear(num_hidden_4, num_outputs, bias=True),\n",
    "                    snn.Leaky(beta=beta, spike_grad=spike_grad,init_hidden=True, output=True)).to(device)"
   ]
  },
  {
   "cell_type": "code",
   "execution_count": 8,
   "id": "66888564",
   "metadata": {},
   "outputs": [],
   "source": [
    "num_hidden_0 = 3000\n",
    "num_hidden_1 = 2800\n",
    "num_hidden_2 = 2600\n",
    "num_hidden_3 = 2400\n",
    "num_hidden_4 = 2200\n",
    "num_hidden_5 = 1800\n",
    "num_hidden_6 = 1600\n",
    "num_hidden_7 = 1400\n",
    "num_hidden_8 = 1200\n",
    "num_hidden_9 = 1000\n",
    "num_hidden_10 = 800\n",
    "num_hidden_11 = 400"
   ]
  },
  {
   "cell_type": "code",
   "execution_count": 9,
   "id": "ca5c62fb",
   "metadata": {},
   "outputs": [],
   "source": [
    "net12 = nn.Sequential(nn.Linear(num_inputs, num_hidden_0, bias=True), \n",
    "                    snn.Leaky(beta=beta, spike_grad=spike_grad,init_hidden=True),\n",
    "                    nn.Linear(num_hidden_0, num_hidden_1, bias=True), \n",
    "                    snn.Leaky(beta=beta, spike_grad=spike_grad,init_hidden=True),\n",
    "                    nn.Linear(num_hidden_1, num_hidden_2, bias=True), \n",
    "                    snn.Leaky(beta=beta, spike_grad=spike_grad,init_hidden=True),\n",
    "                    nn.Linear(num_hidden_2, num_hidden_3, bias=True), \n",
    "                    snn.Leaky(beta=beta, spike_grad=spike_grad,init_hidden=True),\n",
    "                    nn.Linear(num_hidden_3, num_hidden_4, bias=True), \n",
    "                    snn.Leaky(beta=beta, spike_grad=spike_grad,init_hidden=True),\n",
    "                    nn.Linear(num_hidden_4, num_hidden_5, bias=True), \n",
    "                    snn.Leaky(beta=beta, spike_grad=spike_grad,init_hidden=True),\n",
    "                    nn.Linear(num_hidden_5, num_hidden_6, bias=True), \n",
    "                    snn.Leaky(beta=beta, spike_grad=spike_grad,init_hidden=True),\n",
    "                    nn.Linear(num_hidden_6, num_hidden_7, bias=True), \n",
    "                    snn.Leaky(beta=beta, spike_grad=spike_grad,init_hidden=True),\n",
    "                    nn.Linear(num_hidden_7, num_hidden_8, bias=True), \n",
    "                    snn.Leaky(beta=beta, spike_grad=spike_grad,init_hidden=True),\n",
    "                    nn.Linear(num_hidden_8, num_hidden_9, bias=True), \n",
    "                    snn.Leaky(beta=beta, spike_grad=spike_grad,init_hidden=True),\n",
    "                    nn.Linear(num_hidden_9, num_hidden_10, bias=True), \n",
    "                    snn.Leaky(beta=beta, spike_grad=spike_grad,init_hidden=True),\n",
    "                    nn.Linear(num_hidden_10, num_hidden_11, bias=True), \n",
    "                    snn.Leaky(beta=beta, spike_grad=spike_grad,init_hidden=True),\n",
    "                    nn.Linear(num_hidden_11, num_outputs, bias=True),\n",
    "                    snn.Leaky(beta=beta, spike_grad=spike_grad,init_hidden=True, output=True)).to(device)"
   ]
  },
  {
   "cell_type": "code",
   "execution_count": 7,
   "id": "d5e41f5f",
   "metadata": {},
   "outputs": [],
   "source": [
    "data, targets = next(iter(train_loader))\n",
    "data = data.to(device)\n",
    "targets = targets.to(device)"
   ]
  },
  {
   "cell_type": "code",
   "execution_count": 14,
   "id": "1081d119",
   "metadata": {},
   "outputs": [],
   "source": [
    "def forward_pass(net, num_steps, data, batch_size):\n",
    "    mem_rec = []\n",
    "    spk_rec = []\n",
    "    utils.reset(net)  # resets hidden states for all LIF neurons in net\n",
    "\n",
    "    for step in range(num_steps):\n",
    "        spk_out, mem_out = net(data.view(batch_size, -1))\n",
    "        spk_rec.append(spk_out)\n",
    "        mem_rec.append(mem_out)\n",
    "  \n",
    "    return torch.stack(spk_rec), torch.stack(mem_rec)"
   ]
  },
  {
   "cell_type": "code",
   "execution_count": 9,
   "id": "404a3290",
   "metadata": {
    "scrolled": true
   },
   "outputs": [],
   "source": [
    "spk_rec, mem_rec = forward_pass(net2, num_steps, data, batch_size)"
   ]
  },
  {
   "cell_type": "markdown",
   "id": "07deb717",
   "metadata": {},
   "source": [
    "### Loss Functions"
   ]
  },
  {
   "cell_type": "code",
   "execution_count": 15,
   "id": "358fb267",
   "metadata": {},
   "outputs": [],
   "source": [
    "loss_fn = SF.ce_count_loss()"
   ]
  },
  {
   "cell_type": "code",
   "execution_count": 16,
   "id": "7a8e3328",
   "metadata": {},
   "outputs": [
    {
     "ename": "NameError",
     "evalue": "name 'spk_rec' is not defined",
     "output_type": "error",
     "traceback": [
      "\u001b[0;31m---------------------------------------------------------------------------\u001b[0m",
      "\u001b[0;31mNameError\u001b[0m                                 Traceback (most recent call last)",
      "Cell \u001b[0;32mIn[16], line 1\u001b[0m\n\u001b[0;32m----> 1\u001b[0m loss_val \u001b[38;5;241m=\u001b[39m loss_fn(\u001b[43mspk_rec\u001b[49m, targets)\n\u001b[1;32m      3\u001b[0m \u001b[38;5;28mprint\u001b[39m(\u001b[38;5;124mf\u001b[39m\u001b[38;5;124m\"\u001b[39m\u001b[38;5;124mThe loss from an untrained network is \u001b[39m\u001b[38;5;132;01m{\u001b[39;00mloss_val\u001b[38;5;241m.\u001b[39mitem()\u001b[38;5;132;01m:\u001b[39;00m\u001b[38;5;124m.3f\u001b[39m\u001b[38;5;132;01m}\u001b[39;00m\u001b[38;5;124m\"\u001b[39m)\n",
      "\u001b[0;31mNameError\u001b[0m: name 'spk_rec' is not defined"
     ]
    }
   ],
   "source": [
    "loss_val = loss_fn(spk_rec, targets)\n",
    "\n",
    "print(f\"The loss from an untrained network is {loss_val.item():.3f}\")"
   ]
  },
  {
   "cell_type": "markdown",
   "id": "a899eecf",
   "metadata": {},
   "source": [
    "### Accuracy "
   ]
  },
  {
   "cell_type": "code",
   "execution_count": 12,
   "id": "98c576e5",
   "metadata": {},
   "outputs": [
    {
     "name": "stdout",
     "output_type": "stream",
     "text": [
      "The accuracy of a single batch using an untrained network is 7.031%\n"
     ]
    }
   ],
   "source": [
    "acc = SF.accuracy_rate(spk_rec, targets)\n",
    "\n",
    "print(f\"The accuracy of a single batch using an untrained network is {acc*100:.3f}%\")"
   ]
  },
  {
   "cell_type": "code",
   "execution_count": 17,
   "id": "4d7e3f5c",
   "metadata": {},
   "outputs": [],
   "source": [
    "def batch_accuracy(train_loader, net, num_steps, batch_size):\n",
    "    with torch.no_grad():\n",
    "        total = 0\n",
    "        acc = 0\n",
    "        net.eval()\n",
    "\n",
    "        train_loader = iter(train_loader)\n",
    "        for data, targets in train_loader:\n",
    "            data = data.to(device)\n",
    "            targets = targets.to(device)\n",
    "            spk_rec, _ = forward_pass(net, num_steps, data, batch_size)\n",
    "\n",
    "            acc += SF.accuracy_rate(spk_rec, targets) * spk_rec.size(1)\n",
    "            total += spk_rec.size(1)\n",
    "\n",
    "    return acc/total"
   ]
  },
  {
   "cell_type": "markdown",
   "id": "3ab38e51",
   "metadata": {},
   "source": [
    "### Training"
   ]
  },
  {
   "cell_type": "code",
   "execution_count": 51,
   "id": "3a39c571",
   "metadata": {
    "scrolled": true
   },
   "outputs": [
    {
     "name": "stdout",
     "output_type": "stream",
     "text": [
      "Epoch 0, Iteration 0\n",
      "Train Set Loss: 0.02\n",
      "Test Set Loss: 0.02\n",
      "Train set accuracy for a single minibatch: 99.22%\n",
      "Test set accuracy for a single minibatch: 100.00%\n",
      "\n",
      "\n",
      "Epoch 0, Iteration 50\n",
      "Train Set Loss: 0.04\n",
      "Test Set Loss: 0.03\n",
      "Train set accuracy for a single minibatch: 98.44%\n",
      "Test set accuracy for a single minibatch: 99.22%\n",
      "\n",
      "\n",
      "Epoch 0, Iteration 100\n",
      "Train Set Loss: 0.06\n",
      "Test Set Loss: 0.11\n",
      "Train set accuracy for a single minibatch: 98.44%\n",
      "Test set accuracy for a single minibatch: 96.88%\n",
      "\n",
      "\n",
      "Epoch 0, Iteration 150\n",
      "Train Set Loss: 0.02\n",
      "Test Set Loss: 0.04\n",
      "Train set accuracy for a single minibatch: 99.22%\n",
      "Test set accuracy for a single minibatch: 99.22%\n",
      "\n",
      "\n",
      "Epoch 0, Iteration 200\n",
      "Train Set Loss: 0.04\n",
      "Test Set Loss: 0.04\n",
      "Train set accuracy for a single minibatch: 98.44%\n",
      "Test set accuracy for a single minibatch: 97.66%\n",
      "\n",
      "\n",
      "Epoch 0, Iteration 250\n",
      "Train Set Loss: 0.02\n",
      "Test Set Loss: 0.03\n",
      "Train set accuracy for a single minibatch: 98.44%\n",
      "Test set accuracy for a single minibatch: 99.22%\n",
      "\n",
      "\n",
      "Epoch 0, Iteration 300\n",
      "Train Set Loss: 0.04\n",
      "Test Set Loss: 0.07\n",
      "Train set accuracy for a single minibatch: 99.22%\n",
      "Test set accuracy for a single minibatch: 97.66%\n",
      "\n",
      "\n",
      "Epoch 0, Iteration 350\n",
      "Train Set Loss: 0.05\n",
      "Test Set Loss: 0.04\n",
      "Train set accuracy for a single minibatch: 98.44%\n",
      "Test set accuracy for a single minibatch: 98.44%\n",
      "\n",
      "\n",
      "Epoch 0, Iteration 400\n",
      "Train Set Loss: 0.06\n",
      "Test Set Loss: 0.07\n",
      "Train set accuracy for a single minibatch: 99.22%\n",
      "Test set accuracy for a single minibatch: 98.44%\n",
      "\n",
      "\n",
      "Epoch 0, Iteration 450\n",
      "Train Set Loss: 0.07\n",
      "Test Set Loss: 0.06\n",
      "Train set accuracy for a single minibatch: 96.88%\n",
      "Test set accuracy for a single minibatch: 98.44%\n",
      "\n",
      "\n",
      "Epoch 1, Iteration 32\n",
      "Train Set Loss: 0.05\n",
      "Test Set Loss: 0.10\n",
      "Train set accuracy for a single minibatch: 99.22%\n",
      "Test set accuracy for a single minibatch: 96.09%\n",
      "\n",
      "\n",
      "Epoch 1, Iteration 82\n",
      "Train Set Loss: 0.00\n",
      "Test Set Loss: 0.01\n",
      "Train set accuracy for a single minibatch: 100.00%\n",
      "Test set accuracy for a single minibatch: 99.22%\n",
      "\n",
      "\n",
      "Epoch 1, Iteration 132\n",
      "Train Set Loss: 0.02\n",
      "Test Set Loss: 0.11\n",
      "Train set accuracy for a single minibatch: 99.22%\n",
      "Test set accuracy for a single minibatch: 96.09%\n",
      "\n",
      "\n",
      "Epoch 1, Iteration 182\n",
      "Train Set Loss: 0.01\n",
      "Test Set Loss: 0.01\n",
      "Train set accuracy for a single minibatch: 100.00%\n",
      "Test set accuracy for a single minibatch: 100.00%\n",
      "\n",
      "\n",
      "Epoch 1, Iteration 232\n",
      "Train Set Loss: 0.00\n",
      "Test Set Loss: 0.04\n",
      "Train set accuracy for a single minibatch: 100.00%\n",
      "Test set accuracy for a single minibatch: 99.22%\n",
      "\n",
      "\n",
      "Epoch 1, Iteration 282\n",
      "Train Set Loss: 0.01\n",
      "Test Set Loss: 0.16\n",
      "Train set accuracy for a single minibatch: 100.00%\n",
      "Test set accuracy for a single minibatch: 97.66%\n",
      "\n",
      "\n",
      "Epoch 1, Iteration 332\n",
      "Train Set Loss: 0.06\n",
      "Test Set Loss: 0.04\n",
      "Train set accuracy for a single minibatch: 98.44%\n",
      "Test set accuracy for a single minibatch: 98.44%\n",
      "\n",
      "\n",
      "Epoch 1, Iteration 382\n",
      "Train Set Loss: 0.04\n",
      "Test Set Loss: 0.12\n",
      "Train set accuracy for a single minibatch: 97.66%\n",
      "Test set accuracy for a single minibatch: 96.88%\n",
      "\n",
      "\n",
      "Epoch 1, Iteration 432\n",
      "Train Set Loss: 0.07\n",
      "Test Set Loss: 0.05\n",
      "Train set accuracy for a single minibatch: 98.44%\n",
      "Test set accuracy for a single minibatch: 98.44%\n",
      "\n",
      "\n"
     ]
    }
   ],
   "source": [
    "optimizer = torch.optim.Adam(net6.parameters(), lr=1e-9, betas=(0.9, 0.999))\n",
    "num_epochs = 2\n",
    "loss_hist = []\n",
    "test_loss_hist = []\n",
    "counter = 0\n",
    "\n",
    "# Outer training loop\n",
    "for epoch in range(num_epochs):\n",
    "    iter_counter = 0\n",
    "    train_batch = iter(train_loader)\n",
    "\n",
    "    # Minibatch training loop\n",
    "    for data, targets in train_batch:\n",
    "        data = data.to(device)\n",
    "        targets = targets.to(device)\n",
    "\n",
    "        # forward pass\n",
    "        net6.train()\n",
    "        spk_rec, mem_rec = forward_pass(net6, num_steps, data, batch_size)\n",
    "\n",
    "        # initialize the loss & sum over time\n",
    "        loss_val = torch.zeros((1), dtype=dtype, device=device)\n",
    "        loss_val += loss_fn(spk_rec, targets)\n",
    "\n",
    "        # Gradient calculation + weight update\n",
    "        optimizer.zero_grad()\n",
    "        loss_val.backward()\n",
    "        optimizer.step()\n",
    "\n",
    "        # Store loss history for future plotting\n",
    "        loss_hist.append(loss_val.item())\n",
    "\n",
    "        # Test set\n",
    "        with torch.no_grad():\n",
    "            net6.eval()\n",
    "            test_data, test_targets = next(iter(test_loader))\n",
    "            test_data = test_data.to(device)\n",
    "            test_targets = test_targets.to(device)\n",
    "\n",
    "            # Test set forward pass\n",
    "            test_spk, test_mem = forward_pass(net6, num_steps, test_data,batch_size)\n",
    "\n",
    "            # Test set loss\n",
    "            test_loss = torch.zeros((1), dtype=dtype, device=device)\n",
    "            test_loss += loss_fn(test_spk, test_targets)\n",
    "\n",
    "            test_loss_hist.append(test_loss.item())\n",
    "\n",
    "            # Print train/test loss/accuracy\n",
    "            if counter % 50 == 0:\n",
    "                    print(f\"Epoch {epoch}, Iteration {iter_counter}\")\n",
    "                    print(f\"Train Set Loss: {loss_hist[counter]:.2f}\")\n",
    "                    print(f\"Test Set Loss: {test_loss_hist[counter]:.2f}\")\n",
    "                    train_acc = SF.accuracy_rate(spk_rec, targets)\n",
    "                    test_acc = SF.accuracy_rate(test_spk, test_targets)\n",
    "                    print(f\"Train set accuracy for a single minibatch: {train_acc*100:.2f}%\")\n",
    "                    print(f\"Test set accuracy for a single minibatch: {test_acc*100:.2f}%\")\n",
    "                    print(\"\\n\")\n",
    "            counter += 1\n",
    "            iter_counter +=1"
   ]
  },
  {
   "cell_type": "code",
   "execution_count": 18,
   "id": "dfb8d070",
   "metadata": {},
   "outputs": [
    {
     "name": "stdout",
     "output_type": "stream",
     "text": [
      "The total accuracy on the test set is: 9.80%\n"
     ]
    }
   ],
   "source": [
    "test_acc = batch_accuracy(test_loader, net6, num_steps, batch_size)\n",
    "\n",
    "print(f\"The total accuracy on the test set is: {test_acc * 100:.2f}%\")"
   ]
  },
  {
   "cell_type": "code",
   "execution_count": 53,
   "id": "d6acb1d7",
   "metadata": {},
   "outputs": [
    {
     "data": {
      "image/png": "[encoded data removed]",
      "text/plain": [
       "<Figure size 1000x500 with 1 Axes>"
      ]
     },
     "metadata": {},
     "output_type": "display_data"
    }
   ],
   "source": [
    "# Plot Loss\n",
    "fig = plt.figure(facecolor=\"w\", figsize=(10, 5))\n",
    "plt.plot(loss_hist)\n",
    "plt.plot(test_loss_hist)\n",
    "plt.title(\"Loss Curves\")\n",
    "plt.legend([\"Train Loss\", \"Test Loss\"])\n",
    "plt.xlabel(\"Iteration\")\n",
    "plt.ylabel(\"Loss\")\n",
    "plt.show()"
   ]
  },
  {
   "cell_type": "markdown",
   "id": "3f80236a",
   "metadata": {},
   "source": [
    "### Save Models"
   ]
  },
  {
   "cell_type": "code",
   "execution_count": 19,
   "id": "22377313",
   "metadata": {},
   "outputs": [],
   "source": [
    "def save_checkpoint(state, is_quan, fdir):\n",
    "    filepath = os.path.join(fdir, 'checkpoint.pth')\n",
    "    torch.save(state, filepath)\n",
    "    if is_quan:\n",
    "        shutil.copyfile(filepath, os.path.join(fdir, 'model_quantized_6L.pth.tar'))\n",
    "    else:\n",
    "        shutil.copyfile(filepath, os.path.join(fdir, 'model_snnTorch_6L.pth.tar'))"
   ]
  },
  {
   "cell_type": "code",
   "execution_count": 43,
   "id": "2179c35c",
   "metadata": {},
   "outputs": [],
   "source": [
    "if not os.path.exists('result'):\n",
    "    os.makedirs('result')\n",
    "fdir = 'result/'\n",
    "if not os.path.exists(fdir):\n",
    "    os.makedirs(fdir)"
   ]
  },
  {
   "cell_type": "code",
   "execution_count": 44,
   "id": "2aa258d2",
   "metadata": {},
   "outputs": [],
   "source": [
    "save_checkpoint({'state_dict': net6.state_dict(),}, 0, fdir)"
   ]
  },
  {
   "cell_type": "markdown",
   "id": "9605f20e",
   "metadata": {},
   "source": [
    "### Quantization"
   ]
  },
  {
   "cell_type": "code",
   "execution_count": 45,
   "id": "3de1ece5",
   "metadata": {},
   "outputs": [],
   "source": [
    "# def weight_quantization(b):\n",
    "\n",
    "#     def uniform_quant(x, b):\n",
    "#         xdiv = x.mul((2 ** b - 1))\n",
    "#         xhard = xdiv.round().div(2 ** b - 1)\n",
    "#         #print('uniform quant bit: ', b)\n",
    "#         return xhard\n",
    "\n",
    "#     class _pq(torch.autograd.Function):\n",
    "#         @staticmethod\n",
    "#         def forward(ctx, input, alpha):\n",
    "#             input.div_(alpha)                          # weights are first divided by alpha\n",
    "#             input_c = input.clamp(min=-1, max=1)       # then clipped to [-1,1]\n",
    "#             sign = input_c.sign()\n",
    "#             input_abs = input_c.abs()\n",
    "#             input_q = uniform_quant(input_abs, b).mul(sign)\n",
    "#             ctx.save_for_backward(input, input_q)\n",
    "#             input_q = input_q.mul(alpha)               # rescale to the original range\n",
    "#             return input_q\n",
    "\n",
    "#         @staticmethod\n",
    "#         def backward(ctx, grad_output):\n",
    "#             grad_input = grad_output.clone()             # grad for weights will not be clipped\n",
    "#             input, input_q = ctx.saved_tensors\n",
    "#             i = (input.abs()>1.).float()     # >1 means clipped. # output matrix is a form of [True, False, True, ...]\n",
    "#             sign = input.sign()              # output matrix is a form of [+1, -1, -1, +1, ...]\n",
    "#             #grad_alpha = (grad_output*(sign*i + (input_q-input)*(1-i))).sum()\n",
    "#             grad_alpha = (grad_output*(sign*i + (0.0)*(1-i))).sum()\n",
    "#             # above line, if i = True,  and sign = +1, \"grad_alpha = grad_output * 1\"\n",
    "#             #             if i = False, \"grad_alpha = grad_output * (input_q-input)\"\n",
    "#             grad_input = grad_input*(1-i)\n",
    "#             return grad_input, grad_alpha\n",
    "\n",
    "#     return _pq().apply\n",
    "\n",
    "# class weight_quantize_fn(nn.Module):\n",
    "#     def __init__(self, w_bit):\n",
    "#         super(weight_quantize_fn, self).__init__()\n",
    "#         self.w_bit = w_bit-1\n",
    "#         #self.wgt_alpha = wgt_alpha\n",
    "#         self.weight_q = weight_quantization(b=self.w_bit)\n",
    "#         #self.register_parameter('wgt_alpha', Parameter(torch.tensor(3.0)))\n",
    "#     def forward(self, weight):\n",
    "#         #mean = weight.data.mean()\n",
    "#         #std = weight.data.std()\n",
    "#         #weight = weight.add(-mean).div(std)      # weights normalization\n",
    "#         weight_q = self.weight_q(weight, self.wgt_alpha)\n",
    "\n",
    "        # return weight_q"
   ]
  },
  {
   "cell_type": "code",
   "execution_count": 47,
   "id": "86db405e",
   "metadata": {},
   "outputs": [
    {
     "name": "stdout",
     "output_type": "stream",
     "text": [
      "FC1 Weights: \n",
      " tensor([[ 767.0000,  311.0000, -783.0000,  ...,  347.0000,  377.0000,\n",
      "         -136.0000],\n",
      "        [  -0.0000,  887.0000,  166.0000,  ..., -706.0000,  650.0000,\n",
      "          798.0000],\n",
      "        [-163.0000,    0.0000, -722.0000,  ..., 1067.0000,  824.9999,\n",
      "            0.0000],\n",
      "        ...,\n",
      "        [ 540.9999,  -51.0000, -500.0000,  ..., -392.0000,  -76.0000,\n",
      "         -305.0000],\n",
      "        [-748.9999, -474.0000,  140.0000,  ...,  357.0000, -702.0000,\n",
      "         -540.0000],\n",
      "        [  63.0000,  383.0000, -910.0000,  ...,  610.0000, 1080.0000,\n",
      "           -0.0000]], device='cuda:0', grad_fn=<DivBackward0>)\n"
     ]
    }
   ],
   "source": [
    "# w_alpha=1\n",
    "# w_bits=16\n",
    "# weight_quant = weight_quantize_fn(w_bit= w_bits)  ## define quant function\n",
    "# weight_quant.wgt_alpha = w_alpha\n",
    "# fc1_quant      = weight_quant(net6[0].weight)\n",
    "# w_delta        = w_alpha/(2**(w_bits-1)-1)\n",
    "# fc1_int        = fc1_quant/w_delta\n",
    "# print(\"FC1 Weights: \\n\",fc1_int)"
   ]
  },
  {
   "cell_type": "code",
   "execution_count": 48,
   "id": "9a0c401c",
   "metadata": {
    "scrolled": true
   },
   "outputs": [],
   "source": [
    "\n",
    "for layer in net6:\n",
    "        if isinstance(layer, torch.nn.Linear):\n",
    "                layer.weight = Parameter(weight_quant(layer.weight))\n",
    "                w_delta = w_alpha/(2**(w_bits-1)-1)\n",
    "                layer.weight = Parameter(layer.weight/w_delta)\n",
    "                layer.bias = Parameter(layer.bias/w_delta)\n",
    "        if isinstance(layer, torch.nn.Conv2d):\n",
    "                layer.weight = Parameter(weight_quant(layer.weight))\n",
    "                w_delta = w_alpha/(2**(w_bits-1)-1)\n",
    "                layer.weight = Parameter(layer.weight/w_delta)\n",
    "                layer.bias = Parameter(layer.bias/w_delta)\n",
    "        if isinstance(layer, snn.Leaky):\n",
    "                layer.threshold = layer.threshold/w_delta"
   ]
  },
  {
   "cell_type": "code",
   "execution_count": 49,
   "id": "fdcf6fe8",
   "metadata": {},
   "outputs": [
    {
     "name": "stdout",
     "output_type": "stream",
     "text": [
      "The total accuracy on the test set is: 98.13%\n"
     ]
    }
   ],
   "source": [
    "test_acc = batch_accuracy(test_loader, net6, num_steps, batch_size)\n",
    "\n",
    "print(f\"The total accuracy on the test set is: {test_acc * 100:.2f}%\")"
   ]
  },
  {
   "cell_type": "code",
   "execution_count": 50,
   "id": "6717051c",
   "metadata": {},
   "outputs": [],
   "source": [
    "save_checkpoint({'state_dict': net6.state_dict(),}, 1, fdir)"
   ]
  },
  {
   "cell_type": "markdown",
   "id": "86841624",
   "metadata": {},
   "source": [
    "### Load Saved Model"
   ]
  },
  {
   "cell_type": "code",
   "execution_count": 14,
   "id": "45ec61cf",
   "metadata": {},
   "outputs": [
    {
     "data": {
      "text/plain": [
       "Sequential(\n",
       "  (0): Linear(in_features=784, out_features=1000, bias=True)\n",
       "  (1): Leaky()\n",
       "  (2): Linear(in_features=1000, out_features=10, bias=True)\n",
       "  (3): Leaky()\n",
       ")"
      ]
     },
     "execution_count": 14,
     "metadata": {},
     "output_type": "execute_result"
    }
   ],
   "source": [
    "best_model_path = '/Volumes/export/isn/keli/Desktop/CRI/result/model_quantized.pth.tar'\n",
    "checkpoint = torch.load(best_model_path)\n",
    "net2.load_state_dict(checkpoint['state_dict'])\n",
    "net2.eval()"
   ]
  },
  {
   "cell_type": "code",
   "execution_count": 15,
   "id": "286d4bd7",
   "metadata": {},
   "outputs": [
    {
     "name": "stdout",
     "output_type": "stream",
     "text": [
      "The total accuracy on the test set is: 98.07%\n"
     ]
    }
   ],
   "source": [
    "test_acc = batch_accuracy(test_loader, net2, num_steps, batch_size)\n",
    "print(f\"The total accuracy on the test set is: {test_acc * 100:.2f}%\")"
   ]
  },
  {
   "cell_type": "markdown",
   "id": "c7a6820f",
   "metadata": {},
   "source": [
    "### Mapping into CRI"
   ]
  },
  {
   "cell_type": "code",
   "execution_count": 16,
   "id": "b214e90c",
   "metadata": {},
   "outputs": [
    {
     "name": "stdout",
     "output_type": "stream",
     "text": [
      "torch.Size([1000, 784])\n",
      "torch.Size([10, 1000])\n"
     ]
    }
   ],
   "source": [
    "for i, layer in enumerate(net2):\n",
    "    if i % 2 == 0:\n",
    "        print(layer.weight.shape)"
   ]
  },
  {
   "cell_type": "code",
   "execution_count": 17,
   "id": "30db36b6",
   "metadata": {},
   "outputs": [
    {
     "name": "stdout",
     "output_type": "stream",
     "text": [
      "-7424.0\n",
      "5286.0\n"
     ]
    }
   ],
   "source": [
    "# extract weights and bias for torchsnn\n",
    "layers, biases = [], []\n",
    "for i, layer in enumerate(net2):\n",
    "    if i % 2 == 0:\n",
    "        layers.append(layer.weight.detach().cpu().numpy())\n",
    "        biases.append(layer.bias.detach().cpu().numpy())\n",
    "\n",
    "print(np.min(layers[1]))\n",
    "print(np.max(layers[1]))"
   ]
  },
  {
   "cell_type": "code",
   "execution_count": 18,
   "id": "103031dc",
   "metadata": {},
   "outputs": [
    {
     "name": "stdout",
     "output_type": "stream",
     "text": [
      "(1000, 784)\n",
      "(1000,)\n",
      "(10, 1000)\n",
      "(10,)\n"
     ]
    }
   ],
   "source": [
    "for layerNum, layer in enumerate(layers):\n",
    "    print(layer.shape)\n",
    "    print(biases[layerNum].shape)"
   ]
  },
  {
   "cell_type": "code",
   "execution_count": 19,
   "id": "af2ed87f",
   "metadata": {},
   "outputs": [
    {
     "name": "stdout",
     "output_type": "stream",
     "text": [
      "Weights shape:  (1000, 784)\n",
      "constructing Axons\n",
      "Input layer shape(outfeature, infeature):  (1000, 784)\n",
      "axon offset:  784\n",
      "Construct bias axons for first hidden layers: (1000,)\n",
      "number of axons:  1784\n",
      "number of neurons:  0 \n",
      "\n",
      "Weights shape:  (10, 1000)\n",
      "constructing output layer\n",
      "output layer shape(outfeature, infeature):  (10, 1000)\n",
      "instantiate output neurons\n",
      "Construct bias axons for output neurons (10,)\n",
      "number of axons:  1794\n",
      "number of neurons:  1010 \n",
      "\n",
      "output neurons:  ['1000', '1001', '1002', '1003', '1004', '1005', '1006', '1007', '1008', '1009']\n",
      "number of axons:  1794\n",
      "number of neurons:  1010 \n",
      "\n"
     ]
    }
   ],
   "source": [
    "axonsDict = {}\n",
    "neuronsDict = {}\n",
    "outputs = []\n",
    "bias_axon = {}\n",
    "\n",
    "axonOffset = 0\n",
    "currLayerNeuronIdxOffset = 0\n",
    "nextLayerNeuronIdxOffset = 0\n",
    "for layerNum, layer in enumerate(layers):\n",
    "    inFeatures = layer.shape[1]\n",
    "    outFeatures = layer.shape[0]\n",
    "    shape = layer.shape\n",
    "    weight = layer\n",
    "    bias = biases[layerNum]\n",
    "    print(\"Weights shape: \", np.shape(weight))\n",
    "    if (layerNum == 0):\n",
    "        print('constructing Axons')\n",
    "        print(\"Input layer shape(outfeature, infeature): \", weight.shape)\n",
    "        for axonIdx, axon in enumerate(weight.T):\n",
    "            #print(axonIdx)\n",
    "            axonID = 'a'+str(axonIdx)\n",
    "            axonEntry = [(str(postSynapticID), int(synapseWeight)) for postSynapticID, synapseWeight in enumerate(axon) ]\n",
    "            axonsDict[axonID] = axonEntry\n",
    "        axonOffset += inFeatures\n",
    "        print(\"axon offset: \",axonOffset)\n",
    "        #implmenting bias: for each bias add a axon with corresponding weights with synapse (neuron, bias_val)\n",
    "        print('Construct bias axons for first hidden layers:',bias.shape)\n",
    "        for neuronIdx, bias_value in enumerate(bias):\n",
    "            biasAxonID = 'a'+str(neuronIdx + axonOffset)\n",
    "            biasAxonEntry = [(str(neuronIdx),int(bias_value))]\n",
    "            axonsDict[biasAxonID] = biasAxonEntry\n",
    "        print(\"number of axons: \", len(axonsDict))\n",
    "        print(\"number of neurons: \", len(neuronsDict),\"\\n\")\n",
    "        \n",
    "    elif (layerNum == len(layers)-1):\n",
    "        print('constructing output layer')\n",
    "        nextLayerNeuronIdxOffset += inFeatures\n",
    "        print(\"output layer shape(outfeature, infeature): \", weight.shape)\n",
    "        for baseNeuronIdx, neuron in enumerate(weight.T):\n",
    "            neuronID = str(baseNeuronIdx+currLayerNeuronIdxOffset)\n",
    "            neuronEntry = [(str(basePostSynapticID+nextLayerNeuronIdxOffset), int(synapseWeight)) for basePostSynapticID, synapseWeight in enumerate(neuron) if synapseWeight != 0]\n",
    "            neuronsDict[neuronID] = neuronEntry\n",
    "            #print(neuronID)\n",
    "        currLayerNeuronIdxOffset += inFeatures\n",
    "        #instantiate the output neurons\n",
    "        print('instantiate output neurons')\n",
    "        for baseNeuronIdx in range(outFeatures):\n",
    "            neuronID = str(baseNeuronIdx+nextLayerNeuronIdxOffset)\n",
    "            neuronsDict[neuronID] = []\n",
    "            outputs.append(neuronID)\n",
    "            #print(neuronID)\n",
    "        #implmenting bias: for each bias add a axon with corresponding weights with synapse (neuron, bias_val)\n",
    "        print('Construct bias axons for output neurons',bias.shape)\n",
    "        axonOffset += inFeatures\n",
    "        for neuronIdx, bias_value in enumerate(bias):\n",
    "            biasAxonID = 'a'+str(neuronIdx + axonOffset)\n",
    "            biasAxonEntry = [(str(neuronIdx+nextLayerNeuronIdxOffset),int(bias_value))]\n",
    "            axonsDict[biasAxonID] = biasAxonEntry\n",
    "        print(\"number of axons: \", len(axonsDict))\n",
    "        print(\"number of neurons: \", len(neuronsDict),\"\\n\")\n",
    "            \n",
    "    else:\n",
    "        print('constructing hidden layer')\n",
    "        nextLayerNeuronIdxOffset += inFeatures\n",
    "        for baseNeuronIdx, neuron in enumerate(weight.T): #SHOULD THIS BE A TRANSPOSE\n",
    "            neuronID = str(baseNeuronIdx+currLayerNeuronIdxOffset)\n",
    "            neuronEntry = [(str(basePostSynapticID+nextLayerNeuronIdxOffset), int(synapseWeight)) for basePostSynapticID, synapseWeight in enumerate(neuron) if synapseWeight != 0 ]\n",
    "            neuronsDict[neuronID] = neuronEntry\n",
    "            #print(neuronID)\n",
    "        currLayerNeuronIdxOffset += inFeatures\n",
    "        axonOffset += inFeatures\n",
    "        print(\"axon offset: \",axonOffset)\n",
    "        #implmenting bias: for each bias add a axon with corresponding weights with synapse (neuron, bias_val)\n",
    "        print('Construct bias axons for hidden layers:',bias.shape)\n",
    "        for neuronIdx, bias_value in enumerate(bias):\n",
    "            biasAxonID = 'a'+str(neuronIdx + axonOffset)\n",
    "            biasAxonEntry = [(str(neuronIdx+nextLayerNeuronIdxOffset),int(bias_value))]\n",
    "            axonsDict[biasAxonID] = biasAxonEntry\n",
    "        print(\"number of axons: \", len(axonsDict))\n",
    "        print(\"number of neurons: \", len(neuronsDict),\"\\n\")\n",
    "        \n",
    "print(\"output neurons: \", outputs)\n",
    "print(\"number of axons: \", len(axonsDict))\n",
    "print(\"number of neurons: \", len(neuronsDict),\"\\n\")"
   ]
  },
  {
   "cell_type": "code",
   "execution_count": 20,
   "id": "7687e151",
   "metadata": {
    "scrolled": true
   },
   "outputs": [
    {
     "name": "stdout",
     "output_type": "stream",
     "text": [
      "Number of axons:  1794\n",
      "Total number of connections between axon and neuron:  785010\n",
      "Max fan out of axon:  1000\n",
      "---\n",
      "Number of neurons:  1010\n",
      "Total number of connections between hidden and output layers:  9997\n",
      "Max fan out of neuron:  10\n"
     ]
    }
   ],
   "source": [
    "print(\"Number of axons: \",len(axonsDict))\n",
    "totalAxonSyn = 0\n",
    "maxFan = 0\n",
    "for key in axonsDict.keys():\n",
    "    totalAxonSyn += len(axonsDict[key])\n",
    "    if len(axonsDict[key]) > maxFan:\n",
    "        maxFan = len(axonsDict[key])\n",
    "print(\"Total number of connections between axon and neuron: \", totalAxonSyn)\n",
    "print(\"Max fan out of axon: \", maxFan)\n",
    "print('---')\n",
    "print(\"Number of neurons: \", len(neuronsDict))\n",
    "totalSyn = 0\n",
    "maxFan = 0\n",
    "for key in neuronsDict.keys():\n",
    "    totalSyn += len(neuronsDict[key])\n",
    "    if len(neuronsDict[key]) > maxFan:\n",
    "        maxFan = len(neuronsDict[key])\n",
    "print(\"Total number of connections between hidden and output layers: \", totalSyn)\n",
    "print(\"Max fan out of neuron: \", maxFan)"
   ]
  },
  {
   "cell_type": "code",
   "execution_count": 21,
   "id": "edaa22f7",
   "metadata": {},
   "outputs": [
    {
     "name": "stderr",
     "output_type": "stream",
     "text": [
      "WARNING:root:partitioning library failed to load, multicore disabled\n"
     ]
    }
   ],
   "source": [
    "from l2s.api import CRI_network\n",
    "import cri_simulations"
   ]
  },
  {
   "cell_type": "code",
   "execution_count": null,
   "id": "09a46816",
   "metadata": {},
   "outputs": [
    {
     "name": "stdout",
     "output_type": "stream",
     "text": [
      "added axons to connectome\n",
      "added neurons to connectome\n",
      "added axon synpases\n",
      "added neuron synapses\n",
      "generated Connectome\n"
     ]
    }
   ],
   "source": [
    "config = {}\n",
    "config['neuron_type'] = \"I&F\"\n",
    "config['global_neuron_params'] = {}\n",
    "config['global_neuron_params']['v_thr'] = 9*10**4\n",
    "#softwareNetwork = CRI_network(axons=axonsDict,connections=neuronsDict,config=config,target='simpleSim', outputs = outputs)\n",
    "hardwareNetwork = CRI_network(axons=axonsDict,connections=neuronsDict,config=config,target='CRI', outputs = outputs,simDump = False)"
   ]
  },
  {
   "cell_type": "code",
   "execution_count": null,
   "id": "d4e2355e",
   "metadata": {},
   "outputs": [],
   "source": [
    "def input_to_CRI(currentInput):\n",
    "    num_steps = 10\n",
    "    currentInput = data.view(data.size(0), -1)\n",
    "    batch = []\n",
    "    n = 0\n",
    "    for element in currentInput:\n",
    "        timesteps = []\n",
    "        rateEnc = spikegen.rate(element,num_steps)\n",
    "        rateEnc = rateEnc.detach().cpu().numpy()\n",
    "        for element in rateEnc:\n",
    "            currInput = ['a'+str(idx) for idx,axon in enumerate(element) if axon != 0]\n",
    "            biasInput = ['a'+str(idx) for idx in range(784,len(axonsDict))]\n",
    "#             timesteps.append(currInput)\n",
    "#             timesteps.append(biasInput)\n",
    "            timesteps.append(currInput+biasInput)\n",
    "        batch.append(timesteps)\n",
    "    return batch"
   ]
  },
  {
   "cell_type": "code",
   "execution_count": null,
   "id": "b7bf4920",
   "metadata": {},
   "outputs": [],
   "source": [
    "def run_CRI(inputList,output_offset):\n",
    "    predictions = []\n",
    "    total_time_cri = 0\n",
    "    #each image\n",
    "    for currInput in inputList:\n",
    "        #reset the membrane potential to zero\n",
    "        softwareNetwork.simpleSim.initialize_sim_vars(len(neuronsDict))\n",
    "        spikeRate = [0]*10\n",
    "        #each time step\n",
    "        for slice in currInput:\n",
    "            start_time = time.time()\n",
    "            swSpike = softwareNetwork.step(slice, membranePotential=False)\n",
    "            end_time = time.time()\n",
    "            total_time_cri = total_time_cri + end_time-start_time\n",
    "            for spike in swSpike:\n",
    "                spikeIdx = int(spike) - output_offset \n",
    "                try: \n",
    "                    if spikeIdx >= 0: \n",
    "                        spikeRate[spikeIdx] += 1 \n",
    "                except:\n",
    "                    print(\"SpikeIdx: \", spikeIdx,\"\\n SpikeRate:\",spikeRate )\n",
    "        predictions.append(spikeRate.index(max(spikeRate)))\n",
    "    print(f\"Total simulation execution time: {total_time_cri:.5f} s\")\n",
    "    return(predictions)"
   ]
  },
  {
   "cell_type": "code",
   "execution_count": null,
   "id": "3107f752",
   "metadata": {},
   "outputs": [],
   "source": [
    "def run_CRI_hw(inputList,output_offset):\n",
    "    predictions = []\n",
    "    #each image\n",
    "    total_time_cri = 0\n",
    "    for currInput in inputList:\n",
    "        #initiate the softwareNetwork for each image\n",
    "        cri_simulations.FPGA_Execution.fpga_controller.clear(len(neuronsDict), False, 0)  ##Num_neurons, simDump, coreOverride\n",
    "        spikeRate = [0]*10\n",
    "        #each time step\n",
    "        for slice in currInput:\n",
    "            start_time = time.time()\n",
    "            hwSpike = hardwareNetwork.step(slice, membranePotential=False)\n",
    "#             print(\"Mem:\",mem)\n",
    "            end_time = time.time()\n",
    "            total_time_cri = total_time_cri + end_time-start_time\n",
    "            print(hwSpike)\n",
    "            for spike in hwSpike:\n",
    "                print(int(spike))\n",
    "                spikeIdx = int(spike) - output_offset \n",
    "                if spikeIdx >= 0: \n",
    "                    spikeRate[spikeIdx] += 1 \n",
    "        predictions.append(spikeRate.index(max(spikeRate))) \n",
    "    print(f\"Total execution time CRIFPGA: {total_time_cri:.5f} s\")\n",
    "    return(predictions)"
   ]
  },
  {
   "cell_type": "code",
   "execution_count": null,
   "id": "7d039e39",
   "metadata": {},
   "outputs": [],
   "source": [
    "def run_CRI_hw_cont(inputList,output_offset):\n",
    "    predictions = []\n",
    "    #each image\n",
    "    total_time_cri = 0\n",
    "    for currInput in inputList:\n",
    "        #initiate the softwareNetwork for each image\n",
    "        cri_simulations.FPGA_Execution.fpga_controller.clear(len(neuronsDict), False, 0)  ##Num_neurons, simDump, coreOverride\n",
    "        spikeRate = [0]*10\n",
    "        #each time step\n",
    "        spikes, latency, access = hardwareNetwork.run_cont(currInput)\n",
    "        predictions.append(spikeRate.index(max(spikes))) \n",
    "    print(f\"Total execution time CRIFPGA: {total_time_cri:.5f} s\")\n",
    "    return(predictions)"
   ]
  },
  {
   "cell_type": "code",
   "execution_count": null,
   "id": "2c78aec3",
   "metadata": {
    "scrolled": true
   },
   "outputs": [],
   "source": [
    "total = 0\n",
    "correct = 0\n",
    "cri_correct = 0\n",
    "cri_correct_hw = 0\n",
    "batch_size = 128\n",
    "# drop_last switched to False to keep all samples\n",
    "test_loader = DataLoader(mnist_test, batch_size=batch_size, shuffle=True, drop_last=True)\n",
    "output_offset = int(outputs[0])\n",
    "with torch.no_grad():\n",
    "    net2.eval()\n",
    "    \n",
    "    train_loader = iter(train_loader)\n",
    "    count = 0\n",
    "    for data, targets in test_loader:\n",
    "        data = data.to(device)\n",
    "        targets = targets.to(device)\n",
    "        input = input_to_CRI(data)\n",
    "#         criPred = torch.tensor(run_CRI(input,output_offset)).to(device)\n",
    "#         cri_correct += (criPred == targets).sum().item()\n",
    "        criPred_hw = torch.tensor(run_CRI_hw_cont(input,output_offset)).to(device)\n",
    "        cri_correct_hw += (criPred_hw == targets).sum().item()\n",
    "        snn_bTime = time.time()\n",
    "        test_spk, _ = forward_pass(net, num_steps, data)\n",
    "        snn_eTime = time.time()\n",
    "\n",
    "        # calculate total accuracy\n",
    "        _, predicted = test_spk.sum(dim=0).max(1)\n",
    "        total += targets.size(0)\n",
    "\n",
    "        cri_correct_hw += (criPred_hw == targets).sum().item()\n",
    "        count += 1\n",
    "        if count == 12:\n",
    "            break"
   ]
  },
  {
   "cell_type": "code",
   "execution_count": null,
   "id": "a784348f",
   "metadata": {},
   "outputs": [],
   "source": [
    "# print(f\"Totoal execution time: {end_time-start_time:.2f} s\")\n",
    "# print(f\"Total correctly classified test set images for TorchSNN: {correct}/{total}\")\n",
    "print(f\"Total correctly classified test set images for CRI: {cri_correct}/{total}\")\n",
    "print(f\"Test Set Accuracy for TorchSNN: {100 * correct / total:.2f}%\")\n",
    "print(f\"Test Set Accuracy for CRI: {100 * cri_correct / total:.2f}%\")"
   ]
  },
  {
   "cell_type": "code",
   "execution_count": null,
   "id": "349797c6",
   "metadata": {},
   "outputs": [],
   "source": []
  }
 ],
 "metadata": {
  "kernelspec": {
   "display_name": "Python 3 (ipykernel)",
   "language": "python",
   "name": "python3"
  },
  "language_info": {
   "codemirror_mode": {
    "name": "ipython",
    "version": 3
   },
   "file_extension": ".py",
   "mimetype": "text/x-python",
   "name": "python",
   "nbconvert_exporter": "python",
   "pygments_lexer": "ipython3",
   "version": "3.9.16"
  },
  "vscode": {
   "interpreter": {
    "hash": "782c4fc05a7b0c5006502edc276c124083adbfff5066531c0f613c007bf9a5ff"
   }
  }
 },
 "nbformat": 4,
 "nbformat_minor": 5
}
