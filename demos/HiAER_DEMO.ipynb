{
 "cells": [
  {
   "cell_type": "markdown",
   "id": "7178e197-4e6a-49cc-aa0e-a94f22e7db11",
   "metadata": {},
   "source": [
    "### Conversion Pipeline\n",
    "```python\n",
    "#Initialize SnnTorch/SpikingJelly model\n",
    "net = SNN(T=num_steps)\n",
    "\n",
    "#Train the SNN\n",
    "...\n",
    "\n",
    "#Fold the BN layer \n",
    "bn = BN_Folder() \n",
    "net_bn = bn.fold(net)\n",
    "\n",
    "#Weight, Bias Quantization \n",
    "qn = Quantize_Network() \n",
    "net_quan = qn.quantize(net_bn)\n",
    "\n",
    "#Convert to HiAER-Spike Dictionaries\n",
    "num_steps = 4\n",
    "input_layer = 0\n",
    "output_layer = 11\n",
    "input_size = (3, 32, 32)\n",
    "backend = 'snnTorch'\n",
    "threshold = qn.v_threshold\n",
    "\n",
    "cn = CRI_Converter(num_steps = num_steps, input_layer = input_layer, output_layer = output_layer, input_shape = input_shape backend=backend, v_threshold = v_threshold)\n",
    "cn.layer_converter(net_quan)\n",
    "\n",
    "```"
   ]
  },
  {
   "cell_type": "code",
   "execution_count": null,
   "id": "734967c3-3f35-4102-96b2-e0e1ecf630eb",
   "metadata": {},
   "outputs": [],
   "source": [
    "### Training SNN with spikingjelly\n",
    "from spikingjelly.activation_based import neuron, layer, surrogate_function\n",
    "\n",
    "class SNN(nn.module):\n",
    "    def __init__(self, tau = 2.0):\n",
    "        self.flatten = layer.Flatten()\n",
    "        self.linear = layer.Linear(28 * 28, 10, bias=False),\n",
    "        self.lif = neuron.LIFNode(tau=tau, surrogate_function=surrogate.ATan())\n",
    "    def forward(self, x):\n",
    "        x = self.flatten(x)\n",
    "        x = self.linear(x)\n",
    "        x = self.lif(x)\n",
    "        return x\n",
    "\n",
    "# Prepare the dataset\n",
    "mnist_train = datasets.MNIST(args.data_path, train=True, download=True, transform=transforms.Compose(\n",
    "    [transforms.ToTensor()]))\n",
    "mnist_test = datasets.MNIST(args.data_path, train=False, download=True, transform=transforms.Compose(\n",
    "    [transforms.ToTensor()]))\n",
    "\n",
    "...\n",
    "\n",
    "### Using command line to train a 2-layer feedforward model \n",
    "python HiAER_demo.py --train -b 128 -T 4 --lr 1e-1 --epoch 20 --encoder\n",
    "\n",
    "        "
   ]
  },
  {
   "cell_type": "markdown",
   "id": "b188d380-b4d3-4e2e-afe8-4b5bb12d8b00",
   "metadata": {},
   "source": [
    "### Running it on HiAER-Spike \n",
    "\n",
    "```python\n",
    "#Define a configuration dictionary\n",
    "config = {}\n",
    "config['neuron_type'] = \"I&F\"\n",
    "config['global_neuron_params'] = {}\n",
    "config['global_neuron_params']['v_thr'] = qn.v_threshold\n",
    "\n",
    "#Initialize a HiAER-Spike network\n",
    "hardwareNetwork = CRI_network(axons=cn.axon_dict,connections=cn.neuron_dict,config=config,target='CRI', outputs = cn.output_neurons, coreID=1)\n",
    "softwareNetwork = CRI_network(axons=cn.axon_dict,connections=cn.neuron_dict,config=config, target='simpleSim', outputs = cn.output_neurons)\n",
    "\n",
    "#Run the HiAER-Spike network on test dataset\n",
    "cn.run(hardwareNetwork, loss_func, test_loader, 'hardware')\n",
    "cn.run(softwareNetwork, loss_func, test_loader, 'software')    \n",
    "\n",
    "```"
   ]
  },
  {
   "cell_type": "code",
   "execution_count": 4,
   "id": "974b650c-dcd8-47c3-bfbb-6011dc68ca06",
   "metadata": {
    "tags": []
   },
   "outputs": [
    {
     "data": {
      "text/plain": [
       "array([[-1, -1, -1, -1, -1],\n",
       "       [-1,  0,  1,  2, -1],\n",
       "       [-1,  3,  4,  5, -1],\n",
       "       [-1, -1, -1, -1, -1]])"
      ]
     },
     "execution_count": 4,
     "metadata": {},
     "output_type": "execute_result"
    }
   ],
   "source": [
    "import numpy as np\n",
    "\n",
    "def pad_with(vector, pad_width, iaxis, kwargs):\n",
    "    pad_value = kwargs.get('padder', 10)\n",
    "    vector[:pad_width[0]] = pad_value\n",
    "    vector[-pad_width[1]:] = pad_value\n",
    "a = np.arange(6)\n",
    "a = a.reshape((2, 3))\n",
    "np.pad(a, 1, pad_with, padder=-1)"
   ]
  },
  {
   "cell_type": "code",
   "execution_count": null,
   "id": "2b8743e2-8fbe-42f4-88f1-02d29d84d8c7",
   "metadata": {},
   "outputs": [],
   "source": []
  }
 ],
 "metadata": {
  "kernelspec": {
   "display_name": "Python 3 (ipykernel)",
   "language": "python",
   "name": "python3"
  },
  "language_info": {
   "codemirror_mode": {
    "name": "ipython",
    "version": 3
   },
   "file_extension": ".py",
   "mimetype": "text/x-python",
   "name": "python",
   "nbconvert_exporter": "python",
   "pygments_lexer": "ipython3",
   "version": "3.9.16"
  }
 },
 "nbformat": 4,
 "nbformat_minor": 5
}
